{
 "cells": [
  {
   "cell_type": "markdown",
   "metadata": {
    "Collapsed": "false"
   },
   "source": [
    "# Clean Volume Data\n",
    "After investigating the traffic sensor data in aadt19.ipynb, clean up the entries with issues\n",
    "<br>\n",
    "Date: Jan 21, 2020"
   ]
  },
  {
   "cell_type": "code",
   "execution_count": 52,
   "metadata": {
    "Collapsed": "false"
   },
   "outputs": [],
   "source": [
    "import pandas as pd\n",
    "import seaborn as sns\n",
    "import matplotlib.pyplot as plt"
   ]
  },
  {
   "cell_type": "code",
   "execution_count": 2,
   "metadata": {
    "Collapsed": "false"
   },
   "outputs": [],
   "source": [
    "atlasdir = \"S:/AdminGroups/PerformanceProgramming/RegionalTransportationPerformanceMeasures/KeyDatasets/IDOTExpresswayAtlasData/2019/\""
   ]
  },
  {
   "cell_type": "markdown",
   "metadata": {
    "Collapsed": "false"
   },
   "source": [
    "aadt values stem from dow_date.csv in vmt_aggregation.py, so we can create a new version of dow_date.csv and then proceed from there <br>\n",
    "The AASHTO calculation treats every day of the week and month the same regardless of how many days are actually present, so if the data is unreliable we should remove it.  "
   ]
  },
  {
   "cell_type": "code",
   "execution_count": 3,
   "metadata": {
    "Collapsed": "false"
   },
   "outputs": [],
   "source": [
    "dowdate = pd.read_csv(atlasdir + \"2019_grouped_files/dow_date.csv\")"
   ]
  },
  {
   "cell_type": "code",
   "execution_count": 79,
   "metadata": {
    "Collapsed": "false"
   },
   "outputs": [
    {
     "data": {
      "text/plain": [
       "438051"
      ]
     },
     "execution_count": 79,
     "metadata": {},
     "output_type": "execute_result"
    }
   ],
   "source": [
    "len(dowdate)"
   ]
  },
  {
   "cell_type": "code",
   "execution_count": 84,
   "metadata": {
    "Collapsed": "false"
   },
   "outputs": [],
   "source": [
    "dowdate0 = dowdate[dowdate['volume'] != 0]\n",
    "# exclude where whole day has 0 volume (error or atypical day)"
   ]
  },
  {
   "cell_type": "code",
   "execution_count": 85,
   "metadata": {
    "Collapsed": "false"
   },
   "outputs": [
    {
     "data": {
      "text/plain": [
       "376030"
      ]
     },
     "execution_count": 85,
     "metadata": {},
     "output_type": "execute_result"
    }
   ],
   "source": [
    "len(dowdate0)"
   ]
  },
  {
   "cell_type": "markdown",
   "metadata": {
    "Collapsed": "false"
   },
   "source": [
    "## Remove days with low counts \n",
    "Volume data was not collected at the normal frequency on these days for ~all sensors (normal is >4000 records)\n",
    "* count mean less than 1000: 1/17, 2/3, 4/30\n",
    "* count mean between 1000-3000: 2/1, 4/11, 5/1, 6/30, 10/21"
   ]
  },
  {
   "cell_type": "code",
   "execution_count": 4,
   "metadata": {
    "Collapsed": "false"
   },
   "outputs": [],
   "source": [
    "lowdates = ['2019-01-17','2019-02-03','2019-04-30','2019-02-01','2019-04-11','2019-05-01','2019-06-30','2019-10-21']"
   ]
  },
  {
   "cell_type": "code",
   "execution_count": 86,
   "metadata": {
    "Collapsed": "false"
   },
   "outputs": [
    {
     "data": {
      "text/html": [
       "<div>\n",
       "<style scoped>\n",
       "    .dataframe tbody tr th:only-of-type {\n",
       "        vertical-align: middle;\n",
       "    }\n",
       "\n",
       "    .dataframe tbody tr th {\n",
       "        vertical-align: top;\n",
       "    }\n",
       "\n",
       "    .dataframe thead th {\n",
       "        text-align: right;\n",
       "    }\n",
       "</style>\n",
       "<table border=\"1\" class=\"dataframe\">\n",
       "  <thead>\n",
       "    <tr style=\"text-align: right;\">\n",
       "      <th></th>\n",
       "      <th>date</th>\n",
       "      <th>dow</th>\n",
       "      <th>DetectorId</th>\n",
       "      <th>volume</th>\n",
       "      <th>DetectorId1</th>\n",
       "    </tr>\n",
       "  </thead>\n",
       "  <tbody>\n",
       "    <tr>\n",
       "      <th>1</th>\n",
       "      <td>2019-01-17</td>\n",
       "      <td>3</td>\n",
       "      <td>2</td>\n",
       "      <td>13.0</td>\n",
       "      <td>15</td>\n",
       "    </tr>\n",
       "    <tr>\n",
       "      <th>2</th>\n",
       "      <td>2019-01-17</td>\n",
       "      <td>3</td>\n",
       "      <td>3</td>\n",
       "      <td>9.0</td>\n",
       "      <td>15</td>\n",
       "    </tr>\n",
       "    <tr>\n",
       "      <th>3</th>\n",
       "      <td>2019-01-17</td>\n",
       "      <td>3</td>\n",
       "      <td>4</td>\n",
       "      <td>47.0</td>\n",
       "      <td>15</td>\n",
       "    </tr>\n",
       "    <tr>\n",
       "      <th>4</th>\n",
       "      <td>2019-01-17</td>\n",
       "      <td>3</td>\n",
       "      <td>16</td>\n",
       "      <td>5.0</td>\n",
       "      <td>15</td>\n",
       "    </tr>\n",
       "    <tr>\n",
       "      <th>5</th>\n",
       "      <td>2019-01-17</td>\n",
       "      <td>3</td>\n",
       "      <td>17</td>\n",
       "      <td>1.0</td>\n",
       "      <td>15</td>\n",
       "    </tr>\n",
       "  </tbody>\n",
       "</table>\n",
       "</div>"
      ],
      "text/plain": [
       "         date  dow  DetectorId  volume  DetectorId1\n",
       "1  2019-01-17    3           2    13.0           15\n",
       "2  2019-01-17    3           3     9.0           15\n",
       "3  2019-01-17    3           4    47.0           15\n",
       "4  2019-01-17    3          16     5.0           15\n",
       "5  2019-01-17    3          17     1.0           15"
      ]
     },
     "execution_count": 86,
     "metadata": {},
     "output_type": "execute_result"
    }
   ],
   "source": [
    "dowdate0.head()"
   ]
  },
  {
   "cell_type": "code",
   "execution_count": 87,
   "metadata": {
    "Collapsed": "false"
   },
   "outputs": [],
   "source": [
    "dowdate1 = dowdate0[~dowdate0.date.isin(lowdates)]"
   ]
  },
  {
   "cell_type": "code",
   "execution_count": 88,
   "metadata": {
    "Collapsed": "false"
   },
   "outputs": [
    {
     "data": {
      "text/plain": [
       "376030"
      ]
     },
     "execution_count": 88,
     "metadata": {},
     "output_type": "execute_result"
    }
   ],
   "source": [
    "len(dowdate0)"
   ]
  },
  {
   "cell_type": "code",
   "execution_count": 89,
   "metadata": {
    "Collapsed": "false"
   },
   "outputs": [
    {
     "data": {
      "text/plain": [
       "364930"
      ]
     },
     "execution_count": 89,
     "metadata": {},
     "output_type": "execute_result"
    }
   ],
   "source": [
    "len(dowdate1)"
   ]
  },
  {
   "cell_type": "markdown",
   "metadata": {
    "Collapsed": "false"
   },
   "source": [
    "## Remove low count days for specific sensors only\n",
    "This document https://www.fhwa.dot.gov/policyinformation/tmguide/tmg_fhwa_pl_17_003.pdf says that only complete days of data are included in the calculation. <br>\n",
    "Most sensors have ~4296 readings each day (20 second collection frequency).  Remove sensor/day combos that have < 2160 readings (data for half the day, or 40 second interval average)."
   ]
  },
  {
   "cell_type": "code",
   "execution_count": 90,
   "metadata": {
    "Collapsed": "false"
   },
   "outputs": [
    {
     "data": {
      "text/plain": [
       "2302     258\n",
       "2301     258\n",
       "2305     258\n",
       "2307     258\n",
       "2306     258\n",
       "2304     258\n",
       "2309     254\n",
       "2303     232\n",
       "2308     232\n",
       "2202     166\n",
       "2207     166\n",
       "2203     166\n",
       "2204     166\n",
       "2205     166\n",
       "2200     163\n",
       "2206     153\n",
       "2208     151\n",
       "2201     148\n",
       "5711       5\n",
       "9031       5\n",
       "5909       5\n",
       "5606       5\n",
       "9102       5\n",
       "8602       5\n",
       "8502       5\n",
       "9601       5\n",
       "9900       3\n",
       "9103       2\n",
       "9801       2\n",
       "9032       2\n",
       "9101       2\n",
       "9030       2\n",
       "9104       2\n",
       "9029       2\n",
       "6161       2\n",
       "2011       1\n",
       "9701       1\n",
       "12345      1\n",
       "Name: DetectorId, dtype: int64"
      ]
     },
     "execution_count": 90,
     "metadata": {},
     "output_type": "execute_result"
    }
   ],
   "source": [
    "dowdate1[dowdate1['DetectorId1'] < 2160].DetectorId.value_counts()\n",
    "# Note that 2301-2201 are not in the lookup table/report anyway"
   ]
  },
  {
   "cell_type": "code",
   "execution_count": 91,
   "metadata": {
    "Collapsed": "false"
   },
   "outputs": [],
   "source": [
    "dowdate2 = dowdate1[dowdate1['DetectorId1'] >= 2160]"
   ]
  },
  {
   "cell_type": "code",
   "execution_count": 92,
   "metadata": {
    "Collapsed": "false"
   },
   "outputs": [
    {
     "data": {
      "text/plain": [
       "364930"
      ]
     },
     "execution_count": 92,
     "metadata": {},
     "output_type": "execute_result"
    }
   ],
   "source": [
    "len(dowdate1)"
   ]
  },
  {
   "cell_type": "code",
   "execution_count": 93,
   "metadata": {
    "Collapsed": "false"
   },
   "outputs": [
    {
     "data": {
      "text/plain": [
       "361157"
      ]
     },
     "execution_count": 93,
     "metadata": {},
     "output_type": "execute_result"
    }
   ],
   "source": [
    "len(dowdate2)"
   ]
  },
  {
   "cell_type": "markdown",
   "metadata": {
    "Collapsed": "false"
   },
   "source": [
    "## Note stations with low number of days with data\n",
    "Not removing for now because may have been under construction the rest of the year or other explanation.  For context, there are 267 days in the dataset.\n",
    "* Detector 2008 only has 37 days with data, and 9900 has 60 days with data\n",
    "* non-count station sensors with lower number of days with data: 2833, 5606, 8602, 9031, 5909, 9601, 5711, 9701"
   ]
  },
  {
   "cell_type": "markdown",
   "metadata": {
    "Collapsed": "false"
   },
   "source": [
    "## Filter out very high values\n",
    "Volume distribution is very positively skewed.  <br>\n",
    "Our VMT data from last year did not have any volumes over 150,000 <br>\n",
    "IDOT Traffic Count Database System has tristate NB at 51st 2018 AADT at 156k <br>\n",
    "set first max cutoff at 200,000"
   ]
  },
  {
   "cell_type": "code",
   "execution_count": 94,
   "metadata": {
    "Collapsed": "false"
   },
   "outputs": [
    {
     "data": {
      "text/plain": [
       "count    3.611570e+05\n",
       "mean     2.398382e+06\n",
       "std      2.881250e+07\n",
       "min      1.000000e+00\n",
       "25%      7.431000e+03\n",
       "50%      1.838900e+04\n",
       "75%      2.855100e+04\n",
       "max      1.035125e+09\n",
       "Name: volume, dtype: float64"
      ]
     },
     "execution_count": 94,
     "metadata": {},
     "output_type": "execute_result"
    }
   ],
   "source": [
    "dowdate2.volume.describe()"
   ]
  },
  {
   "cell_type": "code",
   "execution_count": 95,
   "metadata": {
    "Collapsed": "false"
   },
   "outputs": [
    {
     "data": {
      "text/html": [
       "<div>\n",
       "<style scoped>\n",
       "    .dataframe tbody tr th:only-of-type {\n",
       "        vertical-align: middle;\n",
       "    }\n",
       "\n",
       "    .dataframe tbody tr th {\n",
       "        vertical-align: top;\n",
       "    }\n",
       "\n",
       "    .dataframe thead th {\n",
       "        text-align: right;\n",
       "    }\n",
       "</style>\n",
       "<table border=\"1\" class=\"dataframe\">\n",
       "  <thead>\n",
       "    <tr style=\"text-align: right;\">\n",
       "      <th></th>\n",
       "      <th>date</th>\n",
       "      <th>dow</th>\n",
       "      <th>DetectorId</th>\n",
       "      <th>volume</th>\n",
       "      <th>DetectorId1</th>\n",
       "    </tr>\n",
       "  </thead>\n",
       "  <tbody>\n",
       "    <tr>\n",
       "      <th>1632</th>\n",
       "      <td>2019-01-18</td>\n",
       "      <td>4</td>\n",
       "      <td>2</td>\n",
       "      <td>3334.0</td>\n",
       "      <td>4296</td>\n",
       "    </tr>\n",
       "    <tr>\n",
       "      <th>1633</th>\n",
       "      <td>2019-01-18</td>\n",
       "      <td>4</td>\n",
       "      <td>3</td>\n",
       "      <td>9827.0</td>\n",
       "      <td>4296</td>\n",
       "    </tr>\n",
       "    <tr>\n",
       "      <th>1634</th>\n",
       "      <td>2019-01-18</td>\n",
       "      <td>4</td>\n",
       "      <td>4</td>\n",
       "      <td>23802.0</td>\n",
       "      <td>4296</td>\n",
       "    </tr>\n",
       "    <tr>\n",
       "      <th>1635</th>\n",
       "      <td>2019-01-18</td>\n",
       "      <td>4</td>\n",
       "      <td>16</td>\n",
       "      <td>8437.0</td>\n",
       "      <td>4296</td>\n",
       "    </tr>\n",
       "    <tr>\n",
       "      <th>1636</th>\n",
       "      <td>2019-01-18</td>\n",
       "      <td>4</td>\n",
       "      <td>17</td>\n",
       "      <td>3681.0</td>\n",
       "      <td>4296</td>\n",
       "    </tr>\n",
       "  </tbody>\n",
       "</table>\n",
       "</div>"
      ],
      "text/plain": [
       "            date  dow  DetectorId   volume  DetectorId1\n",
       "1632  2019-01-18    4           2   3334.0         4296\n",
       "1633  2019-01-18    4           3   9827.0         4296\n",
       "1634  2019-01-18    4           4  23802.0         4296\n",
       "1635  2019-01-18    4          16   8437.0         4296\n",
       "1636  2019-01-18    4          17   3681.0         4296"
      ]
     },
     "execution_count": 95,
     "metadata": {},
     "output_type": "execute_result"
    }
   ],
   "source": [
    "dowdate2.head()"
   ]
  },
  {
   "cell_type": "code",
   "execution_count": 97,
   "metadata": {
    "Collapsed": "false"
   },
   "outputs": [
    {
     "data": {
      "text/plain": [
       "<matplotlib.axes._subplots.AxesSubplot at 0x28cb94ce710>"
      ]
     },
     "execution_count": 97,
     "metadata": {},
     "output_type": "execute_result"
    },
    {
     "data": {
      "image/png": "[encoded data removed]",
      "text/plain": [
       "<Figure size 432x288 with 1 Axes>"
      ]
     },
     "metadata": {
      "needs_background": "light"
     },
     "output_type": "display_data"
    }
   ],
   "source": [
    "sns.distplot(dowdate2[(dowdate2['volume'] != 0)].volume, bins=100, rug=True, kde=False)"
   ]
  },
  {
   "cell_type": "code",
   "execution_count": 99,
   "metadata": {
    "Collapsed": "false"
   },
   "outputs": [],
   "source": [
    "dowdate3 = dowdate2[dowdate2['volume'] <= 200000]"
   ]
  },
  {
   "cell_type": "code",
   "execution_count": 101,
   "metadata": {
    "Collapsed": "false"
   },
   "outputs": [
    {
     "data": {
      "text/plain": [
       "361157"
      ]
     },
     "execution_count": 101,
     "metadata": {},
     "output_type": "execute_result"
    }
   ],
   "source": [
    "len(dowdate2)"
   ]
  },
  {
   "cell_type": "code",
   "execution_count": 100,
   "metadata": {
    "Collapsed": "false"
   },
   "outputs": [
    {
     "data": {
      "text/plain": [
       "357340"
      ]
     },
     "execution_count": 100,
     "metadata": {},
     "output_type": "execute_result"
    }
   ],
   "source": [
    "len(dowdate3)"
   ]
  },
  {
   "cell_type": "code",
   "execution_count": 103,
   "metadata": {
    "Collapsed": "false"
   },
   "outputs": [
    {
     "data": {
      "text/plain": [
       "<matplotlib.axes._subplots.AxesSubplot at 0x28cd2aeffd0>"
      ]
     },
     "execution_count": 103,
     "metadata": {},
     "output_type": "execute_result"
    },
    {
     "data": {
      "image/png": "[encoded data removed]",
      "text/plain": [
       "<Figure size 432x288 with 1 Axes>"
      ]
     },
     "metadata": {
      "needs_background": "light"
     },
     "output_type": "display_data"
    }
   ],
   "source": [
    "sns.distplot(dowdate3.volume, bins=100, rug=True, kde=False)"
   ]
  },
  {
   "cell_type": "code",
   "execution_count": 104,
   "metadata": {
    "Collapsed": "false"
   },
   "outputs": [
    {
     "data": {
      "text/plain": [
       "count    357340.000000\n",
       "mean      23876.825958\n",
       "std       23699.237332\n",
       "min           1.000000\n",
       "25%        7360.000000\n",
       "50%       18086.500000\n",
       "75%       28123.000000\n",
       "max      199098.000000\n",
       "Name: volume, dtype: float64"
      ]
     },
     "execution_count": 104,
     "metadata": {},
     "output_type": "execute_result"
    }
   ],
   "source": [
    "dowdate3.volume.describe()"
   ]
  },
  {
   "cell_type": "markdown",
   "metadata": {
    "Collapsed": "false"
   },
   "source": [
    "## Filter out outliers\n",
    "Use wider range of 3IQR since data has wide spread and we don't know which records are 'true'"
   ]
  },
  {
   "cell_type": "code",
   "execution_count": 117,
   "metadata": {
    "Collapsed": "false"
   },
   "outputs": [],
   "source": [
    "iqr3 = (dowdate3.groupby('DetectorId').volume.quantile(0.75) - dowdate3.groupby('DetectorId').volume.quantile(0.25)) * 3"
   ]
  },
  {
   "cell_type": "code",
   "execution_count": 119,
   "metadata": {
    "Collapsed": "false"
   },
   "outputs": [],
   "source": [
    "iqr3 = iqr3.reset_index()"
   ]
  },
  {
   "cell_type": "code",
   "execution_count": 121,
   "metadata": {
    "Collapsed": "false"
   },
   "outputs": [],
   "source": [
    "q75 = dowdate3.groupby('DetectorId').volume.quantile(0.75).reset_index()"
   ]
  },
  {
   "cell_type": "code",
   "execution_count": 123,
   "metadata": {
    "Collapsed": "false"
   },
   "outputs": [],
   "source": [
    "q25 = dowdate3.groupby('DetectorId').volume.quantile(0.25).reset_index()"
   ]
  },
  {
   "cell_type": "code",
   "execution_count": 127,
   "metadata": {
    "Collapsed": "false"
   },
   "outputs": [],
   "source": [
    "iqr3 = iqr3.merge(q75, on='DetectorId').merge(q25, on='DetectorId')"
   ]
  },
  {
   "cell_type": "code",
   "execution_count": 133,
   "metadata": {
    "Collapsed": "false"
   },
   "outputs": [],
   "source": [
    "iqr3 = iqr3.rename({'volume':'q25','volume_y':'q75','volume_x':'IQR3'},axis=1)"
   ]
  },
  {
   "cell_type": "code",
   "execution_count": 134,
   "metadata": {
    "Collapsed": "false"
   },
   "outputs": [
    {
     "data": {
      "text/html": [
       "<div>\n",
       "<style scoped>\n",
       "    .dataframe tbody tr th:only-of-type {\n",
       "        vertical-align: middle;\n",
       "    }\n",
       "\n",
       "    .dataframe tbody tr th {\n",
       "        vertical-align: top;\n",
       "    }\n",
       "\n",
       "    .dataframe thead th {\n",
       "        text-align: right;\n",
       "    }\n",
       "</style>\n",
       "<table border=\"1\" class=\"dataframe\">\n",
       "  <thead>\n",
       "    <tr style=\"text-align: right;\">\n",
       "      <th></th>\n",
       "      <th>DetectorId</th>\n",
       "      <th>IQR3</th>\n",
       "      <th>q75</th>\n",
       "      <th>q25</th>\n",
       "    </tr>\n",
       "  </thead>\n",
       "  <tbody>\n",
       "    <tr>\n",
       "      <th>0</th>\n",
       "      <td>2</td>\n",
       "      <td>3931.50</td>\n",
       "      <td>4730.00</td>\n",
       "      <td>3419.5</td>\n",
       "    </tr>\n",
       "    <tr>\n",
       "      <th>1</th>\n",
       "      <td>3</td>\n",
       "      <td>3513.75</td>\n",
       "      <td>10006.75</td>\n",
       "      <td>8835.5</td>\n",
       "    </tr>\n",
       "    <tr>\n",
       "      <th>2</th>\n",
       "      <td>4</td>\n",
       "      <td>12454.50</td>\n",
       "      <td>25407.50</td>\n",
       "      <td>21256.0</td>\n",
       "    </tr>\n",
       "    <tr>\n",
       "      <th>3</th>\n",
       "      <td>16</td>\n",
       "      <td>5479.50</td>\n",
       "      <td>8973.00</td>\n",
       "      <td>7146.5</td>\n",
       "    </tr>\n",
       "    <tr>\n",
       "      <th>4</th>\n",
       "      <td>17</td>\n",
       "      <td>2295.00</td>\n",
       "      <td>3824.00</td>\n",
       "      <td>3059.0</td>\n",
       "    </tr>\n",
       "  </tbody>\n",
       "</table>\n",
       "</div>"
      ],
      "text/plain": [
       "   DetectorId      IQR3       q75      q25\n",
       "0           2   3931.50   4730.00   3419.5\n",
       "1           3   3513.75  10006.75   8835.5\n",
       "2           4  12454.50  25407.50  21256.0\n",
       "3          16   5479.50   8973.00   7146.5\n",
       "4          17   2295.00   3824.00   3059.0"
      ]
     },
     "execution_count": 134,
     "metadata": {},
     "output_type": "execute_result"
    }
   ],
   "source": [
    "iqr3.head()"
   ]
  },
  {
   "cell_type": "code",
   "execution_count": 135,
   "metadata": {
    "Collapsed": "false"
   },
   "outputs": [
    {
     "data": {
      "text/html": [
       "<div>\n",
       "<style scoped>\n",
       "    .dataframe tbody tr th:only-of-type {\n",
       "        vertical-align: middle;\n",
       "    }\n",
       "\n",
       "    .dataframe tbody tr th {\n",
       "        vertical-align: top;\n",
       "    }\n",
       "\n",
       "    .dataframe thead th {\n",
       "        text-align: right;\n",
       "    }\n",
       "</style>\n",
       "<table border=\"1\" class=\"dataframe\">\n",
       "  <thead>\n",
       "    <tr style=\"text-align: right;\">\n",
       "      <th></th>\n",
       "      <th>date</th>\n",
       "      <th>dow</th>\n",
       "      <th>DetectorId</th>\n",
       "      <th>volume</th>\n",
       "      <th>DetectorId1</th>\n",
       "    </tr>\n",
       "  </thead>\n",
       "  <tbody>\n",
       "    <tr>\n",
       "      <th>1632</th>\n",
       "      <td>2019-01-18</td>\n",
       "      <td>4</td>\n",
       "      <td>2</td>\n",
       "      <td>3334.0</td>\n",
       "      <td>4296</td>\n",
       "    </tr>\n",
       "    <tr>\n",
       "      <th>1633</th>\n",
       "      <td>2019-01-18</td>\n",
       "      <td>4</td>\n",
       "      <td>3</td>\n",
       "      <td>9827.0</td>\n",
       "      <td>4296</td>\n",
       "    </tr>\n",
       "    <tr>\n",
       "      <th>1634</th>\n",
       "      <td>2019-01-18</td>\n",
       "      <td>4</td>\n",
       "      <td>4</td>\n",
       "      <td>23802.0</td>\n",
       "      <td>4296</td>\n",
       "    </tr>\n",
       "    <tr>\n",
       "      <th>1635</th>\n",
       "      <td>2019-01-18</td>\n",
       "      <td>4</td>\n",
       "      <td>16</td>\n",
       "      <td>8437.0</td>\n",
       "      <td>4296</td>\n",
       "    </tr>\n",
       "    <tr>\n",
       "      <th>1636</th>\n",
       "      <td>2019-01-18</td>\n",
       "      <td>4</td>\n",
       "      <td>17</td>\n",
       "      <td>3681.0</td>\n",
       "      <td>4296</td>\n",
       "    </tr>\n",
       "  </tbody>\n",
       "</table>\n",
       "</div>"
      ],
      "text/plain": [
       "            date  dow  DetectorId   volume  DetectorId1\n",
       "1632  2019-01-18    4           2   3334.0         4296\n",
       "1633  2019-01-18    4           3   9827.0         4296\n",
       "1634  2019-01-18    4           4  23802.0         4296\n",
       "1635  2019-01-18    4          16   8437.0         4296\n",
       "1636  2019-01-18    4          17   3681.0         4296"
      ]
     },
     "execution_count": 135,
     "metadata": {},
     "output_type": "execute_result"
    }
   ],
   "source": [
    "dowdate3.head()"
   ]
  },
  {
   "cell_type": "code",
   "execution_count": 136,
   "metadata": {
    "Collapsed": "false"
   },
   "outputs": [],
   "source": [
    "iqrmerge = dowdate3.merge(iqr3, on='DetectorId')"
   ]
  },
  {
   "cell_type": "code",
   "execution_count": 137,
   "metadata": {
    "Collapsed": "false"
   },
   "outputs": [
    {
     "data": {
      "text/plain": [
       "357340"
      ]
     },
     "execution_count": 137,
     "metadata": {},
     "output_type": "execute_result"
    }
   ],
   "source": [
    "len(iqrmerge)"
   ]
  },
  {
   "cell_type": "code",
   "execution_count": 138,
   "metadata": {
    "Collapsed": "false"
   },
   "outputs": [
    {
     "data": {
      "text/plain": [
       "357340"
      ]
     },
     "execution_count": 138,
     "metadata": {},
     "output_type": "execute_result"
    }
   ],
   "source": [
    "len(dowdate3)"
   ]
  },
  {
   "cell_type": "code",
   "execution_count": 139,
   "metadata": {
    "Collapsed": "false"
   },
   "outputs": [
    {
     "data": {
      "text/html": [
       "<div>\n",
       "<style scoped>\n",
       "    .dataframe tbody tr th:only-of-type {\n",
       "        vertical-align: middle;\n",
       "    }\n",
       "\n",
       "    .dataframe tbody tr th {\n",
       "        vertical-align: top;\n",
       "    }\n",
       "\n",
       "    .dataframe thead th {\n",
       "        text-align: right;\n",
       "    }\n",
       "</style>\n",
       "<table border=\"1\" class=\"dataframe\">\n",
       "  <thead>\n",
       "    <tr style=\"text-align: right;\">\n",
       "      <th></th>\n",
       "      <th>date</th>\n",
       "      <th>dow</th>\n",
       "      <th>DetectorId</th>\n",
       "      <th>volume</th>\n",
       "      <th>DetectorId1</th>\n",
       "      <th>IQR3</th>\n",
       "      <th>q75</th>\n",
       "      <th>q25</th>\n",
       "    </tr>\n",
       "  </thead>\n",
       "  <tbody>\n",
       "    <tr>\n",
       "      <th>0</th>\n",
       "      <td>2019-01-18</td>\n",
       "      <td>4</td>\n",
       "      <td>2</td>\n",
       "      <td>3334.0</td>\n",
       "      <td>4296</td>\n",
       "      <td>3931.5</td>\n",
       "      <td>4730.0</td>\n",
       "      <td>3419.5</td>\n",
       "    </tr>\n",
       "    <tr>\n",
       "      <th>1</th>\n",
       "      <td>2019-01-19</td>\n",
       "      <td>5</td>\n",
       "      <td>2</td>\n",
       "      <td>2485.0</td>\n",
       "      <td>4296</td>\n",
       "      <td>3931.5</td>\n",
       "      <td>4730.0</td>\n",
       "      <td>3419.5</td>\n",
       "    </tr>\n",
       "    <tr>\n",
       "      <th>2</th>\n",
       "      <td>2019-01-20</td>\n",
       "      <td>6</td>\n",
       "      <td>2</td>\n",
       "      <td>2629.0</td>\n",
       "      <td>4295</td>\n",
       "      <td>3931.5</td>\n",
       "      <td>4730.0</td>\n",
       "      <td>3419.5</td>\n",
       "    </tr>\n",
       "    <tr>\n",
       "      <th>3</th>\n",
       "      <td>2019-01-21</td>\n",
       "      <td>0</td>\n",
       "      <td>2</td>\n",
       "      <td>2865.0</td>\n",
       "      <td>4296</td>\n",
       "      <td>3931.5</td>\n",
       "      <td>4730.0</td>\n",
       "      <td>3419.5</td>\n",
       "    </tr>\n",
       "    <tr>\n",
       "      <th>4</th>\n",
       "      <td>2019-01-22</td>\n",
       "      <td>1</td>\n",
       "      <td>2</td>\n",
       "      <td>3050.0</td>\n",
       "      <td>4296</td>\n",
       "      <td>3931.5</td>\n",
       "      <td>4730.0</td>\n",
       "      <td>3419.5</td>\n",
       "    </tr>\n",
       "  </tbody>\n",
       "</table>\n",
       "</div>"
      ],
      "text/plain": [
       "         date  dow  DetectorId  volume  DetectorId1    IQR3     q75     q25\n",
       "0  2019-01-18    4           2  3334.0         4296  3931.5  4730.0  3419.5\n",
       "1  2019-01-19    5           2  2485.0         4296  3931.5  4730.0  3419.5\n",
       "2  2019-01-20    6           2  2629.0         4295  3931.5  4730.0  3419.5\n",
       "3  2019-01-21    0           2  2865.0         4296  3931.5  4730.0  3419.5\n",
       "4  2019-01-22    1           2  3050.0         4296  3931.5  4730.0  3419.5"
      ]
     },
     "execution_count": 139,
     "metadata": {},
     "output_type": "execute_result"
    }
   ],
   "source": [
    "iqrmerge.head()"
   ]
  },
  {
   "cell_type": "code",
   "execution_count": 140,
   "metadata": {
    "Collapsed": "false"
   },
   "outputs": [],
   "source": [
    "iqrmerge['lowlim'] = iqrmerge['q25'] - iqrmerge['IQR3']\n",
    "iqrmerge['highlim'] = iqrmerge['q75'] + iqrmerge['IQR3']"
   ]
  },
  {
   "cell_type": "code",
   "execution_count": 145,
   "metadata": {
    "Collapsed": "false"
   },
   "outputs": [],
   "source": [
    "dowdate4 = iqrmerge[(iqrmerge['volume'] > iqrmerge['lowlim']) & (iqrmerge['volume'] < iqrmerge['highlim'])]"
   ]
  },
  {
   "cell_type": "code",
   "execution_count": 146,
   "metadata": {
    "Collapsed": "false"
   },
   "outputs": [
    {
     "data": {
      "text/plain": [
       "357340"
      ]
     },
     "execution_count": 146,
     "metadata": {},
     "output_type": "execute_result"
    }
   ],
   "source": [
    "len(dowdate3)"
   ]
  },
  {
   "cell_type": "code",
   "execution_count": 147,
   "metadata": {
    "Collapsed": "false"
   },
   "outputs": [
    {
     "data": {
      "text/plain": [
       "351098"
      ]
     },
     "execution_count": 147,
     "metadata": {},
     "output_type": "execute_result"
    }
   ],
   "source": [
    "len(dowdate4)"
   ]
  },
  {
   "cell_type": "code",
   "execution_count": 158,
   "metadata": {
    "Collapsed": "false"
   },
   "outputs": [
    {
     "data": {
      "text/plain": [
       "0.19849971806935723"
      ]
     },
     "execution_count": 158,
     "metadata": {},
     "output_type": "execute_result"
    }
   ],
   "source": [
    "(len(dowdate) - len(dowdate4)) / len(dowdate)\n",
    "# in all, we removed about 20% of original records.  "
   ]
  },
  {
   "cell_type": "code",
   "execution_count": 159,
   "metadata": {
    "Collapsed": "false"
   },
   "outputs": [
    {
     "data": {
      "text/plain": [
       "0.1415839708161835"
      ]
     },
     "execution_count": 159,
     "metadata": {},
     "output_type": "execute_result"
    }
   ],
   "source": [
    "(len(dowdate) - len(dowdate0)) / len(dowdate)\n",
    "#14% of original records were zeros.  "
   ]
  },
  {
   "cell_type": "code",
   "execution_count": 160,
   "metadata": {
    "Collapsed": "false"
   },
   "outputs": [],
   "source": [
    "dowdate4.to_csv(atlasdir + \"2019_grouped_files/dow_date_cleaned.csv\")"
   ]
  },
  {
   "cell_type": "markdown",
   "metadata": {
    "Collapsed": "true"
   },
   "source": [
    "### appendix: boxplots"
   ]
  },
  {
   "cell_type": "code",
   "execution_count": 57,
   "metadata": {
    "Collapsed": "false"
   },
   "outputs": [],
   "source": [
    "df = pd.read_csv(atlasdir + \"2019_grouped_files/lookup_aadt_no0_blanks.csv\")"
   ]
  },
  {
   "cell_type": "code",
   "execution_count": 59,
   "metadata": {
    "Collapsed": "false"
   },
   "outputs": [],
   "source": [
    "countlist = ['3LCS','4LCS','2LCS','5LCS']"
   ]
  },
  {
   "cell_type": "code",
   "execution_count": 60,
   "metadata": {
    "Collapsed": "false"
   },
   "outputs": [],
   "source": [
    "idlist = [x for x in (df[(df.type1.isin(countlist)) | (df.type2.isin(countlist))]).detectorid2]"
   ]
  },
  {
   "cell_type": "code",
   "execution_count": 63,
   "metadata": {
    "Collapsed": "false"
   },
   "outputs": [
    {
     "data": {
      "image/png": "[encoded data removed]",
      "text/plain": [
       "<Figure size 1152x720 with 1 Axes>"
      ]
     },
     "metadata": {
      "needs_background": "light"
     },
     "output_type": "display_data"
    }
   ],
   "source": [
    "plt.figure(figsize=(16, 10))\n",
    "\n",
    "sns.boxplot(x=\"DetectorId\", y=\"volume\",\n",
    "            data=dowdate3[(dowdate3['DetectorId'].isin(idlist[0:30])) & (dowdate3['volume'] != 0)])\n",
    "sns.despine(offset=10, trim=True)"
   ]
  },
  {
   "cell_type": "code",
   "execution_count": 153,
   "metadata": {
    "Collapsed": "false"
   },
   "outputs": [
    {
     "data": {
      "image/png": "[encoded data removed]",
      "text/plain": [
       "<Figure size 1152x720 with 1 Axes>"
      ]
     },
     "metadata": {
      "needs_background": "light"
     },
     "output_type": "display_data"
    }
   ],
   "source": [
    "plt.figure(figsize=(16, 10))\n",
    "\n",
    "sns.boxplot(x=\"DetectorId\", y=\"volume\",\n",
    "            data=dowdate4[(dowdate4['DetectorId'].isin(idlist[181:210])) & (dowdate4['volume'] != 0)])\n",
    "sns.despine(offset=10, trim=True)"
   ]
  },
  {
   "cell_type": "code",
   "execution_count": null,
   "metadata": {
    "Collapsed": "false"
   },
   "outputs": [],
   "source": []
  }
 ],
 "metadata": {
  "kernelspec": {
   "display_name": "Python 3",
   "language": "python",
   "name": "python3"
  },
  "language_info": {
   "codemirror_mode": {
    "name": "ipython",
    "version": 3
   },
   "file_extension": ".py",
   "mimetype": "text/x-python",
   "name": "python",
   "nbconvert_exporter": "python",
   "pygments_lexer": "ipython3",
   "version": "3.6.5"
  }
 },
 "nbformat": 4,
 "nbformat_minor": 4
}
