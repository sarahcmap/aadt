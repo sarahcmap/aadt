{
 "cells": [
  {
   "cell_type": "markdown",
   "metadata": {
    "Collapsed": "false"
   },
   "source": [
    "# Investigate 2019 Traffic Count Data"
   ]
  },
  {
   "cell_type": "markdown",
   "metadata": {
    "Collapsed": "false"
   },
   "source": [
    "Date: Jan 16, 2020"
   ]
  },
  {
   "cell_type": "code",
   "execution_count": 150,
   "metadata": {
    "Collapsed": "false"
   },
   "outputs": [],
   "source": [
    "import pandas as pd\n",
    "import altair as alt\n",
    "import seaborn as sns\n",
    "import matplotlib.pyplot as plt "
   ]
  },
  {
   "cell_type": "code",
   "execution_count": 2,
   "metadata": {
    "Collapsed": "false"
   },
   "outputs": [],
   "source": [
    "atlasdir = \"S:/AdminGroups/PerformanceProgramming/RegionalTransportationPerformanceMeasures/KeyDatasets/IDOTExpresswayAtlasData/2019/\""
   ]
  },
  {
   "cell_type": "markdown",
   "metadata": {
    "Collapsed": "true"
   },
   "source": [
    "### Get detector IDS of count stations\n",
    "There are 196 count stations."
   ]
  },
  {
   "cell_type": "code",
   "execution_count": 3,
   "metadata": {
    "Collapsed": "false"
   },
   "outputs": [],
   "source": [
    "df = pd.read_csv(atlasdir + \"2019_grouped_files/lookup_aadt_no0_blanks.csv\")"
   ]
  },
  {
   "cell_type": "code",
   "execution_count": 4,
   "metadata": {
    "Collapsed": "false"
   },
   "outputs": [
    {
     "data": {
      "text/plain": [
       "Index(['Unnamed: 0', 'expressway', 'loc1', 'type1', 'id', 'direction', 'type2',\n",
       "       'location1', 'detectorid2', 'aadt', 'aadt18', 'aadt19'],\n",
       "      dtype='object')"
      ]
     },
     "execution_count": 4,
     "metadata": {},
     "output_type": "execute_result"
    }
   ],
   "source": [
    "df.columns"
   ]
  },
  {
   "cell_type": "code",
   "execution_count": 5,
   "metadata": {
    "Collapsed": "false"
   },
   "outputs": [
    {
     "data": {
      "text/plain": [
       "1EXIT    283\n",
       "1ENT     199\n",
       "*ENT      95\n",
       "3LCS      92\n",
       "4LCS      37\n",
       "2EXIT     34\n",
       "5LCS      25\n",
       "2LCS      25\n",
       "2ENT      16\n",
       "3EXIT      4\n",
       "3ENT       1\n",
       "Name: type1, dtype: int64"
      ]
     },
     "execution_count": 5,
     "metadata": {},
     "output_type": "execute_result"
    }
   ],
   "source": [
    "df.type1.value_counts()"
   ]
  },
  {
   "cell_type": "code",
   "execution_count": 6,
   "metadata": {
    "Collapsed": "false"
   },
   "outputs": [],
   "source": [
    "countlist = ['3LCS','4LCS','2LCS','5LCS']"
   ]
  },
  {
   "cell_type": "code",
   "execution_count": 7,
   "metadata": {
    "Collapsed": "false"
   },
   "outputs": [],
   "source": [
    "idlist = [x for x in (df[(df.type1.isin(countlist)) | (df.type2.isin(countlist))]).detectorid2]"
   ]
  },
  {
   "cell_type": "code",
   "execution_count": 8,
   "metadata": {
    "Collapsed": "false"
   },
   "outputs": [
    {
     "data": {
      "text/plain": [
       "196"
      ]
     },
     "execution_count": 8,
     "metadata": {},
     "output_type": "execute_result"
    }
   ],
   "source": [
    "len(idlist)"
   ]
  },
  {
   "cell_type": "markdown",
   "metadata": {
    "Collapsed": "false"
   },
   "source": [
    "### How do counts look for each date across sensors?\n",
    "Summary: Most sensors in this group have the same number of counts for each day.  Daily counts range from 15 - 5265, with most days at or around 4296. <br>\n",
    "Date of concern include: <br>\n",
    "* mean less than 1000: 1/17, 2/3, 4/30\n",
    "* mean between 1000-3000: 2/1, 4/11, 5/1, 6/30, 10/21\n",
    "* min less than 2000 (mean ok): only one sensor is off - 9900 on 8/12, 8/15, 8/19, and 6161 on 8/13, 8/20"
   ]
  },
  {
   "cell_type": "code",
   "execution_count": 9,
   "metadata": {
    "Collapsed": "false"
   },
   "outputs": [],
   "source": [
    "dowdate = pd.read_csv(atlasdir + \"2019_grouped_files/dow_date.csv\")"
   ]
  },
  {
   "cell_type": "code",
   "execution_count": 10,
   "metadata": {
    "Collapsed": "false"
   },
   "outputs": [],
   "source": [
    "forplot = dowdate[dowdate['DetectorId'].isin(idlist)].groupby('date').agg({'DetectorId1':['mean','max','min','count']}).reset_index()"
   ]
  },
  {
   "cell_type": "code",
   "execution_count": 11,
   "metadata": {
    "Collapsed": "false"
   },
   "outputs": [],
   "source": [
    "forplot = forplot.droplevel(0,axis=1)"
   ]
  },
  {
   "cell_type": "code",
   "execution_count": 129,
   "metadata": {
    "Collapsed": "false"
   },
   "outputs": [
    {
     "data": {
      "text/html": [
       "<div>\n",
       "<style scoped>\n",
       "    .dataframe tbody tr th:only-of-type {\n",
       "        vertical-align: middle;\n",
       "    }\n",
       "\n",
       "    .dataframe tbody tr th {\n",
       "        vertical-align: top;\n",
       "    }\n",
       "\n",
       "    .dataframe thead th {\n",
       "        text-align: right;\n",
       "    }\n",
       "</style>\n",
       "<table border=\"1\" class=\"dataframe\">\n",
       "  <thead>\n",
       "    <tr style=\"text-align: right;\">\n",
       "      <th></th>\n",
       "      <th>date</th>\n",
       "      <th>mean</th>\n",
       "      <th>max</th>\n",
       "      <th>min</th>\n",
       "      <th>count</th>\n",
       "    </tr>\n",
       "  </thead>\n",
       "  <tbody>\n",
       "    <tr>\n",
       "      <th>0</th>\n",
       "      <td>2019-01-17</td>\n",
       "      <td>15.0</td>\n",
       "      <td>15</td>\n",
       "      <td>15</td>\n",
       "      <td>189</td>\n",
       "    </tr>\n",
       "    <tr>\n",
       "      <th>1</th>\n",
       "      <td>2019-01-18</td>\n",
       "      <td>4296.0</td>\n",
       "      <td>4296</td>\n",
       "      <td>4296</td>\n",
       "      <td>189</td>\n",
       "    </tr>\n",
       "    <tr>\n",
       "      <th>2</th>\n",
       "      <td>2019-01-19</td>\n",
       "      <td>4296.0</td>\n",
       "      <td>4296</td>\n",
       "      <td>4296</td>\n",
       "      <td>189</td>\n",
       "    </tr>\n",
       "    <tr>\n",
       "      <th>3</th>\n",
       "      <td>2019-01-20</td>\n",
       "      <td>4295.0</td>\n",
       "      <td>4295</td>\n",
       "      <td>4295</td>\n",
       "      <td>189</td>\n",
       "    </tr>\n",
       "    <tr>\n",
       "      <th>4</th>\n",
       "      <td>2019-01-21</td>\n",
       "      <td>4296.0</td>\n",
       "      <td>4296</td>\n",
       "      <td>4296</td>\n",
       "      <td>189</td>\n",
       "    </tr>\n",
       "  </tbody>\n",
       "</table>\n",
       "</div>"
      ],
      "text/plain": [
       "         date    mean   max   min  count\n",
       "0  2019-01-17    15.0    15    15    189\n",
       "1  2019-01-18  4296.0  4296  4296    189\n",
       "2  2019-01-19  4296.0  4296  4296    189\n",
       "3  2019-01-20  4295.0  4295  4295    189\n",
       "4  2019-01-21  4296.0  4296  4296    189"
      ]
     },
     "execution_count": 129,
     "metadata": {},
     "output_type": "execute_result"
    }
   ],
   "source": [
    "forplot.head()"
   ]
  },
  {
   "cell_type": "code",
   "execution_count": 127,
   "metadata": {
    "Collapsed": "false"
   },
   "outputs": [
    {
     "data": {
      "text/plain": [
       "count    267.000000\n",
       "mean     188.157303\n",
       "std        0.364770\n",
       "min      188.000000\n",
       "25%      188.000000\n",
       "50%      188.000000\n",
       "75%      188.000000\n",
       "max      189.000000\n",
       "Name: count, dtype: float64"
      ]
     },
     "execution_count": 127,
     "metadata": {},
     "output_type": "execute_result"
    }
   ],
   "source": [
    "forplot['count'].describe()\n",
    "# All count stations have data for every day in the dataset"
   ]
  },
  {
   "cell_type": "code",
   "execution_count": 13,
   "metadata": {
    "Collapsed": "false"
   },
   "outputs": [],
   "source": [
    "forplot.rename({'':'date'},axis=1,inplace=True)"
   ]
  },
  {
   "cell_type": "code",
   "execution_count": 128,
   "metadata": {
    "Collapsed": "false"
   },
   "outputs": [
    {
     "data": {
      "application/vnd.vegalite.v2+json": {
       "$schema": "https://vega.github.io/schema/vega-lite/v2.6.0.json",
       "config": {
        "view": {
         "height": 300,
         "width": 400
        }
       },
       "datasets": {
        "data-5612283d223a8af0dda6ce011d78f05d": [
         {
          "count": 189,
          "date": "2019-01-17",
          "max": 15,
          "mean": 15,
          "min": 15
         },
         {
          "count": 189,
          "date": "2019-01-18",
          "max": 4296,
          "mean": 4296,
          "min": 4296
         },
         {
          "count": 189,
          "date": "2019-01-19",
          "max": 4296,
          "mean": 4296,
          "min": 4296
         },
         {
          "count": 189,
          "date": "2019-01-20",
          "max": 4295,
          "mean": 4295,
          "min": 4295
         },
         {
          "count": 189,
          "date": "2019-01-21",
          "max": 4296,
          "mean": 4296,
          "min": 4296
         },
         {
          "count": 189,
          "date": "2019-01-22",
          "max": 4296,
          "mean": 4296,
          "min": 4296
         },
         {
          "count": 189,
          "date": "2019-01-23",
          "max": 4296,
          "mean": 4296,
          "min": 4296
         },
         {
          "count": 189,
          "date": "2019-01-24",
          "max": 4296,
          "mean": 4296,
          "min": 4296
         },
         {
          "count": 189,
          "date": "2019-01-25",
          "max": 3715,
          "mean": 3715,
          "min": 3715
         },
         {
          "count": 189,
          "date": "2019-01-26",
          "max": 4266,
          "mean": 4266,
          "min": 4266
         },
         {
          "count": 189,
          "date": "2019-01-27",
          "max": 4295,
          "mean": 4295,
          "min": 4295
         },
         {
          "count": 189,
          "date": "2019-01-28",
          "max": 4296,
          "mean": 4296,
          "min": 4296
         },
         {
          "count": 189,
          "date": "2019-01-29",
          "max": 4267,
          "mean": 4266.883597883598,
          "min": 4245
         },
         {
          "count": 189,
          "date": "2019-01-30",
          "max": 4296,
          "mean": 4296,
          "min": 4296
         },
         {
          "count": 189,
          "date": "2019-01-31",
          "max": 4102,
          "mean": 4102,
          "min": 4102
         },
         {
          "count": 189,
          "date": "2019-02-01",
          "max": 2223,
          "mean": 2223,
          "min": 2223
         },
         {
          "count": 189,
          "date": "2019-02-02",
          "max": 4296,
          "mean": 4296,
          "min": 4296
         },
         {
          "count": 189,
          "date": "2019-02-03",
          "max": 940,
          "mean": 940,
          "min": 940
         },
         {
          "count": 189,
          "date": "2019-02-04",
          "max": 3237,
          "mean": 3237,
          "min": 3237
         },
         {
          "count": 189,
          "date": "2019-02-05",
          "max": 4073,
          "mean": 4073,
          "min": 4073
         },
         {
          "count": 189,
          "date": "2019-02-06",
          "max": 3401,
          "mean": 3401,
          "min": 3401
         },
         {
          "count": 189,
          "date": "2019-02-07",
          "max": 4296,
          "mean": 4296,
          "min": 4296
         },
         {
          "count": 189,
          "date": "2019-02-08",
          "max": 3476,
          "mean": 3476,
          "min": 3476
         },
         {
          "count": 189,
          "date": "2019-02-09",
          "max": 4296,
          "mean": 4296,
          "min": 4296
         },
         {
          "count": 189,
          "date": "2019-02-10",
          "max": 4295,
          "mean": 4295,
          "min": 4295
         },
         {
          "count": 189,
          "date": "2019-02-11",
          "max": 4296,
          "mean": 4296,
          "min": 4296
         },
         {
          "count": 189,
          "date": "2019-02-12",
          "max": 4296,
          "mean": 4296,
          "min": 4296
         },
         {
          "count": 189,
          "date": "2019-02-13",
          "max": 4296,
          "mean": 4296,
          "min": 4296
         },
         {
          "count": 189,
          "date": "2019-02-14",
          "max": 4296,
          "mean": 4296,
          "min": 4296
         },
         {
          "count": 189,
          "date": "2019-02-15",
          "max": 4296,
          "mean": 4296,
          "min": 4296
         },
         {
          "count": 189,
          "date": "2019-02-16",
          "max": 4296,
          "mean": 4296,
          "min": 4296
         },
         {
          "count": 189,
          "date": "2019-02-17",
          "max": 4295,
          "mean": 4295,
          "min": 4295
         },
         {
          "count": 189,
          "date": "2019-02-18",
          "max": 4296,
          "mean": 4296,
          "min": 4296
         },
         {
          "count": 189,
          "date": "2019-02-19",
          "max": 4296,
          "mean": 4296,
          "min": 4296
         },
         {
          "count": 189,
          "date": "2019-02-20",
          "max": 4296,
          "mean": 4296,
          "min": 4296
         },
         {
          "count": 189,
          "date": "2019-02-21",
          "max": 4296,
          "mean": 4295.989417989418,
          "min": 4294
         },
         {
          "count": 189,
          "date": "2019-02-22",
          "max": 4007,
          "mean": 4003.867724867725,
          "min": 3415
         },
         {
          "count": 188,
          "date": "2019-02-23",
          "max": 4296,
          "mean": 4296,
          "min": 4296
         },
         {
          "count": 188,
          "date": "2019-02-24",
          "max": 4296,
          "mean": 4296,
          "min": 4296
         },
         {
          "count": 188,
          "date": "2019-02-25",
          "max": 4281,
          "mean": 4281,
          "min": 4281
         },
         {
          "count": 188,
          "date": "2019-02-26",
          "max": 4296,
          "mean": 4296,
          "min": 4296
         },
         {
          "count": 188,
          "date": "2019-02-27",
          "max": 4296,
          "mean": 4296,
          "min": 4296
         },
         {
          "count": 188,
          "date": "2019-02-28",
          "max": 4401,
          "mean": 4401,
          "min": 4401
         },
         {
          "count": 188,
          "date": "2019-03-01",
          "max": 5265,
          "mean": 5265,
          "min": 5265
         },
         {
          "count": 188,
          "date": "2019-03-02",
          "max": 4267,
          "mean": 4267,
          "min": 4267
         },
         {
          "count": 188,
          "date": "2019-03-03",
          "max": 4296,
          "mean": 4296,
          "min": 4296
         },
         {
          "count": 188,
          "date": "2019-03-04",
          "max": 4296,
          "mean": 4296,
          "min": 4296
         },
         {
          "count": 188,
          "date": "2019-03-05",
          "max": 4296,
          "mean": 4296,
          "min": 4296
         },
         {
          "count": 188,
          "date": "2019-03-06",
          "max": 4296,
          "mean": 4296,
          "min": 4296
         },
         {
          "count": 188,
          "date": "2019-03-07",
          "max": 4281,
          "mean": 4281,
          "min": 4281
         },
         {
          "count": 188,
          "date": "2019-03-08",
          "max": 4296,
          "mean": 4296,
          "min": 4296
         },
         {
          "count": 188,
          "date": "2019-03-09",
          "max": 4296,
          "mean": 4296,
          "min": 4296
         },
         {
          "count": 188,
          "date": "2019-03-10",
          "max": 3938,
          "mean": 3938,
          "min": 3938
         },
         {
          "count": 188,
          "date": "2019-03-11",
          "max": 4296,
          "mean": 4296,
          "min": 4296
         },
         {
          "count": 188,
          "date": "2019-03-12",
          "max": 4296,
          "mean": 4296,
          "min": 4296
         },
         {
          "count": 188,
          "date": "2019-03-13",
          "max": 4296,
          "mean": 4296,
          "min": 4296
         },
         {
          "count": 188,
          "date": "2019-03-14",
          "max": 4296,
          "mean": 4296,
          "min": 4296
         },
         {
          "count": 188,
          "date": "2019-03-15",
          "max": 4296,
          "mean": 4296,
          "min": 4296
         },
         {
          "count": 188,
          "date": "2019-03-16",
          "max": 4296,
          "mean": 4296,
          "min": 4296
         },
         {
          "count": 188,
          "date": "2019-03-17",
          "max": 4296,
          "mean": 4296,
          "min": 4296
         },
         {
          "count": 188,
          "date": "2019-03-18",
          "max": 4296,
          "mean": 4296,
          "min": 4296
         },
         {
          "count": 188,
          "date": "2019-03-19",
          "max": 4296,
          "mean": 4296,
          "min": 4296
         },
         {
          "count": 188,
          "date": "2019-03-20",
          "max": 4255,
          "mean": 4255,
          "min": 4255
         },
         {
          "count": 188,
          "date": "2019-03-21",
          "max": 4296,
          "mean": 4296,
          "min": 4296
         },
         {
          "count": 188,
          "date": "2019-03-22",
          "max": 4296,
          "mean": 4296,
          "min": 4296
         },
         {
          "count": 188,
          "date": "2019-03-23",
          "max": 4296,
          "mean": 4296,
          "min": 4296
         },
         {
          "count": 188,
          "date": "2019-03-24",
          "max": 4296,
          "mean": 4296,
          "min": 4296
         },
         {
          "count": 188,
          "date": "2019-03-25",
          "max": 4296,
          "mean": 4296,
          "min": 4296
         },
         {
          "count": 188,
          "date": "2019-03-26",
          "max": 4296,
          "mean": 4296,
          "min": 4296
         },
         {
          "count": 188,
          "date": "2019-03-27",
          "max": 4296,
          "mean": 4296,
          "min": 4296
         },
         {
          "count": 188,
          "date": "2019-03-28",
          "max": 4296,
          "mean": 4296,
          "min": 4296
         },
         {
          "count": 188,
          "date": "2019-03-29",
          "max": 4237,
          "mean": 4237,
          "min": 4237
         },
         {
          "count": 188,
          "date": "2019-03-30",
          "max": 4296,
          "mean": 4296,
          "min": 4296
         },
         {
          "count": 188,
          "date": "2019-03-31",
          "max": 4296,
          "mean": 4296,
          "min": 4296
         },
         {
          "count": 188,
          "date": "2019-04-01",
          "max": 4296,
          "mean": 4296,
          "min": 4296
         },
         {
          "count": 188,
          "date": "2019-04-02",
          "max": 4296,
          "mean": 4296,
          "min": 4296
         },
         {
          "count": 188,
          "date": "2019-04-03",
          "max": 4296,
          "mean": 4296,
          "min": 4296
         },
         {
          "count": 188,
          "date": "2019-04-04",
          "max": 4296,
          "mean": 4296,
          "min": 4296
         },
         {
          "count": 188,
          "date": "2019-04-05",
          "max": 4296,
          "mean": 4296,
          "min": 4296
         },
         {
          "count": 188,
          "date": "2019-04-06",
          "max": 4266,
          "mean": 4266,
          "min": 4266
         },
         {
          "count": 188,
          "date": "2019-04-07",
          "max": 4296,
          "mean": 4296,
          "min": 4296
         },
         {
          "count": 188,
          "date": "2019-04-08",
          "max": 4295,
          "mean": 4295,
          "min": 4295
         },
         {
          "count": 188,
          "date": "2019-04-09",
          "max": 4296,
          "mean": 4296,
          "min": 4296
         },
         {
          "count": 188,
          "date": "2019-04-10",
          "max": 3968,
          "mean": 3968,
          "min": 3968
         },
         {
          "count": 188,
          "date": "2019-04-11",
          "max": 2685,
          "mean": 2685,
          "min": 2685
         },
         {
          "count": 188,
          "date": "2019-04-12",
          "max": 4296,
          "mean": 4296,
          "min": 4296
         },
         {
          "count": 188,
          "date": "2019-04-13",
          "max": 4296,
          "mean": 4296,
          "min": 4296
         },
         {
          "count": 188,
          "date": "2019-04-14",
          "max": 4296,
          "mean": 4296,
          "min": 4296
         },
         {
          "count": 188,
          "date": "2019-04-15",
          "max": 4296,
          "mean": 4296,
          "min": 4296
         },
         {
          "count": 188,
          "date": "2019-04-16",
          "max": 4296,
          "mean": 4296,
          "min": 4296
         },
         {
          "count": 188,
          "date": "2019-04-17",
          "max": 4296,
          "mean": 4296,
          "min": 4296
         },
         {
          "count": 188,
          "date": "2019-04-18",
          "max": 4296,
          "mean": 4296,
          "min": 4296
         },
         {
          "count": 188,
          "date": "2019-04-19",
          "max": 4296,
          "mean": 4296,
          "min": 4296
         },
         {
          "count": 188,
          "date": "2019-04-20",
          "max": 4281,
          "mean": 4281,
          "min": 4281
         },
         {
          "count": 188,
          "date": "2019-04-21",
          "max": 4296,
          "mean": 4296,
          "min": 4296
         },
         {
          "count": 188,
          "date": "2019-04-22",
          "max": 4296,
          "mean": 4296,
          "min": 4296
         },
         {
          "count": 188,
          "date": "2019-04-23",
          "max": 4296,
          "mean": 4296,
          "min": 4296
         },
         {
          "count": 188,
          "date": "2019-04-24",
          "max": 4296,
          "mean": 4296,
          "min": 4296
         },
         {
          "count": 188,
          "date": "2019-04-25",
          "max": 2491,
          "mean": 2491,
          "min": 2491
         },
         {
          "count": 188,
          "date": "2019-04-30",
          "max": 910,
          "mean": 910,
          "min": 910
         },
         {
          "count": 188,
          "date": "2019-05-01",
          "max": 1491,
          "mean": 1491,
          "min": 1491
         },
         {
          "count": 188,
          "date": "2019-05-02",
          "max": 4296,
          "mean": 4296,
          "min": 4296
         },
         {
          "count": 188,
          "date": "2019-05-03",
          "max": 4281,
          "mean": 4281,
          "min": 4281
         },
         {
          "count": 188,
          "date": "2019-05-04",
          "max": 4296,
          "mean": 4296,
          "min": 4296
         },
         {
          "count": 188,
          "date": "2019-05-05",
          "max": 4296,
          "mean": 4296,
          "min": 4296
         },
         {
          "count": 188,
          "date": "2019-05-06",
          "max": 4296,
          "mean": 4296,
          "min": 4296
         },
         {
          "count": 188,
          "date": "2019-05-07",
          "max": 4296,
          "mean": 4296,
          "min": 4296
         },
         {
          "count": 188,
          "date": "2019-05-08",
          "max": 4296,
          "mean": 4296,
          "min": 4296
         },
         {
          "count": 188,
          "date": "2019-05-09",
          "max": 4296,
          "mean": 4296,
          "min": 4296
         },
         {
          "count": 188,
          "date": "2019-05-10",
          "max": 4296,
          "mean": 4296,
          "min": 4296
         },
         {
          "count": 188,
          "date": "2019-05-11",
          "max": 4296,
          "mean": 4296,
          "min": 4296
         },
         {
          "count": 188,
          "date": "2019-05-12",
          "max": 4296,
          "mean": 4296,
          "min": 4296
         },
         {
          "count": 188,
          "date": "2019-05-13",
          "max": 4296,
          "mean": 4296,
          "min": 4296
         },
         {
          "count": 188,
          "date": "2019-05-14",
          "max": 4296,
          "mean": 4296,
          "min": 4296
         },
         {
          "count": 188,
          "date": "2019-05-15",
          "max": 4296,
          "mean": 4296,
          "min": 4296
         },
         {
          "count": 188,
          "date": "2019-05-16",
          "max": 4296,
          "mean": 4296,
          "min": 4296
         },
         {
          "count": 188,
          "date": "2019-05-17",
          "max": 4296,
          "mean": 4296,
          "min": 4296
         },
         {
          "count": 188,
          "date": "2019-05-18",
          "max": 4296,
          "mean": 4296,
          "min": 4296
         },
         {
          "count": 188,
          "date": "2019-05-19",
          "max": 4296,
          "mean": 4296,
          "min": 4296
         },
         {
          "count": 188,
          "date": "2019-05-20",
          "max": 4296,
          "mean": 4296,
          "min": 4296
         },
         {
          "count": 188,
          "date": "2019-05-21",
          "max": 4289,
          "mean": 4289,
          "min": 4289
         },
         {
          "count": 188,
          "date": "2019-05-22",
          "max": 4294,
          "mean": 4294,
          "min": 4294
         },
         {
          "count": 188,
          "date": "2019-05-23",
          "max": 4292,
          "mean": 4292,
          "min": 4292
         },
         {
          "count": 188,
          "date": "2019-05-24",
          "max": 4296,
          "mean": 4296,
          "min": 4296
         },
         {
          "count": 188,
          "date": "2019-05-25",
          "max": 4296,
          "mean": 4296,
          "min": 4296
         },
         {
          "count": 188,
          "date": "2019-05-26",
          "max": 4296,
          "mean": 4296,
          "min": 4296
         },
         {
          "count": 188,
          "date": "2019-05-27",
          "max": 4296,
          "mean": 4296,
          "min": 4296
         },
         {
          "count": 188,
          "date": "2019-05-28",
          "max": 4295,
          "mean": 4295,
          "min": 4295
         },
         {
          "count": 188,
          "date": "2019-05-29",
          "max": 4280,
          "mean": 4280,
          "min": 4280
         },
         {
          "count": 188,
          "date": "2019-05-30",
          "max": 4274,
          "mean": 4274,
          "min": 4274
         },
         {
          "count": 188,
          "date": "2019-05-31",
          "max": 4284,
          "mean": 4284,
          "min": 4284
         },
         {
          "count": 188,
          "date": "2019-06-01",
          "max": 4277,
          "mean": 4277,
          "min": 4277
         },
         {
          "count": 188,
          "date": "2019-06-02",
          "max": 4221,
          "mean": 4221,
          "min": 4221
         },
         {
          "count": 188,
          "date": "2019-06-03",
          "max": 4241,
          "mean": 4197.845744680851,
          "min": 4126
         },
         {
          "count": 188,
          "date": "2019-06-04",
          "max": 4296,
          "mean": 4296,
          "min": 4296
         },
         {
          "count": 188,
          "date": "2019-06-05",
          "max": 4295,
          "mean": 4295,
          "min": 4295
         },
         {
          "count": 188,
          "date": "2019-06-06",
          "max": 4296,
          "mean": 4296,
          "min": 4296
         },
         {
          "count": 188,
          "date": "2019-06-07",
          "max": 4296,
          "mean": 4296,
          "min": 4296
         },
         {
          "count": 188,
          "date": "2019-06-08",
          "max": 4296,
          "mean": 4296,
          "min": 4296
         },
         {
          "count": 188,
          "date": "2019-06-09",
          "max": 4296,
          "mean": 4296,
          "min": 4296
         },
         {
          "count": 188,
          "date": "2019-06-10",
          "max": 4296,
          "mean": 4296,
          "min": 4296
         },
         {
          "count": 188,
          "date": "2019-06-11",
          "max": 4295,
          "mean": 4295,
          "min": 4295
         },
         {
          "count": 188,
          "date": "2019-06-12",
          "max": 4296,
          "mean": 4296,
          "min": 4296
         },
         {
          "count": 188,
          "date": "2019-06-13",
          "max": 3251,
          "mean": 3251,
          "min": 3251
         },
         {
          "count": 188,
          "date": "2019-06-14",
          "max": 4296,
          "mean": 4296,
          "min": 4296
         },
         {
          "count": 188,
          "date": "2019-06-15",
          "max": 4296,
          "mean": 4296,
          "min": 4296
         },
         {
          "count": 188,
          "date": "2019-06-16",
          "max": 4296,
          "mean": 4296,
          "min": 4296
         },
         {
          "count": 188,
          "date": "2019-06-17",
          "max": 4296,
          "mean": 4296,
          "min": 4296
         },
         {
          "count": 188,
          "date": "2019-06-18",
          "max": 4296,
          "mean": 4296,
          "min": 4296
         },
         {
          "count": 188,
          "date": "2019-06-19",
          "max": 4252,
          "mean": 4252,
          "min": 4252
         },
         {
          "count": 188,
          "date": "2019-06-20",
          "max": 4296,
          "mean": 4296,
          "min": 4296
         },
         {
          "count": 188,
          "date": "2019-06-21",
          "max": 4090,
          "mean": 4090,
          "min": 4090
         },
         {
          "count": 188,
          "date": "2019-06-22",
          "max": 4235,
          "mean": 4235,
          "min": 4235
         },
         {
          "count": 188,
          "date": "2019-06-23",
          "max": 4296,
          "mean": 4296,
          "min": 4296
         },
         {
          "count": 188,
          "date": "2019-06-24",
          "max": 3949,
          "mean": 3949,
          "min": 3949
         },
         {
          "count": 188,
          "date": "2019-06-25",
          "max": 4296,
          "mean": 4296,
          "min": 4296
         },
         {
          "count": 188,
          "date": "2019-06-26",
          "max": 4296,
          "mean": 4296,
          "min": 4296
         },
         {
          "count": 188,
          "date": "2019-06-27",
          "max": 4296,
          "mean": 4296,
          "min": 4296
         },
         {
          "count": 188,
          "date": "2019-06-28",
          "max": 4296,
          "mean": 4296,
          "min": 4296
         },
         {
          "count": 188,
          "date": "2019-06-29",
          "max": 4296,
          "mean": 4296,
          "min": 4296
         },
         {
          "count": 188,
          "date": "2019-06-30",
          "max": 2535,
          "mean": 2535,
          "min": 2535
         },
         {
          "count": 188,
          "date": "2019-07-01",
          "max": 3014,
          "mean": 3014,
          "min": 3014
         },
         {
          "count": 188,
          "date": "2019-07-02",
          "max": 4296,
          "mean": 4296,
          "min": 4296
         },
         {
          "count": 188,
          "date": "2019-07-03",
          "max": 4293,
          "mean": 4293,
          "min": 4293
         },
         {
          "count": 188,
          "date": "2019-07-04",
          "max": 4242,
          "mean": 4242,
          "min": 4242
         },
         {
          "count": 188,
          "date": "2019-07-05",
          "max": 4245,
          "mean": 4245,
          "min": 4245
         },
         {
          "count": 188,
          "date": "2019-07-06",
          "max": 4215,
          "mean": 4215,
          "min": 4215
         },
         {
          "count": 188,
          "date": "2019-07-07",
          "max": 4235,
          "mean": 4235,
          "min": 4235
         },
         {
          "count": 188,
          "date": "2019-07-08",
          "max": 4216,
          "mean": 4216,
          "min": 4216
         },
         {
          "count": 188,
          "date": "2019-07-09",
          "max": 4296,
          "mean": 4296,
          "min": 4296
         },
         {
          "count": 188,
          "date": "2019-07-10",
          "max": 4296,
          "mean": 4296,
          "min": 4296
         },
         {
          "count": 188,
          "date": "2019-07-11",
          "max": 4296,
          "mean": 4296,
          "min": 4296
         },
         {
          "count": 188,
          "date": "2019-07-12",
          "max": 4296,
          "mean": 4296,
          "min": 4296
         },
         {
          "count": 188,
          "date": "2019-07-13",
          "max": 4296,
          "mean": 4296,
          "min": 4296
         },
         {
          "count": 188,
          "date": "2019-07-14",
          "max": 4296,
          "mean": 4296,
          "min": 4296
         },
         {
          "count": 188,
          "date": "2019-07-15",
          "max": 4296,
          "mean": 4296,
          "min": 4296
         },
         {
          "count": 188,
          "date": "2019-07-16",
          "max": 4296,
          "mean": 4296,
          "min": 4296
         },
         {
          "count": 188,
          "date": "2019-07-17",
          "max": 4296,
          "mean": 4296,
          "min": 4296
         },
         {
          "count": 188,
          "date": "2019-07-18",
          "max": 4296,
          "mean": 4296,
          "min": 4296
         },
         {
          "count": 188,
          "date": "2019-07-19",
          "max": 4249,
          "mean": 4249,
          "min": 4249
         },
         {
          "count": 188,
          "date": "2019-07-20",
          "max": 4296,
          "mean": 4296,
          "min": 4296
         },
         {
          "count": 188,
          "date": "2019-07-21",
          "max": 4296,
          "mean": 4296,
          "min": 4296
         },
         {
          "count": 188,
          "date": "2019-07-22",
          "max": 4296,
          "mean": 4296,
          "min": 4296
         },
         {
          "count": 188,
          "date": "2019-07-23",
          "max": 4296,
          "mean": 4296,
          "min": 4296
         },
         {
          "count": 188,
          "date": "2019-07-24",
          "max": 4010,
          "mean": 4010,
          "min": 4010
         },
         {
          "count": 188,
          "date": "2019-07-25",
          "max": 4296,
          "mean": 4296,
          "min": 4296
         },
         {
          "count": 188,
          "date": "2019-07-26",
          "max": 4296,
          "mean": 4296,
          "min": 4296
         },
         {
          "count": 188,
          "date": "2019-07-27",
          "max": 4296,
          "mean": 4296,
          "min": 4296
         },
         {
          "count": 188,
          "date": "2019-07-28",
          "max": 4296,
          "mean": 4296,
          "min": 4296
         },
         {
          "count": 188,
          "date": "2019-07-29",
          "max": 4296,
          "mean": 4296,
          "min": 4296
         },
         {
          "count": 188,
          "date": "2019-07-30",
          "max": 4296,
          "mean": 4296,
          "min": 4296
         },
         {
          "count": 188,
          "date": "2019-07-31",
          "max": 4296,
          "mean": 4296,
          "min": 4296
         },
         {
          "count": 188,
          "date": "2019-08-01",
          "max": 4296,
          "mean": 4296,
          "min": 4296
         },
         {
          "count": 188,
          "date": "2019-08-02",
          "max": 4266,
          "mean": 4266,
          "min": 4266
         },
         {
          "count": 188,
          "date": "2019-08-03",
          "max": 4296,
          "mean": 4296,
          "min": 4296
         },
         {
          "count": 188,
          "date": "2019-08-04",
          "max": 4295,
          "mean": 4295,
          "min": 4295
         },
         {
          "count": 188,
          "date": "2019-08-05",
          "max": 4296,
          "mean": 4296,
          "min": 4296
         },
         {
          "count": 188,
          "date": "2019-08-06",
          "max": 4296,
          "mean": 4296,
          "min": 4296
         },
         {
          "count": 188,
          "date": "2019-08-07",
          "max": 4296,
          "mean": 4296,
          "min": 4296
         },
         {
          "count": 188,
          "date": "2019-08-08",
          "max": 4153,
          "mean": 4151.531914893617,
          "min": 4014
         },
         {
          "count": 188,
          "date": "2019-08-09",
          "max": 4267,
          "mean": 4264.81914893617,
          "min": 3893
         },
         {
          "count": 188,
          "date": "2019-08-10",
          "max": 4296,
          "mean": 4296,
          "min": 4296
         },
         {
          "count": 188,
          "date": "2019-08-11",
          "max": 4296,
          "mean": 4296,
          "min": 4296
         },
         {
          "count": 189,
          "date": "2019-08-12",
          "max": 4262,
          "mean": 4239.37037037037,
          "min": 1428
         },
         {
          "count": 189,
          "date": "2019-08-13",
          "max": 4312,
          "mean": 4289.185185185185,
          "min": 1462
         },
         {
          "count": 188,
          "date": "2019-08-14",
          "max": 4296,
          "mean": 4296,
          "min": 4296
         },
         {
          "count": 189,
          "date": "2019-08-15",
          "max": 4296,
          "mean": 4273.349206349207,
          "min": 15
         },
         {
          "count": 188,
          "date": "2019-08-16",
          "max": 4296,
          "mean": 4296,
          "min": 4296
         },
         {
          "count": 188,
          "date": "2019-08-17",
          "max": 4296,
          "mean": 4296,
          "min": 4296
         },
         {
          "count": 188,
          "date": "2019-08-18",
          "max": 4295,
          "mean": 4295,
          "min": 4295
         },
         {
          "count": 189,
          "date": "2019-08-19",
          "max": 4286,
          "mean": 4263.26455026455,
          "min": 691
         },
         {
          "count": 189,
          "date": "2019-08-20",
          "max": 4093,
          "mean": 4071.3121693121693,
          "min": 1760
         },
         {
          "count": 188,
          "date": "2019-08-21",
          "max": 4320,
          "mean": 4320,
          "min": 4320
         },
         {
          "count": 188,
          "date": "2019-08-22",
          "max": 4258,
          "mean": 4257.994680851064,
          "min": 4257
         },
         {
          "count": 188,
          "date": "2019-08-23",
          "max": 4320,
          "mean": 4320,
          "min": 4320
         },
         {
          "count": 188,
          "date": "2019-08-24",
          "max": 4289,
          "mean": 4289,
          "min": 4289
         },
         {
          "count": 188,
          "date": "2019-08-25",
          "max": 4320,
          "mean": 4320,
          "min": 4320
         },
         {
          "count": 188,
          "date": "2019-08-26",
          "max": 4320,
          "mean": 4320,
          "min": 4320
         },
         {
          "count": 188,
          "date": "2019-08-27",
          "max": 4293,
          "mean": 4292.989361702128,
          "min": 4291
         },
         {
          "count": 188,
          "date": "2019-08-28",
          "max": 4268,
          "mean": 4267.973404255319,
          "min": 4263
         },
         {
          "count": 188,
          "date": "2019-08-29",
          "max": 4320,
          "mean": 4320,
          "min": 4320
         },
         {
          "count": 188,
          "date": "2019-08-30",
          "max": 4292,
          "mean": 4292,
          "min": 4292
         },
         {
          "count": 188,
          "date": "2019-08-31",
          "max": 4320,
          "mean": 4320,
          "min": 4320
         },
         {
          "count": 188,
          "date": "2019-09-01",
          "max": 4320,
          "mean": 4320,
          "min": 4320
         },
         {
          "count": 188,
          "date": "2019-09-02",
          "max": 4320,
          "mean": 4320,
          "min": 4320
         },
         {
          "count": 188,
          "date": "2019-09-03",
          "max": 3795,
          "mean": 3795,
          "min": 3795
         },
         {
          "count": 188,
          "date": "2019-10-21",
          "max": 2400,
          "mean": 2400,
          "min": 2400
         },
         {
          "count": 188,
          "date": "2019-10-22",
          "max": 4320,
          "mean": 4320,
          "min": 4320
         },
         {
          "count": 188,
          "date": "2019-10-23",
          "max": 4320,
          "mean": 4320,
          "min": 4320
         },
         {
          "count": 188,
          "date": "2019-10-24",
          "max": 4320,
          "mean": 4320,
          "min": 4320
         },
         {
          "count": 188,
          "date": "2019-10-25",
          "max": 4320,
          "mean": 4320,
          "min": 4320
         },
         {
          "count": 188,
          "date": "2019-10-26",
          "max": 4320,
          "mean": 4320,
          "min": 4320
         },
         {
          "count": 188,
          "date": "2019-10-27",
          "max": 4320,
          "mean": 4320,
          "min": 4320
         },
         {
          "count": 188,
          "date": "2019-10-28",
          "max": 4320,
          "mean": 4320,
          "min": 4320
         },
         {
          "count": 188,
          "date": "2019-10-29",
          "max": 4320,
          "mean": 4320,
          "min": 4320
         },
         {
          "count": 188,
          "date": "2019-10-30",
          "max": 4320,
          "mean": 4320,
          "min": 4320
         },
         {
          "count": 188,
          "date": "2019-10-31",
          "max": 4320,
          "mean": 4320,
          "min": 4320
         },
         {
          "count": 188,
          "date": "2019-11-01",
          "max": 4320,
          "mean": 4320,
          "min": 4320
         },
         {
          "count": 188,
          "date": "2019-11-02",
          "max": 4320,
          "mean": 4320,
          "min": 4320
         },
         {
          "count": 188,
          "date": "2019-11-03",
          "max": 4320,
          "mean": 4320,
          "min": 4320
         },
         {
          "count": 188,
          "date": "2019-11-04",
          "max": 4320,
          "mean": 4320,
          "min": 4320
         },
         {
          "count": 188,
          "date": "2019-11-05",
          "max": 4320,
          "mean": 4320,
          "min": 4320
         },
         {
          "count": 188,
          "date": "2019-11-06",
          "max": 4320,
          "mean": 4320,
          "min": 4320
         },
         {
          "count": 188,
          "date": "2019-11-07",
          "max": 4320,
          "mean": 4320,
          "min": 4320
         },
         {
          "count": 188,
          "date": "2019-11-08",
          "max": 4320,
          "mean": 4320,
          "min": 4320
         },
         {
          "count": 188,
          "date": "2019-11-09",
          "max": 4290,
          "mean": 4290,
          "min": 4290
         },
         {
          "count": 188,
          "date": "2019-11-10",
          "max": 4320,
          "mean": 4320,
          "min": 4320
         },
         {
          "count": 188,
          "date": "2019-11-11",
          "max": 4320,
          "mean": 4320,
          "min": 4320
         },
         {
          "count": 188,
          "date": "2019-11-12",
          "max": 4320,
          "mean": 4320,
          "min": 4320
         },
         {
          "count": 188,
          "date": "2019-11-13",
          "max": 4320,
          "mean": 4320,
          "min": 4320
         },
         {
          "count": 188,
          "date": "2019-11-14",
          "max": 4290,
          "mean": 4290,
          "min": 4290
         },
         {
          "count": 188,
          "date": "2019-11-15",
          "max": 4320,
          "mean": 4320,
          "min": 4320
         },
         {
          "count": 188,
          "date": "2019-11-16",
          "max": 4305,
          "mean": 4305,
          "min": 4305
         },
         {
          "count": 188,
          "date": "2019-11-17",
          "max": 4320,
          "mean": 4320,
          "min": 4320
         },
         {
          "count": 188,
          "date": "2019-11-18",
          "max": 4320,
          "mean": 4320,
          "min": 4320
         },
         {
          "count": 188,
          "date": "2019-11-19",
          "max": 4320,
          "mean": 4320,
          "min": 4320
         },
         {
          "count": 188,
          "date": "2019-11-20",
          "max": 4290,
          "mean": 4290,
          "min": 4290
         },
         {
          "count": 188,
          "date": "2019-11-21",
          "max": 4305,
          "mean": 4305,
          "min": 4305
         },
         {
          "count": 188,
          "date": "2019-11-22",
          "max": 4317,
          "mean": 4317,
          "min": 4317
         },
         {
          "count": 188,
          "date": "2019-11-23",
          "max": 4320,
          "mean": 4320,
          "min": 4320
         },
         {
          "count": 188,
          "date": "2019-11-24",
          "max": 4320,
          "mean": 4320,
          "min": 4320
         },
         {
          "count": 188,
          "date": "2019-11-25",
          "max": 4320,
          "mean": 4320,
          "min": 4320
         },
         {
          "count": 188,
          "date": "2019-11-26",
          "max": 4320,
          "mean": 4320,
          "min": 4320
         },
         {
          "count": 188,
          "date": "2019-11-27",
          "max": 4320,
          "mean": 4320,
          "min": 4320
         },
         {
          "count": 188,
          "date": "2019-11-28",
          "max": 4320,
          "mean": 4320,
          "min": 4320
         },
         {
          "count": 188,
          "date": "2019-11-29",
          "max": 4320,
          "mean": 4320,
          "min": 4320
         },
         {
          "count": 188,
          "date": "2019-11-30",
          "max": 4125,
          "mean": 4125,
          "min": 4125
         }
        ]
       },
       "layer": [
        {
         "data": {
          "name": "data-5612283d223a8af0dda6ce011d78f05d"
         },
         "encoding": {
          "color": {
           "value": "red"
          },
          "x": {
           "field": "date",
           "type": "nominal"
          },
          "y": {
           "field": "max",
           "type": "quantitative"
          }
         },
         "mark": "line"
        },
        {
         "data": {
          "name": "data-5612283d223a8af0dda6ce011d78f05d"
         },
         "encoding": {
          "color": {
           "value": "blue"
          },
          "tooltip": [
           {
            "field": "date",
            "type": "nominal"
           },
           {
            "field": "min",
            "type": "quantitative"
           }
          ],
          "x": {
           "field": "date",
           "type": "nominal"
          },
          "y": {
           "field": "min",
           "type": "quantitative"
          }
         },
         "mark": "line",
         "selection": {
          "selector010": {
           "bind": "scales",
           "encodings": [
            "x",
            "y"
           ],
           "mark": {
            "fill": "#333",
            "fillOpacity": 0.125,
            "stroke": "white"
           },
           "on": "[mousedown, window:mouseup] > window:mousemove!",
           "resolve": "global",
           "translate": "[mousedown, window:mouseup] > window:mousemove!",
           "type": "interval",
           "zoom": "wheel!"
          }
         }
        },
        {
         "data": {
          "name": "data-5612283d223a8af0dda6ce011d78f05d"
         },
         "encoding": {
          "color": {
           "value": "green"
          },
          "tooltip": [
           {
            "field": "date",
            "type": "nominal"
           },
           {
            "field": "mean",
            "type": "quantitative"
           }
          ],
          "x": {
           "field": "date",
           "type": "nominal"
          },
          "y": {
           "field": "mean",
           "type": "quantitative"
          }
         },
         "mark": "line",
         "selection": {
          "selector009": {
           "bind": "scales",
           "encodings": [
            "x",
            "y"
           ],
           "mark": {
            "fill": "#333",
            "fillOpacity": 0.125,
            "stroke": "white"
           },
           "on": "[mousedown, window:mouseup] > window:mousemove!",
           "resolve": "global",
           "translate": "[mousedown, window:mouseup] > window:mousemove!",
           "type": "interval",
           "zoom": "wheel!"
          }
         }
        }
       ]
      },
      "image/png": "[encoded data removed]",
      "text/plain": [
       "<VegaLite 2 object>\n",
       "\n",
       "If you see this message, it means the renderer has not been properly enabled\n",
       "for the frontend that you are using. For more information, see\n",
       "https://altair-viz.github.io/user_guide/troubleshooting.html\n"
      ]
     },
     "execution_count": 128,
     "metadata": {},
     "output_type": "execute_result"
    }
   ],
   "source": [
    "# CHART - for all the dates with data, this chart shows\n",
    "# blue - the minimum number of observations (e.g., one or more stations only had 1000 counts for this day)\n",
    "# green - the average number of observations (e.g., on average, stations had 4000 counts this day)\n",
    "# red - the maximum number of observations (e.g., one or more stations had 5000 counts this day)\n",
    "# !note that dates are missing data altogether and the time interval between points is not always one day!\n",
    "\n",
    "source = forplot\n",
    "\n",
    "base = alt.Chart(source)\n",
    "\n",
    "mean = base.mark_line().encode(\n",
    "    x='date',\n",
    "    y='mean',\n",
    "    color=alt.value('green'),\n",
    "    tooltip=['date','mean']\n",
    ").interactive()\n",
    "\n",
    "maxline = base.mark_line().encode(\n",
    "x='date',\n",
    "y='max',\n",
    "color=alt.value('red'))\n",
    "\n",
    "minline = base.mark_line().encode(\n",
    "    x='date',\n",
    "    y='min',\n",
    "    color=alt.value('blue'),\n",
    "    tooltip=['date','min']\n",
    ").interactive()\n",
    "\n",
    "maxline + minline + mean"
   ]
  },
  {
   "cell_type": "code",
   "execution_count": 130,
   "metadata": {
    "Collapsed": "false"
   },
   "outputs": [
    {
     "data": {
      "text/html": [
       "<div>\n",
       "<style scoped>\n",
       "    .dataframe tbody tr th:only-of-type {\n",
       "        vertical-align: middle;\n",
       "    }\n",
       "\n",
       "    .dataframe tbody tr th {\n",
       "        vertical-align: top;\n",
       "    }\n",
       "\n",
       "    .dataframe thead th {\n",
       "        text-align: right;\n",
       "    }\n",
       "</style>\n",
       "<table border=\"1\" class=\"dataframe\">\n",
       "  <thead>\n",
       "    <tr style=\"text-align: right;\">\n",
       "      <th></th>\n",
       "      <th>DetectorId1</th>\n",
       "    </tr>\n",
       "    <tr>\n",
       "      <th>date</th>\n",
       "      <th></th>\n",
       "    </tr>\n",
       "  </thead>\n",
       "  <tbody>\n",
       "    <tr>\n",
       "      <th>2019-01-17</th>\n",
       "      <td>189</td>\n",
       "    </tr>\n",
       "    <tr>\n",
       "      <th>2019-02-01</th>\n",
       "      <td>189</td>\n",
       "    </tr>\n",
       "    <tr>\n",
       "      <th>2019-02-03</th>\n",
       "      <td>189</td>\n",
       "    </tr>\n",
       "    <tr>\n",
       "      <th>2019-04-11</th>\n",
       "      <td>188</td>\n",
       "    </tr>\n",
       "    <tr>\n",
       "      <th>2019-04-25</th>\n",
       "      <td>188</td>\n",
       "    </tr>\n",
       "    <tr>\n",
       "      <th>2019-04-30</th>\n",
       "      <td>188</td>\n",
       "    </tr>\n",
       "    <tr>\n",
       "      <th>2019-05-01</th>\n",
       "      <td>188</td>\n",
       "    </tr>\n",
       "    <tr>\n",
       "      <th>2019-06-30</th>\n",
       "      <td>188</td>\n",
       "    </tr>\n",
       "    <tr>\n",
       "      <th>2019-08-12</th>\n",
       "      <td>2</td>\n",
       "    </tr>\n",
       "    <tr>\n",
       "      <th>2019-08-13</th>\n",
       "      <td>2</td>\n",
       "    </tr>\n",
       "    <tr>\n",
       "      <th>2019-08-15</th>\n",
       "      <td>1</td>\n",
       "    </tr>\n",
       "    <tr>\n",
       "      <th>2019-08-19</th>\n",
       "      <td>1</td>\n",
       "    </tr>\n",
       "    <tr>\n",
       "      <th>2019-08-20</th>\n",
       "      <td>2</td>\n",
       "    </tr>\n",
       "    <tr>\n",
       "      <th>2019-10-21</th>\n",
       "      <td>188</td>\n",
       "    </tr>\n",
       "  </tbody>\n",
       "</table>\n",
       "</div>"
      ],
      "text/plain": [
       "            DetectorId1\n",
       "date                   \n",
       "2019-01-17          189\n",
       "2019-02-01          189\n",
       "2019-02-03          189\n",
       "2019-04-11          188\n",
       "2019-04-25          188\n",
       "2019-04-30          188\n",
       "2019-05-01          188\n",
       "2019-06-30          188\n",
       "2019-08-12            2\n",
       "2019-08-13            2\n",
       "2019-08-15            1\n",
       "2019-08-19            1\n",
       "2019-08-20            2\n",
       "2019-10-21          188"
      ]
     },
     "execution_count": 130,
     "metadata": {},
     "output_type": "execute_result"
    }
   ],
   "source": [
    "# how many sensors have issues on days with issues\n",
    "LCSdow = dowdate[dowdate['DetectorId'].isin(idlist)]\n",
    "LCSdow[(LCSdow['DetectorId1'] <= 3000)].groupby('date').agg({'DetectorId1':'count'})"
   ]
  },
  {
   "cell_type": "code",
   "execution_count": 29,
   "metadata": {
    "Collapsed": "false"
   },
   "outputs": [
    {
     "data": {
      "text/html": [
       "<div>\n",
       "<style scoped>\n",
       "    .dataframe tbody tr th:only-of-type {\n",
       "        vertical-align: middle;\n",
       "    }\n",
       "\n",
       "    .dataframe tbody tr th {\n",
       "        vertical-align: top;\n",
       "    }\n",
       "\n",
       "    .dataframe thead th {\n",
       "        text-align: right;\n",
       "    }\n",
       "</style>\n",
       "<table border=\"1\" class=\"dataframe\">\n",
       "  <thead>\n",
       "    <tr style=\"text-align: right;\">\n",
       "      <th></th>\n",
       "      <th>date</th>\n",
       "      <th>dow</th>\n",
       "      <th>DetectorId</th>\n",
       "      <th>volume</th>\n",
       "      <th>DetectorId1</th>\n",
       "    </tr>\n",
       "  </thead>\n",
       "  <tbody>\n",
       "    <tr>\n",
       "      <th>333570</th>\n",
       "      <td>2019-08-12</td>\n",
       "      <td>0</td>\n",
       "      <td>9900</td>\n",
       "      <td>20414.0</td>\n",
       "      <td>1428</td>\n",
       "    </tr>\n",
       "    <tr>\n",
       "      <th>334873</th>\n",
       "      <td>2019-08-13</td>\n",
       "      <td>1</td>\n",
       "      <td>6161</td>\n",
       "      <td>18722.0</td>\n",
       "      <td>1462</td>\n",
       "    </tr>\n",
       "    <tr>\n",
       "      <th>338520</th>\n",
       "      <td>2019-08-15</td>\n",
       "      <td>3</td>\n",
       "      <td>9900</td>\n",
       "      <td>361.0</td>\n",
       "      <td>15</td>\n",
       "    </tr>\n",
       "    <tr>\n",
       "      <th>345089</th>\n",
       "      <td>2019-08-19</td>\n",
       "      <td>0</td>\n",
       "      <td>9900</td>\n",
       "      <td>12504.0</td>\n",
       "      <td>691</td>\n",
       "    </tr>\n",
       "    <tr>\n",
       "      <th>346393</th>\n",
       "      <td>2019-08-20</td>\n",
       "      <td>1</td>\n",
       "      <td>6161</td>\n",
       "      <td>11168.0</td>\n",
       "      <td>1760</td>\n",
       "    </tr>\n",
       "  </tbody>\n",
       "</table>\n",
       "</div>"
      ],
      "text/plain": [
       "              date  dow  DetectorId   volume  DetectorId1\n",
       "333570  2019-08-12    0        9900  20414.0         1428\n",
       "334873  2019-08-13    1        6161  18722.0         1462\n",
       "338520  2019-08-15    3        9900    361.0           15\n",
       "345089  2019-08-19    0        9900  12504.0          691\n",
       "346393  2019-08-20    1        6161  11168.0         1760"
      ]
     },
     "execution_count": 29,
     "metadata": {},
     "output_type": "execute_result"
    }
   ],
   "source": [
    "# which sensor(s) are having issues in August?\n",
    "LCSdow[(LCSdow['DetectorId1'] <= 2000) & (LCSdow['date'] >= '2019-08-11')]"
   ]
  },
  {
   "cell_type": "markdown",
   "metadata": {
    "Collapsed": "true"
   },
   "source": [
    "### How do volumes look for low count dates?\n",
    "1/17, 2/3, 4/30, 5/1 volumes are especially low"
   ]
  },
  {
   "cell_type": "code",
   "execution_count": 49,
   "metadata": {
    "Collapsed": "false"
   },
   "outputs": [],
   "source": [
    "lowdates = ['2019-01-17','2019-02-03','2019-04-30','2019-02-01','2019-04-11','2019-05-01','2019-06-30','2019-10-21']"
   ]
  },
  {
   "cell_type": "code",
   "execution_count": 50,
   "metadata": {
    "Collapsed": "false"
   },
   "outputs": [
    {
     "data": {
      "text/html": [
       "<div>\n",
       "<style scoped>\n",
       "    .dataframe tbody tr th:only-of-type {\n",
       "        vertical-align: middle;\n",
       "    }\n",
       "\n",
       "    .dataframe tbody tr th {\n",
       "        vertical-align: top;\n",
       "    }\n",
       "\n",
       "    .dataframe thead th {\n",
       "        text-align: right;\n",
       "    }\n",
       "</style>\n",
       "<table border=\"1\" class=\"dataframe\">\n",
       "  <thead>\n",
       "    <tr style=\"text-align: right;\">\n",
       "      <th></th>\n",
       "      <th>count</th>\n",
       "      <th>mean</th>\n",
       "      <th>std</th>\n",
       "      <th>min</th>\n",
       "      <th>25%</th>\n",
       "      <th>50%</th>\n",
       "      <th>75%</th>\n",
       "      <th>max</th>\n",
       "    </tr>\n",
       "    <tr>\n",
       "      <th>date</th>\n",
       "      <th></th>\n",
       "      <th></th>\n",
       "      <th></th>\n",
       "      <th></th>\n",
       "      <th></th>\n",
       "      <th></th>\n",
       "      <th></th>\n",
       "      <th></th>\n",
       "    </tr>\n",
       "  </thead>\n",
       "  <tbody>\n",
       "    <tr>\n",
       "      <th>2019-01-17</th>\n",
       "      <td>189.0</td>\n",
       "      <td>1.049814e+04</td>\n",
       "      <td>1.430021e+05</td>\n",
       "      <td>0.0</td>\n",
       "      <td>42.00</td>\n",
       "      <td>81.0</td>\n",
       "      <td>120.00</td>\n",
       "      <td>1966050.0</td>\n",
       "    </tr>\n",
       "    <tr>\n",
       "      <th>2019-02-01</th>\n",
       "      <td>189.0</td>\n",
       "      <td>1.566395e+06</td>\n",
       "      <td>2.119214e+07</td>\n",
       "      <td>0.0</td>\n",
       "      <td>15658.00</td>\n",
       "      <td>25475.0</td>\n",
       "      <td>32962.00</td>\n",
       "      <td>291368610.0</td>\n",
       "    </tr>\n",
       "    <tr>\n",
       "      <th>2019-02-03</th>\n",
       "      <td>189.0</td>\n",
       "      <td>6.633876e+05</td>\n",
       "      <td>8.961065e+06</td>\n",
       "      <td>0.0</td>\n",
       "      <td>6114.00</td>\n",
       "      <td>11416.0</td>\n",
       "      <td>15372.00</td>\n",
       "      <td>123205800.0</td>\n",
       "    </tr>\n",
       "    <tr>\n",
       "      <th>2019-04-11</th>\n",
       "      <td>188.0</td>\n",
       "      <td>3.631104e+04</td>\n",
       "      <td>1.931149e+04</td>\n",
       "      <td>0.0</td>\n",
       "      <td>22293.50</td>\n",
       "      <td>36363.5</td>\n",
       "      <td>47623.50</td>\n",
       "      <td>94261.0</td>\n",
       "    </tr>\n",
       "    <tr>\n",
       "      <th>2019-04-30</th>\n",
       "      <td>188.0</td>\n",
       "      <td>3.556372e+03</td>\n",
       "      <td>2.441002e+03</td>\n",
       "      <td>0.0</td>\n",
       "      <td>1580.50</td>\n",
       "      <td>3287.5</td>\n",
       "      <td>5124.00</td>\n",
       "      <td>9804.0</td>\n",
       "    </tr>\n",
       "    <tr>\n",
       "      <th>2019-05-01</th>\n",
       "      <td>188.0</td>\n",
       "      <td>1.389689e+04</td>\n",
       "      <td>8.179942e+03</td>\n",
       "      <td>0.0</td>\n",
       "      <td>7617.75</td>\n",
       "      <td>13303.0</td>\n",
       "      <td>18873.75</td>\n",
       "      <td>37493.0</td>\n",
       "    </tr>\n",
       "    <tr>\n",
       "      <th>2019-06-30</th>\n",
       "      <td>188.0</td>\n",
       "      <td>2.827098e+04</td>\n",
       "      <td>1.674263e+04</td>\n",
       "      <td>0.0</td>\n",
       "      <td>15564.50</td>\n",
       "      <td>27380.5</td>\n",
       "      <td>36121.50</td>\n",
       "      <td>70246.0</td>\n",
       "    </tr>\n",
       "    <tr>\n",
       "      <th>2019-10-21</th>\n",
       "      <td>188.0</td>\n",
       "      <td>5.112748e+04</td>\n",
       "      <td>1.431211e+05</td>\n",
       "      <td>0.0</td>\n",
       "      <td>23240.00</td>\n",
       "      <td>35140.0</td>\n",
       "      <td>46978.25</td>\n",
       "      <td>1609652.0</td>\n",
       "    </tr>\n",
       "  </tbody>\n",
       "</table>\n",
       "</div>"
      ],
      "text/plain": [
       "            count          mean           std  min       25%      50%  \\\n",
       "date                                                                    \n",
       "2019-01-17  189.0  1.049814e+04  1.430021e+05  0.0     42.00     81.0   \n",
       "2019-02-01  189.0  1.566395e+06  2.119214e+07  0.0  15658.00  25475.0   \n",
       "2019-02-03  189.0  6.633876e+05  8.961065e+06  0.0   6114.00  11416.0   \n",
       "2019-04-11  188.0  3.631104e+04  1.931149e+04  0.0  22293.50  36363.5   \n",
       "2019-04-30  188.0  3.556372e+03  2.441002e+03  0.0   1580.50   3287.5   \n",
       "2019-05-01  188.0  1.389689e+04  8.179942e+03  0.0   7617.75  13303.0   \n",
       "2019-06-30  188.0  2.827098e+04  1.674263e+04  0.0  15564.50  27380.5   \n",
       "2019-10-21  188.0  5.112748e+04  1.431211e+05  0.0  23240.00  35140.0   \n",
       "\n",
       "                 75%          max  \n",
       "date                               \n",
       "2019-01-17    120.00    1966050.0  \n",
       "2019-02-01  32962.00  291368610.0  \n",
       "2019-02-03  15372.00  123205800.0  \n",
       "2019-04-11  47623.50      94261.0  \n",
       "2019-04-30   5124.00       9804.0  \n",
       "2019-05-01  18873.75      37493.0  \n",
       "2019-06-30  36121.50      70246.0  \n",
       "2019-10-21  46978.25    1609652.0  "
      ]
     },
     "execution_count": 50,
     "metadata": {},
     "output_type": "execute_result"
    }
   ],
   "source": [
    "LCSdow[LCSdow['date'].isin(lowdates)].groupby('date').volume.describe()"
   ]
  },
  {
   "cell_type": "markdown",
   "metadata": {
    "Collapsed": "false"
   },
   "source": [
    "### How do volumes look for sensors across all dates?"
   ]
  },
  {
   "cell_type": "code",
   "execution_count": 98,
   "metadata": {
    "Collapsed": "false"
   },
   "outputs": [
    {
     "data": {
      "text/plain": [
       "count    5.023800e+04\n",
       "mean     1.215402e+06\n",
       "std      2.511740e+07\n",
       "min      0.000000e+00\n",
       "25%      3.239925e+04\n",
       "50%      5.577550e+04\n",
       "75%      7.518975e+04\n",
       "max      6.900836e+08\n",
       "Name: volume, dtype: float64"
      ]
     },
     "execution_count": 98,
     "metadata": {},
     "output_type": "execute_result"
    }
   ],
   "source": [
    "LCSdow.volume.describe()"
   ]
  },
  {
   "cell_type": "code",
   "execution_count": 79,
   "metadata": {
    "Collapsed": "false"
   },
   "outputs": [
    {
     "data": {
      "text/plain": [
       "<matplotlib.axes._subplots.AxesSubplot at 0x2e91e920208>"
      ]
     },
     "execution_count": 79,
     "metadata": {},
     "output_type": "execute_result"
    },
    {
     "data": {
      "image/png": "[encoded data removed]",
      "text/plain": [
       "<Figure size 432x288 with 1 Axes>"
      ]
     },
     "metadata": {
      "needs_background": "light"
     },
     "output_type": "display_data"
    }
   ],
   "source": [
    "# filtering to less than 200,000 to keep useful scale.  values go all the way up to 690,083,600\n",
    "sns.distplot(LCSdow[(LCSdow['volume'] < 200000) & (LCSdow['volume'] != 0)].volume, bins=100, rug=True, kde=False)"
   ]
  },
  {
   "cell_type": "code",
   "execution_count": 158,
   "metadata": {
    "Collapsed": "false"
   },
   "outputs": [
    {
     "data": {
      "text/plain": [
       "<matplotlib.axes._subplots.AxesSubplot at 0x2e923321860>"
      ]
     },
     "execution_count": 158,
     "metadata": {},
     "output_type": "execute_result"
    },
    {
     "data": {
      "image/png": "[encoded data removed]",
      "text/plain": [
       "<Figure size 432x288 with 1 Axes>"
      ]
     },
     "metadata": {
      "needs_background": "light"
     },
     "output_type": "display_data"
    }
   ],
   "source": [
    "# what is looks like otherwise, 0 - 700,000,000\n",
    "sns.distplot(LCSdow[(LCSdow['volume'] != 0)].volume, bins=100, rug=True, kde=False)"
   ]
  },
  {
   "cell_type": "code",
   "execution_count": 159,
   "metadata": {
    "Collapsed": "false"
   },
   "outputs": [
    {
     "data": {
      "text/plain": [
       "181"
      ]
     },
     "execution_count": 159,
     "metadata": {},
     "output_type": "execute_result"
    }
   ],
   "source": [
    "len(LCSdow[LCSdow['volume'] > 200000])"
   ]
  },
  {
   "cell_type": "code",
   "execution_count": 97,
   "metadata": {
    "Collapsed": "false"
   },
   "outputs": [
    {
     "data": {
      "text/html": [
       "<div>\n",
       "<style scoped>\n",
       "    .dataframe tbody tr th:only-of-type {\n",
       "        vertical-align: middle;\n",
       "    }\n",
       "\n",
       "    .dataframe tbody tr th {\n",
       "        vertical-align: top;\n",
       "    }\n",
       "\n",
       "    .dataframe thead th {\n",
       "        text-align: right;\n",
       "    }\n",
       "</style>\n",
       "<table border=\"1\" class=\"dataframe\">\n",
       "  <thead>\n",
       "    <tr style=\"text-align: right;\">\n",
       "      <th></th>\n",
       "      <th>DetectorId</th>\n",
       "      <th>volume</th>\n",
       "    </tr>\n",
       "  </thead>\n",
       "  <tbody>\n",
       "    <tr>\n",
       "      <th>68</th>\n",
       "      <td>5085</td>\n",
       "      <td>138343.0</td>\n",
       "    </tr>\n",
       "    <tr>\n",
       "      <th>69</th>\n",
       "      <td>5086</td>\n",
       "      <td>138243.0</td>\n",
       "    </tr>\n",
       "    <tr>\n",
       "      <th>66</th>\n",
       "      <td>5083</td>\n",
       "      <td>138154.0</td>\n",
       "    </tr>\n",
       "    <tr>\n",
       "      <th>65</th>\n",
       "      <td>5082</td>\n",
       "      <td>132258.0</td>\n",
       "    </tr>\n",
       "    <tr>\n",
       "      <th>64</th>\n",
       "      <td>5081</td>\n",
       "      <td>131858.0</td>\n",
       "    </tr>\n",
       "  </tbody>\n",
       "</table>\n",
       "</div>"
      ],
      "text/plain": [
       "    DetectorId    volume\n",
       "68        5085  138343.0\n",
       "69        5086  138243.0\n",
       "66        5083  138154.0\n",
       "65        5082  132258.0\n",
       "64        5081  131858.0"
      ]
     },
     "execution_count": 97,
     "metadata": {},
     "output_type": "execute_result"
    }
   ],
   "source": [
    "LCSdow.groupby('DetectorId').agg({'volume':'median'}).reset_index().sort_values('volume',ascending=False).head()"
   ]
  },
  {
   "cell_type": "markdown",
   "metadata": {
    "Collapsed": "true"
   },
   "source": [
    "### Boxplots for every sensor\n",
    "5199, 5302, 7901, 59997 have some very high outliers"
   ]
  },
  {
   "cell_type": "code",
   "execution_count": 110,
   "metadata": {
    "Collapsed": "false"
   },
   "outputs": [
    {
     "data": {
      "image/png": "[encoded data removed]",
      "text/plain": [
       "<Figure size 1152x720 with 1 Axes>"
      ]
     },
     "metadata": {
      "needs_background": "light"
     },
     "output_type": "display_data"
    }
   ],
   "source": [
    "plt.figure(figsize=(16, 10))\n",
    "\n",
    "sns.boxplot(x=\"DetectorId\", y=\"volume\",\n",
    "            data=LCSdow[(LCSdow['DetectorId'].isin(idlist[0:30])) & (LCSdow['volume'] != 0) & (~LCSdow['date'].isin(lowdates))])\n",
    "sns.despine(offset=10, trim=True)"
   ]
  },
  {
   "cell_type": "code",
   "execution_count": 111,
   "metadata": {
    "Collapsed": "false"
   },
   "outputs": [
    {
     "data": {
      "image/png": "[encoded data removed]",
      "text/plain": [
       "<Figure size 1152x720 with 1 Axes>"
      ]
     },
     "metadata": {
      "needs_background": "light"
     },
     "output_type": "display_data"
    }
   ],
   "source": [
    "plt.figure(figsize=(16, 10))\n",
    "\n",
    "sns.boxplot(x=\"DetectorId\", y=\"volume\",\n",
    "            data=LCSdow[(LCSdow['DetectorId'].isin(idlist[31:60])) & (LCSdow['volume'] != 0) & (~LCSdow['date'].isin(lowdates))])\n",
    "sns.despine(offset=10, trim=True)"
   ]
  },
  {
   "cell_type": "code",
   "execution_count": 112,
   "metadata": {
    "Collapsed": "false"
   },
   "outputs": [
    {
     "data": {
      "image/png": "[encoded data removed]",
      "text/plain": [
       "<Figure size 1152x720 with 1 Axes>"
      ]
     },
     "metadata": {
      "needs_background": "light"
     },
     "output_type": "display_data"
    }
   ],
   "source": [
    "plt.figure(figsize=(16, 10))\n",
    "\n",
    "sns.boxplot(x=\"DetectorId\", y=\"volume\",\n",
    "            data=LCSdow[(LCSdow['DetectorId'].isin(idlist[61:90])) & (LCSdow['volume'] != 0) & (~LCSdow['date'].isin(lowdates))])\n",
    "sns.despine(offset=10, trim=True)"
   ]
  },
  {
   "cell_type": "code",
   "execution_count": 113,
   "metadata": {
    "Collapsed": "false"
   },
   "outputs": [
    {
     "data": {
      "image/png": "[encoded data removed]",
      "text/plain": [
       "<Figure size 1152x720 with 1 Axes>"
      ]
     },
     "metadata": {
      "needs_background": "light"
     },
     "output_type": "display_data"
    }
   ],
   "source": [
    "plt.figure(figsize=(16, 10))\n",
    "\n",
    "sns.boxplot(x=\"DetectorId\", y=\"volume\",\n",
    "            data=LCSdow[(LCSdow['DetectorId'].isin(idlist[91:120])) & (LCSdow['volume'] != 0) & (~LCSdow['date'].isin(lowdates))])\n",
    "sns.despine(offset=10, trim=True)"
   ]
  },
  {
   "cell_type": "code",
   "execution_count": 116,
   "metadata": {
    "Collapsed": "false"
   },
   "outputs": [
    {
     "data": {
      "image/png": "[encoded data removed]",
      "text/plain": [
       "<Figure size 1152x720 with 1 Axes>"
      ]
     },
     "metadata": {
      "needs_background": "light"
     },
     "output_type": "display_data"
    }
   ],
   "source": [
    "plt.figure(figsize=(16, 10))\n",
    "\n",
    "sns.boxplot(x=\"DetectorId\", y=\"volume\",\n",
    "            data=LCSdow[(LCSdow['DetectorId'].isin(idlist[121:150])) & (LCSdow['volume'] != 0) & (~LCSdow['date'].isin(lowdates))])\n",
    "sns.despine(offset=10, trim=True)"
   ]
  },
  {
   "cell_type": "code",
   "execution_count": 117,
   "metadata": {
    "Collapsed": "false"
   },
   "outputs": [
    {
     "data": {
      "image/png": "[encoded data removed]",
      "text/plain": [
       "<Figure size 1152x720 with 1 Axes>"
      ]
     },
     "metadata": {
      "needs_background": "light"
     },
     "output_type": "display_data"
    }
   ],
   "source": [
    "plt.figure(figsize=(16, 10))\n",
    "\n",
    "sns.boxplot(x=\"DetectorId\", y=\"volume\",\n",
    "            data=LCSdow[(LCSdow['DetectorId'].isin(idlist[151:180])) & (LCSdow['volume'] != 0) & (~LCSdow['date'].isin(lowdates))])\n",
    "sns.despine(offset=10, trim=True)"
   ]
  },
  {
   "cell_type": "code",
   "execution_count": 118,
   "metadata": {
    "Collapsed": "false"
   },
   "outputs": [
    {
     "data": {
      "image/png": "[encoded data removed]",
      "text/plain": [
       "<Figure size 1152x720 with 1 Axes>"
      ]
     },
     "metadata": {
      "needs_background": "light"
     },
     "output_type": "display_data"
    }
   ],
   "source": [
    "plt.figure(figsize=(16, 10))\n",
    "\n",
    "sns.boxplot(x=\"DetectorId\", y=\"volume\",\n",
    "            data=LCSdow[(LCSdow['DetectorId'].isin(idlist[181:210])) & (LCSdow['volume'] != 0) & (~LCSdow['date'].isin(lowdates))])\n",
    "sns.despine(offset=10, trim=True)"
   ]
  },
  {
   "cell_type": "markdown",
   "metadata": {
    "Collapsed": "false"
   },
   "source": [
    "### High Values\n",
    "7901 dwarfs all the others"
   ]
  },
  {
   "cell_type": "code",
   "execution_count": 131,
   "metadata": {
    "Collapsed": "false"
   },
   "outputs": [
    {
     "data": {
      "text/html": [
       "<div>\n",
       "<style scoped>\n",
       "    .dataframe tbody tr th:only-of-type {\n",
       "        vertical-align: middle;\n",
       "    }\n",
       "\n",
       "    .dataframe tbody tr th {\n",
       "        vertical-align: top;\n",
       "    }\n",
       "\n",
       "    .dataframe thead th {\n",
       "        text-align: right;\n",
       "    }\n",
       "</style>\n",
       "<table border=\"1\" class=\"dataframe\">\n",
       "  <thead>\n",
       "    <tr style=\"text-align: right;\">\n",
       "      <th></th>\n",
       "      <th>date</th>\n",
       "      <th>dow</th>\n",
       "      <th>DetectorId</th>\n",
       "      <th>volume</th>\n",
       "      <th>DetectorId1</th>\n",
       "    </tr>\n",
       "  </thead>\n",
       "  <tbody>\n",
       "    <tr>\n",
       "      <th>71650</th>\n",
       "      <td>2019-03-01</td>\n",
       "      <td>4</td>\n",
       "      <td>7901</td>\n",
       "      <td>690083550.0</td>\n",
       "      <td>5265</td>\n",
       "    </tr>\n",
       "    <tr>\n",
       "      <th>70015</th>\n",
       "      <td>2019-02-28</td>\n",
       "      <td>3</td>\n",
       "      <td>7901</td>\n",
       "      <td>573038040.0</td>\n",
       "      <td>4401</td>\n",
       "    </tr>\n",
       "    <tr>\n",
       "      <th>412769</th>\n",
       "      <td>2019-11-15</td>\n",
       "      <td>4</td>\n",
       "      <td>7901</td>\n",
       "      <td>568188450.0</td>\n",
       "      <td>4320</td>\n",
       "    </tr>\n",
       "    <tr>\n",
       "      <th>397883</th>\n",
       "      <td>2019-11-06</td>\n",
       "      <td>2</td>\n",
       "      <td>7901</td>\n",
       "      <td>568188450.0</td>\n",
       "      <td>4320</td>\n",
       "    </tr>\n",
       "    <tr>\n",
       "      <th>12649</th>\n",
       "      <td>2019-01-24</td>\n",
       "      <td>3</td>\n",
       "      <td>7901</td>\n",
       "      <td>566877750.0</td>\n",
       "      <td>4296</td>\n",
       "    </tr>\n",
       "    <tr>\n",
       "      <th>399537</th>\n",
       "      <td>2019-11-07</td>\n",
       "      <td>3</td>\n",
       "      <td>7901</td>\n",
       "      <td>566222400.0</td>\n",
       "      <td>4320</td>\n",
       "    </tr>\n",
       "    <tr>\n",
       "      <th>435925</th>\n",
       "      <td>2019-11-29</td>\n",
       "      <td>4</td>\n",
       "      <td>7901</td>\n",
       "      <td>566222400.0</td>\n",
       "      <td>4320</td>\n",
       "    </tr>\n",
       "    <tr>\n",
       "      <th>426001</th>\n",
       "      <td>2019-11-23</td>\n",
       "      <td>5</td>\n",
       "      <td>7901</td>\n",
       "      <td>566222400.0</td>\n",
       "      <td>4320</td>\n",
       "    </tr>\n",
       "    <tr>\n",
       "      <th>391267</th>\n",
       "      <td>2019-11-02</td>\n",
       "      <td>5</td>\n",
       "      <td>7901</td>\n",
       "      <td>566222400.0</td>\n",
       "      <td>4320</td>\n",
       "    </tr>\n",
       "    <tr>\n",
       "      <th>430963</th>\n",
       "      <td>2019-11-26</td>\n",
       "      <td>1</td>\n",
       "      <td>7901</td>\n",
       "      <td>566222400.0</td>\n",
       "      <td>4320</td>\n",
       "    </tr>\n",
       "  </tbody>\n",
       "</table>\n",
       "</div>"
      ],
      "text/plain": [
       "              date  dow  DetectorId       volume  DetectorId1\n",
       "71650   2019-03-01    4        7901  690083550.0         5265\n",
       "70015   2019-02-28    3        7901  573038040.0         4401\n",
       "412769  2019-11-15    4        7901  568188450.0         4320\n",
       "397883  2019-11-06    2        7901  568188450.0         4320\n",
       "12649   2019-01-24    3        7901  566877750.0         4296\n",
       "399537  2019-11-07    3        7901  566222400.0         4320\n",
       "435925  2019-11-29    4        7901  566222400.0         4320\n",
       "426001  2019-11-23    5        7901  566222400.0         4320\n",
       "391267  2019-11-02    5        7901  566222400.0         4320\n",
       "430963  2019-11-26    1        7901  566222400.0         4320"
      ]
     },
     "execution_count": 131,
     "metadata": {},
     "output_type": "execute_result"
    }
   ],
   "source": [
    "LCSdow[LCSdow['DetectorId'].isin([5199,5302,7901,59997])].sort_values('volume',ascending=False).head(10)"
   ]
  },
  {
   "cell_type": "code",
   "execution_count": 154,
   "metadata": {
    "Collapsed": "false"
   },
   "outputs": [
    {
     "name": "stderr",
     "output_type": "stream",
     "text": [
      "C:\\Users\\sbuchhorn\\AppData\\Local\\Continuum\\anaconda3\\lib\\site-packages\\ipykernel_launcher.py:1: SettingWithCopyWarning: \n",
      "A value is trying to be set on a copy of a slice from a DataFrame.\n",
      "Try using .loc[row_indexer,col_indexer] = value instead\n",
      "\n",
      "See the caveats in the documentation: http://pandas.pydata.org/pandas-docs/stable/indexing.html#indexing-view-versus-copy\n",
      "  \"\"\"Entry point for launching an IPython kernel.\n"
     ]
    }
   ],
   "source": [
    "LCSdow['DetectorIdstring'] = LCSdow['DetectorId'].astype('str')"
   ]
  },
  {
   "cell_type": "code",
   "execution_count": 155,
   "metadata": {
    "Collapsed": "false"
   },
   "outputs": [
    {
     "data": {
      "application/vnd.vegalite.v2+json": {
       "$schema": "https://vega.github.io/schema/vega-lite/v2.6.0.json",
       "config": {
        "view": {
         "height": 300,
         "width": 400
        }
       },
       "data": {
        "name": "data-aafda51483e2647a4422e5f917c0ba92"
       },
       "datasets": {
        "data-aafda51483e2647a4422e5f917c0ba92": [
         {
          "DetectorId": 5199,
          "DetectorId1": 15,
          "DetectorIdstring": "5199",
          "date": "2019-01-17",
          "dow": 3,
          "volume": 322
         },
         {
          "DetectorId": 5302,
          "DetectorId1": 15,
          "DetectorIdstring": "5302",
          "date": "2019-01-17",
          "dow": 3,
          "volume": 150
         },
         {
          "DetectorId": 7901,
          "DetectorId1": 15,
          "DetectorIdstring": "7901",
          "date": "2019-01-17",
          "dow": 3,
          "volume": 1966050
         },
         {
          "DetectorId": 59997,
          "DetectorId1": 15,
          "DetectorIdstring": "59997",
          "date": "2019-01-17",
          "dow": 3,
          "volume": 27
         },
         {
          "DetectorId": 5199,
          "DetectorId1": 4296,
          "DetectorIdstring": "5199",
          "date": "2019-01-18",
          "dow": 4,
          "volume": 133263
         },
         {
          "DetectorId": 5302,
          "DetectorId1": 4296,
          "DetectorIdstring": "5302",
          "date": "2019-01-18",
          "dow": 4,
          "volume": 59644
         },
         {
          "DetectorId": 7901,
          "DetectorId1": 4296,
          "DetectorIdstring": "7901",
          "date": "2019-01-18",
          "dow": 4,
          "volume": 563076720
         },
         {
          "DetectorId": 59997,
          "DetectorId1": 4296,
          "DetectorIdstring": "59997",
          "date": "2019-01-18",
          "dow": 4,
          "volume": 33927
         },
         {
          "DetectorId": 5199,
          "DetectorId1": 4296,
          "DetectorIdstring": "5199",
          "date": "2019-01-19",
          "dow": 5,
          "volume": 79001
         },
         {
          "DetectorId": 5302,
          "DetectorId1": 4296,
          "DetectorIdstring": "5302",
          "date": "2019-01-19",
          "dow": 5,
          "volume": 33896
         },
         {
          "DetectorId": 7901,
          "DetectorId1": 4296,
          "DetectorIdstring": "7901",
          "date": "2019-01-19",
          "dow": 5,
          "volume": 563076720
         },
         {
          "DetectorId": 59997,
          "DetectorId1": 4296,
          "DetectorIdstring": "59997",
          "date": "2019-01-19",
          "dow": 5,
          "volume": 17268
         },
         {
          "DetectorId": 5199,
          "DetectorId1": 4295,
          "DetectorIdstring": "5199",
          "date": "2019-01-20",
          "dow": 6,
          "volume": 93749
         },
         {
          "DetectorId": 5302,
          "DetectorId1": 4295,
          "DetectorIdstring": "5302",
          "date": "2019-01-20",
          "dow": 6,
          "volume": 36073
         },
         {
          "DetectorId": 7901,
          "DetectorId1": 4295,
          "DetectorIdstring": "7901",
          "date": "2019-01-20",
          "dow": 6,
          "volume": 526639260
         },
         {
          "DetectorId": 59997,
          "DetectorId1": 4295,
          "DetectorIdstring": "59997",
          "date": "2019-01-20",
          "dow": 6,
          "volume": 17443
         },
         {
          "DetectorId": 5199,
          "DetectorId1": 4296,
          "DetectorIdstring": "5199",
          "date": "2019-01-21",
          "dow": 0,
          "volume": 113872
         },
         {
          "DetectorId": 5302,
          "DetectorId1": 4296,
          "DetectorIdstring": "5302",
          "date": "2019-01-21",
          "dow": 0,
          "volume": 49219
         },
         {
          "DetectorId": 7901,
          "DetectorId1": 4296,
          "DetectorIdstring": "7901",
          "date": "2019-01-21",
          "dow": 0,
          "volume": 291106470
         },
         {
          "DetectorId": 59997,
          "DetectorId1": 4296,
          "DetectorIdstring": "59997",
          "date": "2019-01-21",
          "dow": 0,
          "volume": 29098
         },
         {
          "DetectorId": 5199,
          "DetectorId1": 4296,
          "DetectorIdstring": "5199",
          "date": "2019-01-22",
          "dow": 1,
          "volume": 115699
         },
         {
          "DetectorId": 5302,
          "DetectorId1": 4296,
          "DetectorIdstring": "5302",
          "date": "2019-01-22",
          "dow": 1,
          "volume": 51948
         },
         {
          "DetectorId": 7901,
          "DetectorId1": 4296,
          "DetectorIdstring": "7901",
          "date": "2019-01-22",
          "dow": 1,
          "volume": 342092700
         },
         {
          "DetectorId": 59997,
          "DetectorId1": 4296,
          "DetectorIdstring": "59997",
          "date": "2019-01-22",
          "dow": 1,
          "volume": 34383
         },
         {
          "DetectorId": 5199,
          "DetectorId1": 4296,
          "DetectorIdstring": "5199",
          "date": "2019-01-23",
          "dow": 2,
          "volume": 108671
         },
         {
          "DetectorId": 5302,
          "DetectorId1": 4296,
          "DetectorIdstring": "5302",
          "date": "2019-01-23",
          "dow": 2,
          "volume": 317737
         },
         {
          "DetectorId": 7901,
          "DetectorId1": 4296,
          "DetectorIdstring": "7901",
          "date": "2019-01-23",
          "dow": 2,
          "volume": 563076720
         },
         {
          "DetectorId": 59997,
          "DetectorId1": 4296,
          "DetectorIdstring": "59997",
          "date": "2019-01-23",
          "dow": 2,
          "volume": 33148
         },
         {
          "DetectorId": 5199,
          "DetectorId1": 4296,
          "DetectorIdstring": "5199",
          "date": "2019-01-24",
          "dow": 3,
          "volume": 0
         },
         {
          "DetectorId": 5302,
          "DetectorId1": 4296,
          "DetectorIdstring": "5302",
          "date": "2019-01-24",
          "dow": 3,
          "volume": 33785
         },
         {
          "DetectorId": 7901,
          "DetectorId1": 4296,
          "DetectorIdstring": "7901",
          "date": "2019-01-24",
          "dow": 3,
          "volume": 566877750
         },
         {
          "DetectorId": 59997,
          "DetectorId1": 4296,
          "DetectorIdstring": "59997",
          "date": "2019-01-24",
          "dow": 3,
          "volume": 32248
         },
         {
          "DetectorId": 5199,
          "DetectorId1": 3715,
          "DetectorIdstring": "5199",
          "date": "2019-01-25",
          "dow": 4,
          "volume": 0
         },
         {
          "DetectorId": 5302,
          "DetectorId1": 3715,
          "DetectorIdstring": "5302",
          "date": "2019-01-25",
          "dow": 4,
          "volume": 47450
         },
         {
          "DetectorId": 7901,
          "DetectorId1": 3715,
          "DetectorIdstring": "7901",
          "date": "2019-01-25",
          "dow": 4,
          "volume": 212988750
         },
         {
          "DetectorId": 59997,
          "DetectorId1": 3715,
          "DetectorIdstring": "59997",
          "date": "2019-01-25",
          "dow": 4,
          "volume": 25659
         },
         {
          "DetectorId": 5199,
          "DetectorId1": 4266,
          "DetectorIdstring": "5199",
          "date": "2019-01-26",
          "dow": 5,
          "volume": 0
         },
         {
          "DetectorId": 5302,
          "DetectorId1": 4266,
          "DetectorIdstring": "5302",
          "date": "2019-01-26",
          "dow": 5,
          "volume": 44606
         },
         {
          "DetectorId": 7901,
          "DetectorId1": 4266,
          "DetectorIdstring": "7901",
          "date": "2019-01-26",
          "dow": 5,
          "volume": 213119820
         },
         {
          "DetectorId": 59997,
          "DetectorId1": 4266,
          "DetectorIdstring": "59997",
          "date": "2019-01-26",
          "dow": 5,
          "volume": 27827
         },
         {
          "DetectorId": 5199,
          "DetectorId1": 4295,
          "DetectorIdstring": "5199",
          "date": "2019-01-27",
          "dow": 6,
          "volume": 0
         },
         {
          "DetectorId": 5302,
          "DetectorId1": 4295,
          "DetectorIdstring": "5302",
          "date": "2019-01-27",
          "dow": 6,
          "volume": 38897
         },
         {
          "DetectorId": 7901,
          "DetectorId1": 4295,
          "DetectorIdstring": "7901",
          "date": "2019-01-27",
          "dow": 6,
          "volume": 562945650
         },
         {
          "DetectorId": 59997,
          "DetectorId1": 4295,
          "DetectorIdstring": "59997",
          "date": "2019-01-27",
          "dow": 6,
          "volume": 19246
         },
         {
          "DetectorId": 5199,
          "DetectorId1": 4296,
          "DetectorIdstring": "5199",
          "date": "2019-01-28",
          "dow": 0,
          "volume": 0
         },
         {
          "DetectorId": 5302,
          "DetectorId1": 4296,
          "DetectorIdstring": "5302",
          "date": "2019-01-28",
          "dow": 0,
          "volume": 40778
         },
         {
          "DetectorId": 7901,
          "DetectorId1": 4296,
          "DetectorIdstring": "7901",
          "date": "2019-01-28",
          "dow": 0,
          "volume": 562683510
         },
         {
          "DetectorId": 59997,
          "DetectorId1": 4296,
          "DetectorIdstring": "59997",
          "date": "2019-01-28",
          "dow": 0,
          "volume": 25866
         },
         {
          "DetectorId": 5199,
          "DetectorId1": 4267,
          "DetectorIdstring": "5199",
          "date": "2019-01-29",
          "dow": 1,
          "volume": 0
         },
         {
          "DetectorId": 5302,
          "DetectorId1": 4267,
          "DetectorIdstring": "5302",
          "date": "2019-01-29",
          "dow": 1,
          "volume": 51206
         },
         {
          "DetectorId": 7901,
          "DetectorId1": 4267,
          "DetectorIdstring": "7901",
          "date": "2019-01-29",
          "dow": 1,
          "volume": 557833920
         },
         {
          "DetectorId": 59997,
          "DetectorId1": 4267,
          "DetectorIdstring": "59997",
          "date": "2019-01-29",
          "dow": 1,
          "volume": 30437
         },
         {
          "DetectorId": 5199,
          "DetectorId1": 4296,
          "DetectorIdstring": "5199",
          "date": "2019-01-30",
          "dow": 2,
          "volume": 0
         },
         {
          "DetectorId": 5302,
          "DetectorId1": 4296,
          "DetectorIdstring": "5302",
          "date": "2019-01-30",
          "dow": 2,
          "volume": 27415
         },
         {
          "DetectorId": 7901,
          "DetectorId1": 4296,
          "DetectorIdstring": "7901",
          "date": "2019-01-30",
          "dow": 2,
          "volume": 387311850
         },
         {
          "DetectorId": 59997,
          "DetectorId1": 4296,
          "DetectorIdstring": "59997",
          "date": "2019-01-30",
          "dow": 2,
          "volume": 12591
         },
         {
          "DetectorId": 5199,
          "DetectorId1": 4102,
          "DetectorIdstring": "5199",
          "date": "2019-01-31",
          "dow": 3,
          "volume": 0
         },
         {
          "DetectorId": 5302,
          "DetectorId1": 4102,
          "DetectorIdstring": "5302",
          "date": "2019-01-31",
          "dow": 3,
          "volume": 37534
         },
         {
          "DetectorId": 7901,
          "DetectorId1": 4102,
          "DetectorIdstring": "7901",
          "date": "2019-01-31",
          "dow": 3,
          "volume": 536993790
         },
         {
          "DetectorId": 59997,
          "DetectorId1": 4102,
          "DetectorIdstring": "59997",
          "date": "2019-01-31",
          "dow": 3,
          "volume": 23148
         },
         {
          "DetectorId": 5199,
          "DetectorId1": 2223,
          "DetectorIdstring": "5199",
          "date": "2019-02-01",
          "dow": 4,
          "volume": 0
         },
         {
          "DetectorId": 5302,
          "DetectorId1": 2223,
          "DetectorIdstring": "5302",
          "date": "2019-02-01",
          "dow": 4,
          "volume": 28103
         },
         {
          "DetectorId": 7901,
          "DetectorId1": 2223,
          "DetectorIdstring": "7901",
          "date": "2019-02-01",
          "dow": 4,
          "volume": 291368610
         },
         {
          "DetectorId": 59997,
          "DetectorId1": 2223,
          "DetectorIdstring": "59997",
          "date": "2019-02-01",
          "dow": 4,
          "volume": 14776
         },
         {
          "DetectorId": 5199,
          "DetectorId1": 4296,
          "DetectorIdstring": "5199",
          "date": "2019-02-02",
          "dow": 5,
          "volume": 0
         },
         {
          "DetectorId": 5302,
          "DetectorId1": 4296,
          "DetectorIdstring": "5302",
          "date": "2019-02-02",
          "dow": 5,
          "volume": 99558
         },
         {
          "DetectorId": 7901,
          "DetectorId1": 4296,
          "DetectorIdstring": "7901",
          "date": "2019-02-02",
          "dow": 5,
          "volume": 563076720
         },
         {
          "DetectorId": 59997,
          "DetectorId1": 4296,
          "DetectorIdstring": "59997",
          "date": "2019-02-02",
          "dow": 5,
          "volume": 23478
         },
         {
          "DetectorId": 5199,
          "DetectorId1": 940,
          "DetectorIdstring": "5199",
          "date": "2019-02-03",
          "dow": 6,
          "volume": 0
         },
         {
          "DetectorId": 5302,
          "DetectorId1": 940,
          "DetectorIdstring": "5302",
          "date": "2019-02-03",
          "dow": 6,
          "volume": 11127
         },
         {
          "DetectorId": 7901,
          "DetectorId1": 940,
          "DetectorIdstring": "7901",
          "date": "2019-02-03",
          "dow": 6,
          "volume": 123205800
         },
         {
          "DetectorId": 59997,
          "DetectorId1": 940,
          "DetectorIdstring": "59997",
          "date": "2019-02-03",
          "dow": 6,
          "volume": 5331
         },
         {
          "DetectorId": 5199,
          "DetectorId1": 3237,
          "DetectorIdstring": "5199",
          "date": "2019-02-04",
          "dow": 0,
          "volume": 0
         },
         {
          "DetectorId": 5302,
          "DetectorId1": 3237,
          "DetectorIdstring": "5302",
          "date": "2019-02-04",
          "dow": 0,
          "volume": 41037
         },
         {
          "DetectorId": 7901,
          "DetectorId1": 3237,
          "DetectorIdstring": "7901",
          "date": "2019-02-04",
          "dow": 0,
          "volume": 415098690
         },
         {
          "DetectorId": 59997,
          "DetectorId1": 3237,
          "DetectorIdstring": "59997",
          "date": "2019-02-04",
          "dow": 0,
          "volume": 28449
         },
         {
          "DetectorId": 5199,
          "DetectorId1": 4073,
          "DetectorIdstring": "5199",
          "date": "2019-02-05",
          "dow": 1,
          "volume": 0
         },
         {
          "DetectorId": 5302,
          "DetectorId1": 4073,
          "DetectorIdstring": "5302",
          "date": "2019-02-05",
          "dow": 1,
          "volume": 55433
         },
         {
          "DetectorId": 7901,
          "DetectorId1": 4073,
          "DetectorIdstring": "7901",
          "date": "2019-02-05",
          "dow": 1,
          "volume": 533848110
         },
         {
          "DetectorId": 59997,
          "DetectorId1": 4073,
          "DetectorIdstring": "59997",
          "date": "2019-02-05",
          "dow": 1,
          "volume": 32123
         },
         {
          "DetectorId": 5199,
          "DetectorId1": 3401,
          "DetectorIdstring": "5199",
          "date": "2019-02-06",
          "dow": 2,
          "volume": 0
         },
         {
          "DetectorId": 5302,
          "DetectorId1": 3401,
          "DetectorIdstring": "5302",
          "date": "2019-02-06",
          "dow": 2,
          "volume": 47857
         },
         {
          "DetectorId": 7901,
          "DetectorId1": 3401,
          "DetectorIdstring": "7901",
          "date": "2019-02-06",
          "dow": 2,
          "volume": 447735120
         },
         {
          "DetectorId": 59997,
          "DetectorId1": 3401,
          "DetectorIdstring": "59997",
          "date": "2019-02-06",
          "dow": 2,
          "volume": 30302
         },
         {
          "DetectorId": 5199,
          "DetectorId1": 4296,
          "DetectorIdstring": "5199",
          "date": "2019-02-07",
          "dow": 3,
          "volume": 0
         },
         {
          "DetectorId": 5302,
          "DetectorId1": 4296,
          "DetectorIdstring": "5302",
          "date": "2019-02-07",
          "dow": 3,
          "volume": 57626
         },
         {
          "DetectorId": 7901,
          "DetectorId1": 4296,
          "DetectorIdstring": "7901",
          "date": "2019-02-07",
          "dow": 3,
          "volume": 562945650
         },
         {
          "DetectorId": 59997,
          "DetectorId1": 4296,
          "DetectorIdstring": "59997",
          "date": "2019-02-07",
          "dow": 3,
          "volume": 36344
         },
         {
          "DetectorId": 5199,
          "DetectorId1": 3476,
          "DetectorIdstring": "5199",
          "date": "2019-02-08",
          "dow": 4,
          "volume": 0
         },
         {
          "DetectorId": 5302,
          "DetectorId1": 3476,
          "DetectorIdstring": "5302",
          "date": "2019-02-08",
          "dow": 4,
          "volume": 579793
         },
         {
          "DetectorId": 7901,
          "DetectorId1": 3476,
          "DetectorIdstring": "7901",
          "date": "2019-02-08",
          "dow": 4,
          "volume": 455599320
         },
         {
          "DetectorId": 59997,
          "DetectorId1": 3476,
          "DetectorIdstring": "59997",
          "date": "2019-02-08",
          "dow": 4,
          "volume": 30824
         },
         {
          "DetectorId": 5199,
          "DetectorId1": 4296,
          "DetectorIdstring": "5199",
          "date": "2019-02-09",
          "dow": 5,
          "volume": 0
         },
         {
          "DetectorId": 5302,
          "DetectorId1": 4296,
          "DetectorIdstring": "5302",
          "date": "2019-02-09",
          "dow": 5,
          "volume": 53843
         },
         {
          "DetectorId": 7901,
          "DetectorId1": 4296,
          "DetectorIdstring": "7901",
          "date": "2019-02-09",
          "dow": 5,
          "volume": 563076720
         },
         {
          "DetectorId": 59997,
          "DetectorId1": 4296,
          "DetectorIdstring": "59997",
          "date": "2019-02-09",
          "dow": 5,
          "volume": 27845
         },
         {
          "DetectorId": 5199,
          "DetectorId1": 4295,
          "DetectorIdstring": "5199",
          "date": "2019-02-10",
          "dow": 6,
          "volume": 0
         },
         {
          "DetectorId": 5302,
          "DetectorId1": 4295,
          "DetectorIdstring": "5302",
          "date": "2019-02-10",
          "dow": 6,
          "volume": 46960
         },
         {
          "DetectorId": 7901,
          "DetectorId1": 4295,
          "DetectorIdstring": "7901",
          "date": "2019-02-10",
          "dow": 6,
          "volume": 562814580
         },
         {
          "DetectorId": 59997,
          "DetectorId1": 4295,
          "DetectorIdstring": "59997",
          "date": "2019-02-10",
          "dow": 6,
          "volume": 23202
         },
         {
          "DetectorId": 5199,
          "DetectorId1": 4296,
          "DetectorIdstring": "5199",
          "date": "2019-02-11",
          "dow": 0,
          "volume": 0
         },
         {
          "DetectorId": 5302,
          "DetectorId1": 4296,
          "DetectorIdstring": "5302",
          "date": "2019-02-11",
          "dow": 0,
          "volume": 53163
         },
         {
          "DetectorId": 7901,
          "DetectorId1": 4296,
          "DetectorIdstring": "7901",
          "date": "2019-02-11",
          "dow": 0,
          "volume": 563076720
         },
         {
          "DetectorId": 59997,
          "DetectorId1": 4296,
          "DetectorIdstring": "59997",
          "date": "2019-02-11",
          "dow": 0,
          "volume": 34687
         },
         {
          "DetectorId": 5199,
          "DetectorId1": 4296,
          "DetectorIdstring": "5199",
          "date": "2019-02-12",
          "dow": 1,
          "volume": 0
         },
         {
          "DetectorId": 5302,
          "DetectorId1": 4296,
          "DetectorIdstring": "5302",
          "date": "2019-02-12",
          "dow": 1,
          "volume": 41559
         },
         {
          "DetectorId": 7901,
          "DetectorId1": 4296,
          "DetectorIdstring": "7901",
          "date": "2019-02-12",
          "dow": 1,
          "volume": 564649560
         },
         {
          "DetectorId": 59997,
          "DetectorId1": 4296,
          "DetectorIdstring": "59997",
          "date": "2019-02-12",
          "dow": 1,
          "volume": 33138
         },
         {
          "DetectorId": 5199,
          "DetectorId1": 4296,
          "DetectorIdstring": "5199",
          "date": "2019-02-13",
          "dow": 2,
          "volume": 10861
         },
         {
          "DetectorId": 5302,
          "DetectorId1": 4296,
          "DetectorIdstring": "5302",
          "date": "2019-02-13",
          "dow": 2,
          "volume": 54684
         },
         {
          "DetectorId": 7901,
          "DetectorId1": 4296,
          "DetectorIdstring": "7901",
          "date": "2019-02-13",
          "dow": 2,
          "volume": 562945650
         },
         {
          "DetectorId": 59997,
          "DetectorId1": 4296,
          "DetectorIdstring": "59997",
          "date": "2019-02-13",
          "dow": 2,
          "volume": 34065
         },
         {
          "DetectorId": 5199,
          "DetectorId1": 4296,
          "DetectorIdstring": "5199",
          "date": "2019-02-14",
          "dow": 3,
          "volume": 59310
         },
         {
          "DetectorId": 5302,
          "DetectorId1": 4296,
          "DetectorIdstring": "5302",
          "date": "2019-02-14",
          "dow": 3,
          "volume": 60046
         },
         {
          "DetectorId": 7901,
          "DetectorId1": 4296,
          "DetectorIdstring": "7901",
          "date": "2019-02-14",
          "dow": 3,
          "volume": 563076720
         },
         {
          "DetectorId": 59997,
          "DetectorId1": 4296,
          "DetectorIdstring": "59997",
          "date": "2019-02-14",
          "dow": 3,
          "volume": 34419
         },
         {
          "DetectorId": 5199,
          "DetectorId1": 4296,
          "DetectorIdstring": "5199",
          "date": "2019-02-15",
          "dow": 4,
          "volume": 67620
         },
         {
          "DetectorId": 5302,
          "DetectorId1": 4296,
          "DetectorIdstring": "5302",
          "date": "2019-02-15",
          "dow": 4,
          "volume": 60657
         },
         {
          "DetectorId": 7901,
          "DetectorId1": 4296,
          "DetectorIdstring": "7901",
          "date": "2019-02-15",
          "dow": 4,
          "volume": 563076720
         },
         {
          "DetectorId": 59997,
          "DetectorId1": 4296,
          "DetectorIdstring": "59997",
          "date": "2019-02-15",
          "dow": 4,
          "volume": 35325
         },
         {
          "DetectorId": 5199,
          "DetectorId1": 4296,
          "DetectorIdstring": "5199",
          "date": "2019-02-16",
          "dow": 5,
          "volume": 107413
         },
         {
          "DetectorId": 5302,
          "DetectorId1": 4296,
          "DetectorIdstring": "5302",
          "date": "2019-02-16",
          "dow": 5,
          "volume": 55613
         },
         {
          "DetectorId": 7901,
          "DetectorId1": 4296,
          "DetectorIdstring": "7901",
          "date": "2019-02-16",
          "dow": 5,
          "volume": 563076720
         },
         {
          "DetectorId": 59997,
          "DetectorId1": 4296,
          "DetectorIdstring": "59997",
          "date": "2019-02-16",
          "dow": 5,
          "volume": 28537
         },
         {
          "DetectorId": 5199,
          "DetectorId1": 4295,
          "DetectorIdstring": "5199",
          "date": "2019-02-17",
          "dow": 6,
          "volume": 86289
         },
         {
          "DetectorId": 5302,
          "DetectorId1": 4295,
          "DetectorIdstring": "5302",
          "date": "2019-02-17",
          "dow": 6,
          "volume": 45487
         },
         {
          "DetectorId": 7901,
          "DetectorId1": 4295,
          "DetectorIdstring": "7901",
          "date": "2019-02-17",
          "dow": 6,
          "volume": 562945650
         },
         {
          "DetectorId": 59997,
          "DetectorId1": 4295,
          "DetectorIdstring": "59997",
          "date": "2019-02-17",
          "dow": 6,
          "volume": 21985
         },
         {
          "DetectorId": 5199,
          "DetectorId1": 4296,
          "DetectorIdstring": "5199",
          "date": "2019-02-18",
          "dow": 0,
          "volume": 93435
         },
         {
          "DetectorId": 5302,
          "DetectorId1": 4296,
          "DetectorIdstring": "5302",
          "date": "2019-02-18",
          "dow": 0,
          "volume": 50148
         },
         {
          "DetectorId": 7901,
          "DetectorId1": 4296,
          "DetectorIdstring": "7901",
          "date": "2019-02-18",
          "dow": 0,
          "volume": 563076720
         },
         {
          "DetectorId": 59997,
          "DetectorId1": 4296,
          "DetectorIdstring": "59997",
          "date": "2019-02-18",
          "dow": 0,
          "volume": 33072
         },
         {
          "DetectorId": 5199,
          "DetectorId1": 4296,
          "DetectorIdstring": "5199",
          "date": "2019-02-19",
          "dow": 1,
          "volume": 45010
         },
         {
          "DetectorId": 5302,
          "DetectorId1": 4296,
          "DetectorIdstring": "5302",
          "date": "2019-02-19",
          "dow": 1,
          "volume": 56630
         },
         {
          "DetectorId": 7901,
          "DetectorId1": 4296,
          "DetectorIdstring": "7901",
          "date": "2019-02-19",
          "dow": 1,
          "volume": 563076720
         },
         {
          "DetectorId": 59997,
          "DetectorId1": 4296,
          "DetectorIdstring": "59997",
          "date": "2019-02-19",
          "dow": 1,
          "volume": 33558
         },
         {
          "DetectorId": 5199,
          "DetectorId1": 4296,
          "DetectorIdstring": "5199",
          "date": "2019-02-20",
          "dow": 2,
          "volume": 0
         },
         {
          "DetectorId": 5302,
          "DetectorId1": 4296,
          "DetectorIdstring": "5302",
          "date": "2019-02-20",
          "dow": 2,
          "volume": 57765
         },
         {
          "DetectorId": 7901,
          "DetectorId1": 4296,
          "DetectorIdstring": "7901",
          "date": "2019-02-20",
          "dow": 2,
          "volume": 562945650
         },
         {
          "DetectorId": 59997,
          "DetectorId1": 4296,
          "DetectorIdstring": "59997",
          "date": "2019-02-20",
          "dow": 2,
          "volume": 33933
         },
         {
          "DetectorId": 5199,
          "DetectorId1": 4296,
          "DetectorIdstring": "5199",
          "date": "2019-02-21",
          "dow": 3,
          "volume": 0
         },
         {
          "DetectorId": 5302,
          "DetectorId1": 4296,
          "DetectorIdstring": "5302",
          "date": "2019-02-21",
          "dow": 3,
          "volume": 59702
         },
         {
          "DetectorId": 7901,
          "DetectorId1": 4296,
          "DetectorIdstring": "7901",
          "date": "2019-02-21",
          "dow": 3,
          "volume": 562028160
         },
         {
          "DetectorId": 59997,
          "DetectorId1": 4296,
          "DetectorIdstring": "59997",
          "date": "2019-02-21",
          "dow": 3,
          "volume": 33994
         },
         {
          "DetectorId": 5199,
          "DetectorId1": 4007,
          "DetectorIdstring": "5199",
          "date": "2019-02-22",
          "dow": 4,
          "volume": 0
         },
         {
          "DetectorId": 5302,
          "DetectorId1": 4007,
          "DetectorIdstring": "5302",
          "date": "2019-02-22",
          "dow": 4,
          "volume": 48149
         },
         {
          "DetectorId": 7901,
          "DetectorId1": 4007,
          "DetectorIdstring": "7901",
          "date": "2019-02-22",
          "dow": 4,
          "volume": 525197490
         },
         {
          "DetectorId": 59997,
          "DetectorId1": 4007,
          "DetectorIdstring": "59997",
          "date": "2019-02-22",
          "dow": 4,
          "volume": 30522
         },
         {
          "DetectorId": 5199,
          "DetectorId1": 4296,
          "DetectorIdstring": "5199",
          "date": "2019-02-23",
          "dow": 5,
          "volume": 0
         },
         {
          "DetectorId": 5302,
          "DetectorId1": 4296,
          "DetectorIdstring": "5302",
          "date": "2019-02-23",
          "dow": 5,
          "volume": 39069
         },
         {
          "DetectorId": 7901,
          "DetectorId1": 4296,
          "DetectorIdstring": "7901",
          "date": "2019-02-23",
          "dow": 5,
          "volume": 565042770
         },
         {
          "DetectorId": 59997,
          "DetectorId1": 4296,
          "DetectorIdstring": "59997",
          "date": "2019-02-23",
          "dow": 5,
          "volume": 29314
         },
         {
          "DetectorId": 5199,
          "DetectorId1": 4296,
          "DetectorIdstring": "5199",
          "date": "2019-02-24",
          "dow": 6,
          "volume": 0
         },
         {
          "DetectorId": 5302,
          "DetectorId1": 4296,
          "DetectorIdstring": "5302",
          "date": "2019-02-24",
          "dow": 6,
          "volume": 32942
         },
         {
          "DetectorId": 7901,
          "DetectorId1": 4296,
          "DetectorIdstring": "7901",
          "date": "2019-02-24",
          "dow": 6,
          "volume": 563076720
         },
         {
          "DetectorId": 59997,
          "DetectorId1": 4296,
          "DetectorIdstring": "59997",
          "date": "2019-02-24",
          "dow": 6,
          "volume": 20492
         },
         {
          "DetectorId": 5199,
          "DetectorId1": 4281,
          "DetectorIdstring": "5199",
          "date": "2019-02-25",
          "dow": 0,
          "volume": 74241
         },
         {
          "DetectorId": 5302,
          "DetectorId1": 4281,
          "DetectorIdstring": "5302",
          "date": "2019-02-25",
          "dow": 0,
          "volume": 55713
         },
         {
          "DetectorId": 7901,
          "DetectorId1": 4281,
          "DetectorIdstring": "7901",
          "date": "2019-02-25",
          "dow": 0,
          "volume": 560979600
         },
         {
          "DetectorId": 59997,
          "DetectorId1": 4281,
          "DetectorIdstring": "59997",
          "date": "2019-02-25",
          "dow": 0,
          "volume": 29875
         },
         {
          "DetectorId": 5199,
          "DetectorId1": 4296,
          "DetectorIdstring": "5199",
          "date": "2019-02-26",
          "dow": 1,
          "volume": 96025
         },
         {
          "DetectorId": 5302,
          "DetectorId1": 4296,
          "DetectorIdstring": "5302",
          "date": "2019-02-26",
          "dow": 1,
          "volume": 60132
         },
         {
          "DetectorId": 7901,
          "DetectorId1": 4296,
          "DetectorIdstring": "7901",
          "date": "2019-02-26",
          "dow": 1,
          "volume": 563076720
         },
         {
          "DetectorId": 59997,
          "DetectorId1": 4296,
          "DetectorIdstring": "59997",
          "date": "2019-02-26",
          "dow": 1,
          "volume": 33335
         },
         {
          "DetectorId": 5199,
          "DetectorId1": 4296,
          "DetectorIdstring": "5199",
          "date": "2019-02-27",
          "dow": 2,
          "volume": 95471
         },
         {
          "DetectorId": 5302,
          "DetectorId1": 4296,
          "DetectorIdstring": "5302",
          "date": "2019-02-27",
          "dow": 2,
          "volume": 61098
         },
         {
          "DetectorId": 7901,
          "DetectorId1": 4296,
          "DetectorIdstring": "7901",
          "date": "2019-02-27",
          "dow": 2,
          "volume": 563076720
         },
         {
          "DetectorId": 59997,
          "DetectorId1": 4296,
          "DetectorIdstring": "59997",
          "date": "2019-02-27",
          "dow": 2,
          "volume": 31515
         },
         {
          "DetectorId": 5199,
          "DetectorId1": 4401,
          "DetectorIdstring": "5199",
          "date": "2019-02-28",
          "dow": 3,
          "volume": 102810
         },
         {
          "DetectorId": 5302,
          "DetectorId1": 4401,
          "DetectorIdstring": "5302",
          "date": "2019-02-28",
          "dow": 3,
          "volume": 63752
         },
         {
          "DetectorId": 7901,
          "DetectorId1": 4401,
          "DetectorIdstring": "7901",
          "date": "2019-02-28",
          "dow": 3,
          "volume": 573038040
         },
         {
          "DetectorId": 59997,
          "DetectorId1": 4401,
          "DetectorIdstring": "59997",
          "date": "2019-02-28",
          "dow": 3,
          "volume": 32904
         },
         {
          "DetectorId": 5199,
          "DetectorId1": 5265,
          "DetectorIdstring": "5199",
          "date": "2019-03-01",
          "dow": 4,
          "volume": 81692
         },
         {
          "DetectorId": 5302,
          "DetectorId1": 5265,
          "DetectorIdstring": "5302",
          "date": "2019-03-01",
          "dow": 4,
          "volume": 80114
         },
         {
          "DetectorId": 7901,
          "DetectorId1": 5265,
          "DetectorIdstring": "7901",
          "date": "2019-03-01",
          "dow": 4,
          "volume": 690083550
         },
         {
          "DetectorId": 59997,
          "DetectorId1": 5265,
          "DetectorIdstring": "59997",
          "date": "2019-03-01",
          "dow": 4,
          "volume": 39379
         },
         {
          "DetectorId": 5199,
          "DetectorId1": 4267,
          "DetectorIdstring": "5199",
          "date": "2019-03-02",
          "dow": 5,
          "volume": 0
         },
         {
          "DetectorId": 5302,
          "DetectorId1": 4267,
          "DetectorIdstring": "5302",
          "date": "2019-03-02",
          "dow": 5,
          "volume": 53299
         },
         {
          "DetectorId": 7901,
          "DetectorId1": 4267,
          "DetectorIdstring": "7901",
          "date": "2019-03-02",
          "dow": 5,
          "volume": 559275690
         },
         {
          "DetectorId": 59997,
          "DetectorId1": 4267,
          "DetectorIdstring": "59997",
          "date": "2019-03-02",
          "dow": 5,
          "volume": 26860
         },
         {
          "DetectorId": 5199,
          "DetectorId1": 4296,
          "DetectorIdstring": "5199",
          "date": "2019-03-03",
          "dow": 6,
          "volume": 57373
         },
         {
          "DetectorId": 5302,
          "DetectorId1": 4296,
          "DetectorIdstring": "5302",
          "date": "2019-03-03",
          "dow": 6,
          "volume": 45589
         },
         {
          "DetectorId": 7901,
          "DetectorId1": 4296,
          "DetectorIdstring": "7901",
          "date": "2019-03-03",
          "dow": 6,
          "volume": 563076720
         },
         {
          "DetectorId": 59997,
          "DetectorId1": 4296,
          "DetectorIdstring": "59997",
          "date": "2019-03-03",
          "dow": 6,
          "volume": 21193
         },
         {
          "DetectorId": 5199,
          "DetectorId1": 4296,
          "DetectorIdstring": "5199",
          "date": "2019-03-04",
          "dow": 0,
          "volume": 95727
         },
         {
          "DetectorId": 5302,
          "DetectorId1": 4296,
          "DetectorIdstring": "5302",
          "date": "2019-03-04",
          "dow": 0,
          "volume": 57397
         },
         {
          "DetectorId": 7901,
          "DetectorId1": 4296,
          "DetectorIdstring": "7901",
          "date": "2019-03-04",
          "dow": 0,
          "volume": 562945650
         },
         {
          "DetectorId": 59997,
          "DetectorId1": 4296,
          "DetectorIdstring": "59997",
          "date": "2019-03-04",
          "dow": 0,
          "volume": 28744
         },
         {
          "DetectorId": 5199,
          "DetectorId1": 4296,
          "DetectorIdstring": "5199",
          "date": "2019-03-05",
          "dow": 1,
          "volume": 99897
         },
         {
          "DetectorId": 5302,
          "DetectorId1": 4296,
          "DetectorIdstring": "5302",
          "date": "2019-03-05",
          "dow": 1,
          "volume": 59620
         },
         {
          "DetectorId": 7901,
          "DetectorId1": 4296,
          "DetectorIdstring": "7901",
          "date": "2019-03-05",
          "dow": 1,
          "volume": 563076720
         },
         {
          "DetectorId": 59997,
          "DetectorId1": 4296,
          "DetectorIdstring": "59997",
          "date": "2019-03-05",
          "dow": 1,
          "volume": 30689
         },
         {
          "DetectorId": 5199,
          "DetectorId1": 4296,
          "DetectorIdstring": "5199",
          "date": "2019-03-06",
          "dow": 2,
          "volume": 98731
         },
         {
          "DetectorId": 5302,
          "DetectorId1": 4296,
          "DetectorIdstring": "5302",
          "date": "2019-03-06",
          "dow": 2,
          "volume": 60734
         },
         {
          "DetectorId": 7901,
          "DetectorId1": 4296,
          "DetectorIdstring": "7901",
          "date": "2019-03-06",
          "dow": 2,
          "volume": 563076720
         },
         {
          "DetectorId": 59997,
          "DetectorId1": 4296,
          "DetectorIdstring": "59997",
          "date": "2019-03-06",
          "dow": 2,
          "volume": 32482
         },
         {
          "DetectorId": 5199,
          "DetectorId1": 4281,
          "DetectorIdstring": "5199",
          "date": "2019-03-07",
          "dow": 3,
          "volume": 104709
         },
         {
          "DetectorId": 5302,
          "DetectorId1": 4281,
          "DetectorIdstring": "5302",
          "date": "2019-03-07",
          "dow": 3,
          "volume": 61984
         },
         {
          "DetectorId": 7901,
          "DetectorId1": 4281,
          "DetectorIdstring": "7901",
          "date": "2019-03-07",
          "dow": 3,
          "volume": 562945650
         },
         {
          "DetectorId": 59997,
          "DetectorId1": 4281,
          "DetectorIdstring": "59997",
          "date": "2019-03-07",
          "dow": 3,
          "volume": 34056
         },
         {
          "DetectorId": 5199,
          "DetectorId1": 4296,
          "DetectorIdstring": "5199",
          "date": "2019-03-08",
          "dow": 4,
          "volume": 39455
         },
         {
          "DetectorId": 5302,
          "DetectorId1": 4296,
          "DetectorIdstring": "5302",
          "date": "2019-03-08",
          "dow": 4,
          "volume": 63823
         },
         {
          "DetectorId": 7901,
          "DetectorId1": 4296,
          "DetectorIdstring": "7901",
          "date": "2019-03-08",
          "dow": 4,
          "volume": 563076720
         },
         {
          "DetectorId": 59997,
          "DetectorId1": 4296,
          "DetectorIdstring": "59997",
          "date": "2019-03-08",
          "dow": 4,
          "volume": 37657
         },
         {
          "DetectorId": 5199,
          "DetectorId1": 4296,
          "DetectorIdstring": "5199",
          "date": "2019-03-09",
          "dow": 5,
          "volume": 0
         },
         {
          "DetectorId": 5302,
          "DetectorId1": 4296,
          "DetectorIdstring": "5302",
          "date": "2019-03-09",
          "dow": 5,
          "volume": 1037120
         },
         {
          "DetectorId": 7901,
          "DetectorId1": 4296,
          "DetectorIdstring": "7901",
          "date": "2019-03-09",
          "dow": 5,
          "volume": 562945650
         },
         {
          "DetectorId": 59997,
          "DetectorId1": 4296,
          "DetectorIdstring": "59997",
          "date": "2019-03-09",
          "dow": 5,
          "volume": 29164
         },
         {
          "DetectorId": 5199,
          "DetectorId1": 3938,
          "DetectorIdstring": "5199",
          "date": "2019-03-10",
          "dow": 6,
          "volume": 0
         },
         {
          "DetectorId": 5302,
          "DetectorId1": 3938,
          "DetectorIdstring": "5302",
          "date": "2019-03-10",
          "dow": 6,
          "volume": 65371
         },
         {
          "DetectorId": 7901,
          "DetectorId1": 3938,
          "DetectorIdstring": "7901",
          "date": "2019-03-10",
          "dow": 6,
          "volume": 516153660
         },
         {
          "DetectorId": 59997,
          "DetectorId1": 3938,
          "DetectorIdstring": "59997",
          "date": "2019-03-10",
          "dow": 6,
          "volume": 20047
         },
         {
          "DetectorId": 5199,
          "DetectorId1": 4296,
          "DetectorIdstring": "5199",
          "date": "2019-03-11",
          "dow": 0,
          "volume": 0
         },
         {
          "DetectorId": 5302,
          "DetectorId1": 4296,
          "DetectorIdstring": "5302",
          "date": "2019-03-11",
          "dow": 0,
          "volume": 88110
         },
         {
          "DetectorId": 7901,
          "DetectorId1": 4296,
          "DetectorIdstring": "7901",
          "date": "2019-03-11",
          "dow": 0,
          "volume": 565042770
         },
         {
          "DetectorId": 59997,
          "DetectorId1": 4296,
          "DetectorIdstring": "59997",
          "date": "2019-03-11",
          "dow": 0,
          "volume": 31940
         },
         {
          "DetectorId": 5199,
          "DetectorId1": 4296,
          "DetectorIdstring": "5199",
          "date": "2019-03-12",
          "dow": 1,
          "volume": 0
         },
         {
          "DetectorId": 5302,
          "DetectorId1": 4296,
          "DetectorIdstring": "5302",
          "date": "2019-03-12",
          "dow": 1,
          "volume": 80490
         },
         {
          "DetectorId": 7901,
          "DetectorId1": 4296,
          "DetectorIdstring": "7901",
          "date": "2019-03-12",
          "dow": 1,
          "volume": 563076720
         },
         {
          "DetectorId": 59997,
          "DetectorId1": 4296,
          "DetectorIdstring": "59997",
          "date": "2019-03-12",
          "dow": 1,
          "volume": 33228
         },
         {
          "DetectorId": 5199,
          "DetectorId1": 4296,
          "DetectorIdstring": "5199",
          "date": "2019-03-13",
          "dow": 2,
          "volume": 0
         },
         {
          "DetectorId": 5302,
          "DetectorId1": 4296,
          "DetectorIdstring": "5302",
          "date": "2019-03-13",
          "dow": 2,
          "volume": 33594
         },
         {
          "DetectorId": 7901,
          "DetectorId1": 4296,
          "DetectorIdstring": "7901",
          "date": "2019-03-13",
          "dow": 2,
          "volume": 563076720
         },
         {
          "DetectorId": 59997,
          "DetectorId1": 4296,
          "DetectorIdstring": "59997",
          "date": "2019-03-13",
          "dow": 2,
          "volume": 34599
         },
         {
          "DetectorId": 5199,
          "DetectorId1": 4296,
          "DetectorIdstring": "5199",
          "date": "2019-03-14",
          "dow": 3,
          "volume": 0
         },
         {
          "DetectorId": 5302,
          "DetectorId1": 4296,
          "DetectorIdstring": "5302",
          "date": "2019-03-14",
          "dow": 3,
          "volume": 59469
         },
         {
          "DetectorId": 7901,
          "DetectorId1": 4296,
          "DetectorIdstring": "7901",
          "date": "2019-03-14",
          "dow": 3,
          "volume": 262271070
         },
         {
          "DetectorId": 59997,
          "DetectorId1": 4296,
          "DetectorIdstring": "59997",
          "date": "2019-03-14",
          "dow": 3,
          "volume": 35096
         },
         {
          "DetectorId": 5199,
          "DetectorId1": 4296,
          "DetectorIdstring": "5199",
          "date": "2019-03-15",
          "dow": 4,
          "volume": 0
         },
         {
          "DetectorId": 5302,
          "DetectorId1": 4296,
          "DetectorIdstring": "5302",
          "date": "2019-03-15",
          "dow": 4,
          "volume": 63564
         },
         {
          "DetectorId": 7901,
          "DetectorId1": 4296,
          "DetectorIdstring": "7901",
          "date": "2019-03-15",
          "dow": 4,
          "volume": 0
         },
         {
          "DetectorId": 59997,
          "DetectorId1": 4296,
          "DetectorIdstring": "59997",
          "date": "2019-03-15",
          "dow": 4,
          "volume": 37248
         },
         {
          "DetectorId": 5199,
          "DetectorId1": 4296,
          "DetectorIdstring": "5199",
          "date": "2019-03-16",
          "dow": 5,
          "volume": 0
         },
         {
          "DetectorId": 5302,
          "DetectorId1": 4296,
          "DetectorIdstring": "5302",
          "date": "2019-03-16",
          "dow": 5,
          "volume": 55089
         },
         {
          "DetectorId": 7901,
          "DetectorId1": 4296,
          "DetectorIdstring": "7901",
          "date": "2019-03-16",
          "dow": 5,
          "volume": 0
         },
         {
          "DetectorId": 59997,
          "DetectorId1": 4296,
          "DetectorIdstring": "59997",
          "date": "2019-03-16",
          "dow": 5,
          "volume": 26667
         },
         {
          "DetectorId": 5199,
          "DetectorId1": 4296,
          "DetectorIdstring": "5199",
          "date": "2019-03-17",
          "dow": 6,
          "volume": 0
         },
         {
          "DetectorId": 5302,
          "DetectorId1": 4296,
          "DetectorIdstring": "5302",
          "date": "2019-03-17",
          "dow": 6,
          "volume": 50031
         },
         {
          "DetectorId": 7901,
          "DetectorId1": 4296,
          "DetectorIdstring": "7901",
          "date": "2019-03-17",
          "dow": 6,
          "volume": 0
         },
         {
          "DetectorId": 59997,
          "DetectorId1": 4296,
          "DetectorIdstring": "59997",
          "date": "2019-03-17",
          "dow": 6,
          "volume": 21956
         },
         {
          "DetectorId": 5199,
          "DetectorId1": 4296,
          "DetectorIdstring": "5199",
          "date": "2019-03-18",
          "dow": 0,
          "volume": 0
         },
         {
          "DetectorId": 5302,
          "DetectorId1": 4296,
          "DetectorIdstring": "5302",
          "date": "2019-03-18",
          "dow": 0,
          "volume": 59888
         },
         {
          "DetectorId": 7901,
          "DetectorId1": 4296,
          "DetectorIdstring": "7901",
          "date": "2019-03-18",
          "dow": 0,
          "volume": 0
         },
         {
          "DetectorId": 59997,
          "DetectorId1": 4296,
          "DetectorIdstring": "59997",
          "date": "2019-03-18",
          "dow": 0,
          "volume": 30987
         },
         {
          "DetectorId": 5199,
          "DetectorId1": 4296,
          "DetectorIdstring": "5199",
          "date": "2019-03-19",
          "dow": 1,
          "volume": 0
         },
         {
          "DetectorId": 5302,
          "DetectorId1": 4296,
          "DetectorIdstring": "5302",
          "date": "2019-03-19",
          "dow": 1,
          "volume": 60148
         },
         {
          "DetectorId": 7901,
          "DetectorId1": 4296,
          "DetectorIdstring": "7901",
          "date": "2019-03-19",
          "dow": 1,
          "volume": 0
         },
         {
          "DetectorId": 59997,
          "DetectorId1": 4296,
          "DetectorIdstring": "59997",
          "date": "2019-03-19",
          "dow": 1,
          "volume": 32700
         },
         {
          "DetectorId": 5199,
          "DetectorId1": 4255,
          "DetectorIdstring": "5199",
          "date": "2019-03-20",
          "dow": 2,
          "volume": 0
         },
         {
          "DetectorId": 5302,
          "DetectorId1": 4255,
          "DetectorIdstring": "5302",
          "date": "2019-03-20",
          "dow": 2,
          "volume": 58006
         },
         {
          "DetectorId": 7901,
          "DetectorId1": 4255,
          "DetectorIdstring": "7901",
          "date": "2019-03-20",
          "dow": 2,
          "volume": 0
         },
         {
          "DetectorId": 59997,
          "DetectorId1": 4255,
          "DetectorIdstring": "59997",
          "date": "2019-03-20",
          "dow": 2,
          "volume": 34971
         },
         {
          "DetectorId": 5199,
          "DetectorId1": 4296,
          "DetectorIdstring": "5199",
          "date": "2019-03-21",
          "dow": 3,
          "volume": 0
         },
         {
          "DetectorId": 5302,
          "DetectorId1": 4296,
          "DetectorIdstring": "5302",
          "date": "2019-03-21",
          "dow": 3,
          "volume": 63024
         },
         {
          "DetectorId": 7901,
          "DetectorId1": 4296,
          "DetectorIdstring": "7901",
          "date": "2019-03-21",
          "dow": 3,
          "volume": 0
         },
         {
          "DetectorId": 59997,
          "DetectorId1": 4296,
          "DetectorIdstring": "59997",
          "date": "2019-03-21",
          "dow": 3,
          "volume": 32618
         },
         {
          "DetectorId": 5199,
          "DetectorId1": 4296,
          "DetectorIdstring": "5199",
          "date": "2019-03-22",
          "dow": 4,
          "volume": 0
         },
         {
          "DetectorId": 5302,
          "DetectorId1": 4296,
          "DetectorIdstring": "5302",
          "date": "2019-03-22",
          "dow": 4,
          "volume": 63620
         },
         {
          "DetectorId": 7901,
          "DetectorId1": 4296,
          "DetectorIdstring": "7901",
          "date": "2019-03-22",
          "dow": 4,
          "volume": 0
         },
         {
          "DetectorId": 59997,
          "DetectorId1": 4296,
          "DetectorIdstring": "59997",
          "date": "2019-03-22",
          "dow": 4,
          "volume": 38205
         },
         {
          "DetectorId": 5199,
          "DetectorId1": 4296,
          "DetectorIdstring": "5199",
          "date": "2019-03-23",
          "dow": 5,
          "volume": 0
         },
         {
          "DetectorId": 5302,
          "DetectorId1": 4296,
          "DetectorIdstring": "5302",
          "date": "2019-03-23",
          "dow": 5,
          "volume": 56268
         },
         {
          "DetectorId": 7901,
          "DetectorId1": 4296,
          "DetectorIdstring": "7901",
          "date": "2019-03-23",
          "dow": 5,
          "volume": 0
         },
         {
          "DetectorId": 59997,
          "DetectorId1": 4296,
          "DetectorIdstring": "59997",
          "date": "2019-03-23",
          "dow": 5,
          "volume": 27515
         },
         {
          "DetectorId": 5199,
          "DetectorId1": 4296,
          "DetectorIdstring": "5199",
          "date": "2019-03-24",
          "dow": 6,
          "volume": 0
         },
         {
          "DetectorId": 5302,
          "DetectorId1": 4296,
          "DetectorIdstring": "5302",
          "date": "2019-03-24",
          "dow": 6,
          "volume": 48681
         },
         {
          "DetectorId": 7901,
          "DetectorId1": 4296,
          "DetectorIdstring": "7901",
          "date": "2019-03-24",
          "dow": 6,
          "volume": 0
         },
         {
          "DetectorId": 59997,
          "DetectorId1": 4296,
          "DetectorIdstring": "59997",
          "date": "2019-03-24",
          "dow": 6,
          "volume": 21801
         },
         {
          "DetectorId": 5199,
          "DetectorId1": 4296,
          "DetectorIdstring": "5199",
          "date": "2019-03-25",
          "dow": 0,
          "volume": 0
         },
         {
          "DetectorId": 5302,
          "DetectorId1": 4296,
          "DetectorIdstring": "5302",
          "date": "2019-03-25",
          "dow": 0,
          "volume": 59293
         },
         {
          "DetectorId": 7901,
          "DetectorId1": 4296,
          "DetectorIdstring": "7901",
          "date": "2019-03-25",
          "dow": 0,
          "volume": 0
         },
         {
          "DetectorId": 59997,
          "DetectorId1": 4296,
          "DetectorIdstring": "59997",
          "date": "2019-03-25",
          "dow": 0,
          "volume": 30991
         },
         {
          "DetectorId": 5199,
          "DetectorId1": 4296,
          "DetectorIdstring": "5199",
          "date": "2019-03-26",
          "dow": 1,
          "volume": 0
         },
         {
          "DetectorId": 5302,
          "DetectorId1": 4296,
          "DetectorIdstring": "5302",
          "date": "2019-03-26",
          "dow": 1,
          "volume": 61425
         },
         {
          "DetectorId": 7901,
          "DetectorId1": 4296,
          "DetectorIdstring": "7901",
          "date": "2019-03-26",
          "dow": 1,
          "volume": 0
         },
         {
          "DetectorId": 59997,
          "DetectorId1": 4296,
          "DetectorIdstring": "59997",
          "date": "2019-03-26",
          "dow": 1,
          "volume": 31228
         },
         {
          "DetectorId": 5199,
          "DetectorId1": 4296,
          "DetectorIdstring": "5199",
          "date": "2019-03-27",
          "dow": 2,
          "volume": 0
         },
         {
          "DetectorId": 5302,
          "DetectorId1": 4296,
          "DetectorIdstring": "5302",
          "date": "2019-03-27",
          "dow": 2,
          "volume": 62046
         },
         {
          "DetectorId": 7901,
          "DetectorId1": 4296,
          "DetectorIdstring": "7901",
          "date": "2019-03-27",
          "dow": 2,
          "volume": 0
         },
         {
          "DetectorId": 59997,
          "DetectorId1": 4296,
          "DetectorIdstring": "59997",
          "date": "2019-03-27",
          "dow": 2,
          "volume": 32800
         },
         {
          "DetectorId": 5199,
          "DetectorId1": 4296,
          "DetectorIdstring": "5199",
          "date": "2019-03-28",
          "dow": 3,
          "volume": 0
         },
         {
          "DetectorId": 5302,
          "DetectorId1": 4296,
          "DetectorIdstring": "5302",
          "date": "2019-03-28",
          "dow": 3,
          "volume": 62690
         },
         {
          "DetectorId": 7901,
          "DetectorId1": 4296,
          "DetectorIdstring": "7901",
          "date": "2019-03-28",
          "dow": 3,
          "volume": 0
         },
         {
          "DetectorId": 59997,
          "DetectorId1": 4296,
          "DetectorIdstring": "59997",
          "date": "2019-03-28",
          "dow": 3,
          "volume": 32909
         },
         {
          "DetectorId": 5199,
          "DetectorId1": 4237,
          "DetectorIdstring": "5199",
          "date": "2019-03-29",
          "dow": 4,
          "volume": 0
         },
         {
          "DetectorId": 5302,
          "DetectorId1": 4237,
          "DetectorIdstring": "5302",
          "date": "2019-03-29",
          "dow": 4,
          "volume": 63704
         },
         {
          "DetectorId": 7901,
          "DetectorId1": 4237,
          "DetectorIdstring": "7901",
          "date": "2019-03-29",
          "dow": 4,
          "volume": 0
         },
         {
          "DetectorId": 59997,
          "DetectorId1": 4237,
          "DetectorIdstring": "59997",
          "date": "2019-03-29",
          "dow": 4,
          "volume": 34560
         },
         {
          "DetectorId": 5199,
          "DetectorId1": 4296,
          "DetectorIdstring": "5199",
          "date": "2019-03-30",
          "dow": 5,
          "volume": 0
         },
         {
          "DetectorId": 5302,
          "DetectorId1": 4296,
          "DetectorIdstring": "5302",
          "date": "2019-03-30",
          "dow": 5,
          "volume": 54487
         },
         {
          "DetectorId": 7901,
          "DetectorId1": 4296,
          "DetectorIdstring": "7901",
          "date": "2019-03-30",
          "dow": 5,
          "volume": 0
         },
         {
          "DetectorId": 59997,
          "DetectorId1": 4296,
          "DetectorIdstring": "59997",
          "date": "2019-03-30",
          "dow": 5,
          "volume": 26809
         },
         {
          "DetectorId": 5199,
          "DetectorId1": 4296,
          "DetectorIdstring": "5199",
          "date": "2019-03-31",
          "dow": 6,
          "volume": 0
         },
         {
          "DetectorId": 5302,
          "DetectorId1": 4296,
          "DetectorIdstring": "5302",
          "date": "2019-03-31",
          "dow": 6,
          "volume": 49020
         },
         {
          "DetectorId": 7901,
          "DetectorId1": 4296,
          "DetectorIdstring": "7901",
          "date": "2019-03-31",
          "dow": 6,
          "volume": 0
         },
         {
          "DetectorId": 59997,
          "DetectorId1": 4296,
          "DetectorIdstring": "59997",
          "date": "2019-03-31",
          "dow": 6,
          "volume": 22236
         },
         {
          "DetectorId": 5199,
          "DetectorId1": 4296,
          "DetectorIdstring": "5199",
          "date": "2019-04-01",
          "dow": 0,
          "volume": 0
         },
         {
          "DetectorId": 5302,
          "DetectorId1": 4296,
          "DetectorIdstring": "5302",
          "date": "2019-04-01",
          "dow": 0,
          "volume": 58968
         },
         {
          "DetectorId": 7901,
          "DetectorId1": 4296,
          "DetectorIdstring": "7901",
          "date": "2019-04-01",
          "dow": 0,
          "volume": 0
         },
         {
          "DetectorId": 59997,
          "DetectorId1": 4296,
          "DetectorIdstring": "59997",
          "date": "2019-04-01",
          "dow": 0,
          "volume": 29686
         },
         {
          "DetectorId": 5199,
          "DetectorId1": 4296,
          "DetectorIdstring": "5199",
          "date": "2019-04-02",
          "dow": 1,
          "volume": 0
         },
         {
          "DetectorId": 5302,
          "DetectorId1": 4296,
          "DetectorIdstring": "5302",
          "date": "2019-04-02",
          "dow": 1,
          "volume": 61786
         },
         {
          "DetectorId": 7901,
          "DetectorId1": 4296,
          "DetectorIdstring": "7901",
          "date": "2019-04-02",
          "dow": 1,
          "volume": 0
         },
         {
          "DetectorId": 59997,
          "DetectorId1": 4296,
          "DetectorIdstring": "59997",
          "date": "2019-04-02",
          "dow": 1,
          "volume": 32198
         },
         {
          "DetectorId": 5199,
          "DetectorId1": 4296,
          "DetectorIdstring": "5199",
          "date": "2019-04-03",
          "dow": 2,
          "volume": 0
         },
         {
          "DetectorId": 5302,
          "DetectorId1": 4296,
          "DetectorIdstring": "5302",
          "date": "2019-04-03",
          "dow": 2,
          "volume": 58755
         },
         {
          "DetectorId": 7901,
          "DetectorId1": 4296,
          "DetectorIdstring": "7901",
          "date": "2019-04-03",
          "dow": 2,
          "volume": 0
         },
         {
          "DetectorId": 59997,
          "DetectorId1": 4296,
          "DetectorIdstring": "59997",
          "date": "2019-04-03",
          "dow": 2,
          "volume": 33299
         },
         {
          "DetectorId": 5199,
          "DetectorId1": 4296,
          "DetectorIdstring": "5199",
          "date": "2019-04-04",
          "dow": 3,
          "volume": 0
         },
         {
          "DetectorId": 5302,
          "DetectorId1": 4296,
          "DetectorIdstring": "5302",
          "date": "2019-04-04",
          "dow": 3,
          "volume": 60024
         },
         {
          "DetectorId": 7901,
          "DetectorId1": 4296,
          "DetectorIdstring": "7901",
          "date": "2019-04-04",
          "dow": 3,
          "volume": 0
         },
         {
          "DetectorId": 59997,
          "DetectorId1": 4296,
          "DetectorIdstring": "59997",
          "date": "2019-04-04",
          "dow": 3,
          "volume": 37011
         },
         {
          "DetectorId": 5199,
          "DetectorId1": 4296,
          "DetectorIdstring": "5199",
          "date": "2019-04-05",
          "dow": 4,
          "volume": 0
         },
         {
          "DetectorId": 5302,
          "DetectorId1": 4296,
          "DetectorIdstring": "5302",
          "date": "2019-04-05",
          "dow": 4,
          "volume": 60951
         },
         {
          "DetectorId": 7901,
          "DetectorId1": 4296,
          "DetectorIdstring": "7901",
          "date": "2019-04-05",
          "dow": 4,
          "volume": 0
         },
         {
          "DetectorId": 59997,
          "DetectorId1": 4296,
          "DetectorIdstring": "59997",
          "date": "2019-04-05",
          "dow": 4,
          "volume": 33646
         },
         {
          "DetectorId": 5199,
          "DetectorId1": 4266,
          "DetectorIdstring": "5199",
          "date": "2019-04-06",
          "dow": 5,
          "volume": 0
         },
         {
          "DetectorId": 5302,
          "DetectorId1": 4266,
          "DetectorIdstring": "5302",
          "date": "2019-04-06",
          "dow": 5,
          "volume": 57457
         },
         {
          "DetectorId": 7901,
          "DetectorId1": 4266,
          "DetectorIdstring": "7901",
          "date": "2019-04-06",
          "dow": 5,
          "volume": 0
         },
         {
          "DetectorId": 59997,
          "DetectorId1": 4266,
          "DetectorIdstring": "59997",
          "date": "2019-04-06",
          "dow": 5,
          "volume": 28273
         },
         {
          "DetectorId": 5199,
          "DetectorId1": 4296,
          "DetectorIdstring": "5199",
          "date": "2019-04-07",
          "dow": 6,
          "volume": 0
         },
         {
          "DetectorId": 5302,
          "DetectorId1": 4296,
          "DetectorIdstring": "5302",
          "date": "2019-04-07",
          "dow": 6,
          "volume": 54924
         },
         {
          "DetectorId": 7901,
          "DetectorId1": 4296,
          "DetectorIdstring": "7901",
          "date": "2019-04-07",
          "dow": 6,
          "volume": 0
         },
         {
          "DetectorId": 59997,
          "DetectorId1": 4296,
          "DetectorIdstring": "59997",
          "date": "2019-04-07",
          "dow": 6,
          "volume": 25845
         },
         {
          "DetectorId": 5199,
          "DetectorId1": 4295,
          "DetectorIdstring": "5199",
          "date": "2019-04-08",
          "dow": 0,
          "volume": 0
         },
         {
          "DetectorId": 5302,
          "DetectorId1": 4295,
          "DetectorIdstring": "5302",
          "date": "2019-04-08",
          "dow": 0,
          "volume": 59819
         },
         {
          "DetectorId": 7901,
          "DetectorId1": 4295,
          "DetectorIdstring": "7901",
          "date": "2019-04-08",
          "dow": 0,
          "volume": 0
         },
         {
          "DetectorId": 59997,
          "DetectorId1": 4295,
          "DetectorIdstring": "59997",
          "date": "2019-04-08",
          "dow": 0,
          "volume": 32825
         },
         {
          "DetectorId": 5199,
          "DetectorId1": 4296,
          "DetectorIdstring": "5199",
          "date": "2019-04-09",
          "dow": 1,
          "volume": 40864
         },
         {
          "DetectorId": 5302,
          "DetectorId1": 4296,
          "DetectorIdstring": "5302",
          "date": "2019-04-09",
          "dow": 1,
          "volume": 60500
         },
         {
          "DetectorId": 7901,
          "DetectorId1": 4296,
          "DetectorIdstring": "7901",
          "date": "2019-04-09",
          "dow": 1,
          "volume": 0
         },
         {
          "DetectorId": 59997,
          "DetectorId1": 4296,
          "DetectorIdstring": "59997",
          "date": "2019-04-09",
          "dow": 1,
          "volume": 33409
         },
         {
          "DetectorId": 5199,
          "DetectorId1": 3968,
          "DetectorIdstring": "5199",
          "date": "2019-04-10",
          "dow": 2,
          "volume": 93999
         },
         {
          "DetectorId": 5302,
          "DetectorId1": 3968,
          "DetectorIdstring": "5302",
          "date": "2019-04-10",
          "dow": 2,
          "volume": 53863
         },
         {
          "DetectorId": 7901,
          "DetectorId1": 3968,
          "DetectorIdstring": "7901",
          "date": "2019-04-10",
          "dow": 2,
          "volume": 0
         },
         {
          "DetectorId": 59997,
          "DetectorId1": 3968,
          "DetectorIdstring": "59997",
          "date": "2019-04-10",
          "dow": 2,
          "volume": 31130
         },
         {
          "DetectorId": 5199,
          "DetectorId1": 2685,
          "DetectorIdstring": "5199",
          "date": "2019-04-11",
          "dow": 3,
          "volume": 49203
         },
         {
          "DetectorId": 5302,
          "DetectorId1": 2685,
          "DetectorIdstring": "5302",
          "date": "2019-04-11",
          "dow": 3,
          "volume": 33046
         },
         {
          "DetectorId": 7901,
          "DetectorId1": 2685,
          "DetectorIdstring": "7901",
          "date": "2019-04-11",
          "dow": 3,
          "volume": 0
         },
         {
          "DetectorId": 59997,
          "DetectorId1": 2685,
          "DetectorIdstring": "59997",
          "date": "2019-04-11",
          "dow": 3,
          "volume": 25067
         },
         {
          "DetectorId": 5199,
          "DetectorId1": 4296,
          "DetectorIdstring": "5199",
          "date": "2019-04-12",
          "dow": 4,
          "volume": 114958
         },
         {
          "DetectorId": 5302,
          "DetectorId1": 4296,
          "DetectorIdstring": "5302",
          "date": "2019-04-12",
          "dow": 4,
          "volume": 16650
         },
         {
          "DetectorId": 7901,
          "DetectorId1": 4296,
          "DetectorIdstring": "7901",
          "date": "2019-04-12",
          "dow": 4,
          "volume": 0
         },
         {
          "DetectorId": 59997,
          "DetectorId1": 4296,
          "DetectorIdstring": "59997",
          "date": "2019-04-12",
          "dow": 4,
          "volume": 34472
         },
         {
          "DetectorId": 5199,
          "DetectorId1": 4296,
          "DetectorIdstring": "5199",
          "date": "2019-04-13",
          "dow": 5,
          "volume": 105938
         },
         {
          "DetectorId": 5302,
          "DetectorId1": 4296,
          "DetectorIdstring": "5302",
          "date": "2019-04-13",
          "dow": 5,
          "volume": 55601
         },
         {
          "DetectorId": 7901,
          "DetectorId1": 4296,
          "DetectorIdstring": "7901",
          "date": "2019-04-13",
          "dow": 5,
          "volume": 0
         },
         {
          "DetectorId": 59997,
          "DetectorId1": 4296,
          "DetectorIdstring": "59997",
          "date": "2019-04-13",
          "dow": 5,
          "volume": 26272
         },
         {
          "DetectorId": 5199,
          "DetectorId1": 4296,
          "DetectorIdstring": "5199",
          "date": "2019-04-14",
          "dow": 6,
          "volume": 71475
         },
         {
          "DetectorId": 5302,
          "DetectorId1": 4296,
          "DetectorIdstring": "5302",
          "date": "2019-04-14",
          "dow": 6,
          "volume": 23737
         },
         {
          "DetectorId": 7901,
          "DetectorId1": 4296,
          "DetectorIdstring": "7901",
          "date": "2019-04-14",
          "dow": 6,
          "volume": 0
         },
         {
          "DetectorId": 59997,
          "DetectorId1": 4296,
          "DetectorIdstring": "59997",
          "date": "2019-04-14",
          "dow": 6,
          "volume": 22812
         },
         {
          "DetectorId": 5199,
          "DetectorId1": 4296,
          "DetectorIdstring": "5199",
          "date": "2019-04-15",
          "dow": 0,
          "volume": 95499
         },
         {
          "DetectorId": 5302,
          "DetectorId1": 4296,
          "DetectorIdstring": "5302",
          "date": "2019-04-15",
          "dow": 0,
          "volume": 57855
         },
         {
          "DetectorId": 7901,
          "DetectorId1": 4296,
          "DetectorIdstring": "7901",
          "date": "2019-04-15",
          "dow": 0,
          "volume": 0
         },
         {
          "DetectorId": 59997,
          "DetectorId1": 4296,
          "DetectorIdstring": "59997",
          "date": "2019-04-15",
          "dow": 0,
          "volume": 32270
         },
         {
          "DetectorId": 5199,
          "DetectorId1": 4296,
          "DetectorIdstring": "5199",
          "date": "2019-04-16",
          "dow": 1,
          "volume": 99890
         },
         {
          "DetectorId": 5302,
          "DetectorId1": 4296,
          "DetectorIdstring": "5302",
          "date": "2019-04-16",
          "dow": 1,
          "volume": 60947
         },
         {
          "DetectorId": 7901,
          "DetectorId1": 4296,
          "DetectorIdstring": "7901",
          "date": "2019-04-16",
          "dow": 1,
          "volume": 0
         },
         {
          "DetectorId": 59997,
          "DetectorId1": 4296,
          "DetectorIdstring": "59997",
          "date": "2019-04-16",
          "dow": 1,
          "volume": 33729
         },
         {
          "DetectorId": 5199,
          "DetectorId1": 4296,
          "DetectorIdstring": "5199",
          "date": "2019-04-17",
          "dow": 2,
          "volume": 104656
         },
         {
          "DetectorId": 5302,
          "DetectorId1": 4296,
          "DetectorIdstring": "5302",
          "date": "2019-04-17",
          "dow": 2,
          "volume": 62063
         },
         {
          "DetectorId": 7901,
          "DetectorId1": 4296,
          "DetectorIdstring": "7901",
          "date": "2019-04-17",
          "dow": 2,
          "volume": 0
         },
         {
          "DetectorId": 59997,
          "DetectorId1": 4296,
          "DetectorIdstring": "59997",
          "date": "2019-04-17",
          "dow": 2,
          "volume": 34941
         },
         {
          "DetectorId": 5199,
          "DetectorId1": 4296,
          "DetectorIdstring": "5199",
          "date": "2019-04-18",
          "dow": 3,
          "volume": 106974
         },
         {
          "DetectorId": 5302,
          "DetectorId1": 4296,
          "DetectorIdstring": "5302",
          "date": "2019-04-18",
          "dow": 3,
          "volume": 544983
         },
         {
          "DetectorId": 7901,
          "DetectorId1": 4296,
          "DetectorIdstring": "7901",
          "date": "2019-04-18",
          "dow": 3,
          "volume": 0
         },
         {
          "DetectorId": 59997,
          "DetectorId1": 4296,
          "DetectorIdstring": "59997",
          "date": "2019-04-18",
          "dow": 3,
          "volume": 39148
         },
         {
          "DetectorId": 5199,
          "DetectorId1": 4296,
          "DetectorIdstring": "5199",
          "date": "2019-04-19",
          "dow": 4,
          "volume": 107535
         },
         {
          "DetectorId": 5302,
          "DetectorId1": 4296,
          "DetectorIdstring": "5302",
          "date": "2019-04-19",
          "dow": 4,
          "volume": 22264
         },
         {
          "DetectorId": 7901,
          "DetectorId1": 4296,
          "DetectorIdstring": "7901",
          "date": "2019-04-19",
          "dow": 4,
          "volume": 0
         },
         {
          "DetectorId": 59997,
          "DetectorId1": 4296,
          "DetectorIdstring": "59997",
          "date": "2019-04-19",
          "dow": 4,
          "volume": 35662
         },
         {
          "DetectorId": 5199,
          "DetectorId1": 4281,
          "DetectorIdstring": "5199",
          "date": "2019-04-20",
          "dow": 5,
          "volume": 100510
         },
         {
          "DetectorId": 5302,
          "DetectorId1": 4281,
          "DetectorIdstring": "5302",
          "date": "2019-04-20",
          "dow": 5,
          "volume": 19128
         },
         {
          "DetectorId": 7901,
          "DetectorId1": 4281,
          "DetectorIdstring": "7901",
          "date": "2019-04-20",
          "dow": 5,
          "volume": 0
         },
         {
          "DetectorId": 59997,
          "DetectorId1": 4281,
          "DetectorIdstring": "59997",
          "date": "2019-04-20",
          "dow": 5,
          "volume": 27063
         },
         {
          "DetectorId": 5199,
          "DetectorId1": 4296,
          "DetectorIdstring": "5199",
          "date": "2019-04-21",
          "dow": 6,
          "volume": 92233
         },
         {
          "DetectorId": 5302,
          "DetectorId1": 4296,
          "DetectorIdstring": "5302",
          "date": "2019-04-21",
          "dow": 6,
          "volume": 11676
         },
         {
          "DetectorId": 7901,
          "DetectorId1": 4296,
          "DetectorIdstring": "7901",
          "date": "2019-04-21",
          "dow": 6,
          "volume": 0
         },
         {
          "DetectorId": 59997,
          "DetectorId1": 4296,
          "DetectorIdstring": "59997",
          "date": "2019-04-21",
          "dow": 6,
          "volume": 32720
         },
         {
          "DetectorId": 5199,
          "DetectorId1": 4296,
          "DetectorIdstring": "5199",
          "date": "2019-04-22",
          "dow": 0,
          "volume": 98082
         },
         {
          "DetectorId": 5302,
          "DetectorId1": 4296,
          "DetectorIdstring": "5302",
          "date": "2019-04-22",
          "dow": 0,
          "volume": 13918
         },
         {
          "DetectorId": 7901,
          "DetectorId1": 4296,
          "DetectorIdstring": "7901",
          "date": "2019-04-22",
          "dow": 0,
          "volume": 0
         },
         {
          "DetectorId": 59997,
          "DetectorId1": 4296,
          "DetectorIdstring": "59997",
          "date": "2019-04-22",
          "dow": 0,
          "volume": 34533
         },
         {
          "DetectorId": 5199,
          "DetectorId1": 4296,
          "DetectorIdstring": "5199",
          "date": "2019-04-23",
          "dow": 1,
          "volume": 101644
         },
         {
          "DetectorId": 5302,
          "DetectorId1": 4296,
          "DetectorIdstring": "5302",
          "date": "2019-04-23",
          "dow": 1,
          "volume": 275995
         },
         {
          "DetectorId": 7901,
          "DetectorId1": 4296,
          "DetectorIdstring": "7901",
          "date": "2019-04-23",
          "dow": 1,
          "volume": 0
         },
         {
          "DetectorId": 59997,
          "DetectorId1": 4296,
          "DetectorIdstring": "59997",
          "date": "2019-04-23",
          "dow": 1,
          "volume": 34935
         },
         {
          "DetectorId": 5199,
          "DetectorId1": 4296,
          "DetectorIdstring": "5199",
          "date": "2019-04-24",
          "dow": 2,
          "volume": 102189
         },
         {
          "DetectorId": 5302,
          "DetectorId1": 4296,
          "DetectorIdstring": "5302",
          "date": "2019-04-24",
          "dow": 2,
          "volume": 4699
         },
         {
          "DetectorId": 7901,
          "DetectorId1": 4296,
          "DetectorIdstring": "7901",
          "date": "2019-04-24",
          "dow": 2,
          "volume": 0
         },
         {
          "DetectorId": 59997,
          "DetectorId1": 4296,
          "DetectorIdstring": "59997",
          "date": "2019-04-24",
          "dow": 2,
          "volume": 34848
         },
         {
          "DetectorId": 5199,
          "DetectorId1": 2491,
          "DetectorIdstring": "5199",
          "date": "2019-04-25",
          "dow": 3,
          "volume": 75690
         },
         {
          "DetectorId": 5302,
          "DetectorId1": 2491,
          "DetectorIdstring": "5302",
          "date": "2019-04-25",
          "dow": 3,
          "volume": 674
         },
         {
          "DetectorId": 7901,
          "DetectorId1": 2491,
          "DetectorIdstring": "7901",
          "date": "2019-04-25",
          "dow": 3,
          "volume": 0
         },
         {
          "DetectorId": 59997,
          "DetectorId1": 2491,
          "DetectorIdstring": "59997",
          "date": "2019-04-25",
          "dow": 3,
          "volume": 29993
         },
         {
          "DetectorId": 5199,
          "DetectorId1": 910,
          "DetectorIdstring": "5199",
          "date": "2019-04-30",
          "dow": 1,
          "volume": 5784
         },
         {
          "DetectorId": 5302,
          "DetectorId1": 910,
          "DetectorIdstring": "5302",
          "date": "2019-04-30",
          "dow": 1,
          "volume": 0
         },
         {
          "DetectorId": 7901,
          "DetectorId1": 910,
          "DetectorIdstring": "7901",
          "date": "2019-04-30",
          "dow": 1,
          "volume": 0
         },
         {
          "DetectorId": 59997,
          "DetectorId1": 910,
          "DetectorIdstring": "59997",
          "date": "2019-04-30",
          "dow": 1,
          "volume": 2724
         },
         {
          "DetectorId": 5199,
          "DetectorId1": 1491,
          "DetectorIdstring": "5199",
          "date": "2019-05-01",
          "dow": 2,
          "volume": 17963
         },
         {
          "DetectorId": 5302,
          "DetectorId1": 1491,
          "DetectorIdstring": "5302",
          "date": "2019-05-01",
          "dow": 2,
          "volume": 0
         },
         {
          "DetectorId": 7901,
          "DetectorId1": 1491,
          "DetectorIdstring": "7901",
          "date": "2019-05-01",
          "dow": 2,
          "volume": 0
         },
         {
          "DetectorId": 59997,
          "DetectorId1": 1491,
          "DetectorIdstring": "59997",
          "date": "2019-05-01",
          "dow": 2,
          "volume": 13355
         },
         {
          "DetectorId": 5199,
          "DetectorId1": 4296,
          "DetectorIdstring": "5199",
          "date": "2019-05-02",
          "dow": 3,
          "volume": 105102
         },
         {
          "DetectorId": 5302,
          "DetectorId1": 4296,
          "DetectorIdstring": "5302",
          "date": "2019-05-02",
          "dow": 3,
          "volume": 0
         },
         {
          "DetectorId": 7901,
          "DetectorId1": 4296,
          "DetectorIdstring": "7901",
          "date": "2019-05-02",
          "dow": 3,
          "volume": 0
         },
         {
          "DetectorId": 59997,
          "DetectorId1": 4296,
          "DetectorIdstring": "59997",
          "date": "2019-05-02",
          "dow": 3,
          "volume": 35471
         },
         {
          "DetectorId": 5199,
          "DetectorId1": 4281,
          "DetectorIdstring": "5199",
          "date": "2019-05-03",
          "dow": 4,
          "volume": 118984
         },
         {
          "DetectorId": 5302,
          "DetectorId1": 4281,
          "DetectorIdstring": "5302",
          "date": "2019-05-03",
          "dow": 4,
          "volume": 0
         },
         {
          "DetectorId": 7901,
          "DetectorId1": 4281,
          "DetectorIdstring": "7901",
          "date": "2019-05-03",
          "dow": 4,
          "volume": 0
         },
         {
          "DetectorId": 59997,
          "DetectorId1": 4281,
          "DetectorIdstring": "59997",
          "date": "2019-05-03",
          "dow": 4,
          "volume": 39501
         },
         {
          "DetectorId": 5199,
          "DetectorId1": 4296,
          "DetectorIdstring": "5199",
          "date": "2019-05-04",
          "dow": 5,
          "volume": 104497
         },
         {
          "DetectorId": 5302,
          "DetectorId1": 4296,
          "DetectorIdstring": "5302",
          "date": "2019-05-04",
          "dow": 5,
          "volume": 0
         },
         {
          "DetectorId": 7901,
          "DetectorId1": 4296,
          "DetectorIdstring": "7901",
          "date": "2019-05-04",
          "dow": 5,
          "volume": 0
         },
         {
          "DetectorId": 59997,
          "DetectorId1": 4296,
          "DetectorIdstring": "59997",
          "date": "2019-05-04",
          "dow": 5,
          "volume": 27894
         },
         {
          "DetectorId": 5199,
          "DetectorId1": 4296,
          "DetectorIdstring": "5199",
          "date": "2019-05-05",
          "dow": 6,
          "volume": 89622
         },
         {
          "DetectorId": 5302,
          "DetectorId1": 4296,
          "DetectorIdstring": "5302",
          "date": "2019-05-05",
          "dow": 6,
          "volume": 0
         },
         {
          "DetectorId": 7901,
          "DetectorId1": 4296,
          "DetectorIdstring": "7901",
          "date": "2019-05-05",
          "dow": 6,
          "volume": 0
         },
         {
          "DetectorId": 59997,
          "DetectorId1": 4296,
          "DetectorIdstring": "59997",
          "date": "2019-05-05",
          "dow": 6,
          "volume": 25364
         },
         {
          "DetectorId": 5199,
          "DetectorId1": 4296,
          "DetectorIdstring": "5199",
          "date": "2019-05-06",
          "dow": 0,
          "volume": 97002
         },
         {
          "DetectorId": 5302,
          "DetectorId1": 4296,
          "DetectorIdstring": "5302",
          "date": "2019-05-06",
          "dow": 0,
          "volume": 0
         },
         {
          "DetectorId": 7901,
          "DetectorId1": 4296,
          "DetectorIdstring": "7901",
          "date": "2019-05-06",
          "dow": 0,
          "volume": 0
         },
         {
          "DetectorId": 59997,
          "DetectorId1": 4296,
          "DetectorIdstring": "59997",
          "date": "2019-05-06",
          "dow": 0,
          "volume": 35594
         },
         {
          "DetectorId": 5199,
          "DetectorId1": 4296,
          "DetectorIdstring": "5199",
          "date": "2019-05-07",
          "dow": 1,
          "volume": 105528
         },
         {
          "DetectorId": 5302,
          "DetectorId1": 4296,
          "DetectorIdstring": "5302",
          "date": "2019-05-07",
          "dow": 1,
          "volume": 0
         },
         {
          "DetectorId": 7901,
          "DetectorId1": 4296,
          "DetectorIdstring": "7901",
          "date": "2019-05-07",
          "dow": 1,
          "volume": 0
         },
         {
          "DetectorId": 59997,
          "DetectorId1": 4296,
          "DetectorIdstring": "59997",
          "date": "2019-05-07",
          "dow": 1,
          "volume": 36641
         },
         {
          "DetectorId": 5199,
          "DetectorId1": 4296,
          "DetectorIdstring": "5199",
          "date": "2019-05-08",
          "dow": 2,
          "volume": 105720
         },
         {
          "DetectorId": 5302,
          "DetectorId1": 4296,
          "DetectorIdstring": "5302",
          "date": "2019-05-08",
          "dow": 2,
          "volume": 0
         },
         {
          "DetectorId": 7901,
          "DetectorId1": 4296,
          "DetectorIdstring": "7901",
          "date": "2019-05-08",
          "dow": 2,
          "volume": 0
         },
         {
          "DetectorId": 59997,
          "DetectorId1": 4296,
          "DetectorIdstring": "59997",
          "date": "2019-05-08",
          "dow": 2,
          "volume": 38204
         },
         {
          "DetectorId": 5199,
          "DetectorId1": 4296,
          "DetectorIdstring": "5199",
          "date": "2019-05-09",
          "dow": 3,
          "volume": 69880
         },
         {
          "DetectorId": 5302,
          "DetectorId1": 4296,
          "DetectorIdstring": "5302",
          "date": "2019-05-09",
          "dow": 3,
          "volume": 8825
         },
         {
          "DetectorId": 7901,
          "DetectorId1": 4296,
          "DetectorIdstring": "7901",
          "date": "2019-05-09",
          "dow": 3,
          "volume": 0
         },
         {
          "DetectorId": 59997,
          "DetectorId1": 4296,
          "DetectorIdstring": "59997",
          "date": "2019-05-09",
          "dow": 3,
          "volume": 36888
         },
         {
          "DetectorId": 5199,
          "DetectorId1": 4296,
          "DetectorIdstring": "5199",
          "date": "2019-05-10",
          "dow": 4,
          "volume": 26715
         },
         {
          "DetectorId": 5302,
          "DetectorId1": 4296,
          "DetectorIdstring": "5302",
          "date": "2019-05-10",
          "dow": 4,
          "volume": 22990
         },
         {
          "DetectorId": 7901,
          "DetectorId1": 4296,
          "DetectorIdstring": "7901",
          "date": "2019-05-10",
          "dow": 4,
          "volume": 0
         },
         {
          "DetectorId": 59997,
          "DetectorId1": 4296,
          "DetectorIdstring": "59997",
          "date": "2019-05-10",
          "dow": 4,
          "volume": 38615
         },
         {
          "DetectorId": 5199,
          "DetectorId1": 4296,
          "DetectorIdstring": "5199",
          "date": "2019-05-11",
          "dow": 5,
          "volume": 63730
         },
         {
          "DetectorId": 5302,
          "DetectorId1": 4296,
          "DetectorIdstring": "5302",
          "date": "2019-05-11",
          "dow": 5,
          "volume": 19589
         },
         {
          "DetectorId": 7901,
          "DetectorId1": 4296,
          "DetectorIdstring": "7901",
          "date": "2019-05-11",
          "dow": 5,
          "volume": 0
         },
         {
          "DetectorId": 59997,
          "DetectorId1": 4296,
          "DetectorIdstring": "59997",
          "date": "2019-05-11",
          "dow": 5,
          "volume": 34498
         },
         {
          "DetectorId": 5199,
          "DetectorId1": 4296,
          "DetectorIdstring": "5199",
          "date": "2019-05-12",
          "dow": 6,
          "volume": 102767
         },
         {
          "DetectorId": 5302,
          "DetectorId1": 4296,
          "DetectorIdstring": "5302",
          "date": "2019-05-12",
          "dow": 6,
          "volume": 16018
         },
         {
          "DetectorId": 7901,
          "DetectorId1": 4296,
          "DetectorIdstring": "7901",
          "date": "2019-05-12",
          "dow": 6,
          "volume": 0
         },
         {
          "DetectorId": 59997,
          "DetectorId1": 4296,
          "DetectorIdstring": "59997",
          "date": "2019-05-12",
          "dow": 6,
          "volume": 31021
         },
         {
          "DetectorId": 5199,
          "DetectorId1": 4296,
          "DetectorIdstring": "5199",
          "date": "2019-05-13",
          "dow": 0,
          "volume": 98721
         },
         {
          "DetectorId": 5302,
          "DetectorId1": 4296,
          "DetectorIdstring": "5302",
          "date": "2019-05-13",
          "dow": 0,
          "volume": 21350
         },
         {
          "DetectorId": 7901,
          "DetectorId1": 4296,
          "DetectorIdstring": "7901",
          "date": "2019-05-13",
          "dow": 0,
          "volume": 0
         },
         {
          "DetectorId": 59997,
          "DetectorId1": 4296,
          "DetectorIdstring": "59997",
          "date": "2019-05-13",
          "dow": 0,
          "volume": 35191
         },
         {
          "DetectorId": 5199,
          "DetectorId1": 4296,
          "DetectorIdstring": "5199",
          "date": "2019-05-14",
          "dow": 1,
          "volume": 102916
         },
         {
          "DetectorId": 5302,
          "DetectorId1": 4296,
          "DetectorIdstring": "5302",
          "date": "2019-05-14",
          "dow": 1,
          "volume": 21520
         },
         {
          "DetectorId": 7901,
          "DetectorId1": 4296,
          "DetectorIdstring": "7901",
          "date": "2019-05-14",
          "dow": 1,
          "volume": 0
         },
         {
          "DetectorId": 59997,
          "DetectorId1": 4296,
          "DetectorIdstring": "59997",
          "date": "2019-05-14",
          "dow": 1,
          "volume": 34719
         },
         {
          "DetectorId": 5199,
          "DetectorId1": 4296,
          "DetectorIdstring": "5199",
          "date": "2019-05-15",
          "dow": 2,
          "volume": 103747
         },
         {
          "DetectorId": 5302,
          "DetectorId1": 4296,
          "DetectorIdstring": "5302",
          "date": "2019-05-15",
          "dow": 2,
          "volume": 21726
         },
         {
          "DetectorId": 7901,
          "DetectorId1": 4296,
          "DetectorIdstring": "7901",
          "date": "2019-05-15",
          "dow": 2,
          "volume": 0
         },
         {
          "DetectorId": 59997,
          "DetectorId1": 4296,
          "DetectorIdstring": "59997",
          "date": "2019-05-15",
          "dow": 2,
          "volume": 35870
         },
         {
          "DetectorId": 5199,
          "DetectorId1": 4296,
          "DetectorIdstring": "5199",
          "date": "2019-05-16",
          "dow": 3,
          "volume": 131113
         },
         {
          "DetectorId": 5302,
          "DetectorId1": 4296,
          "DetectorIdstring": "5302",
          "date": "2019-05-16",
          "dow": 3,
          "volume": 21508
         },
         {
          "DetectorId": 7901,
          "DetectorId1": 4296,
          "DetectorIdstring": "7901",
          "date": "2019-05-16",
          "dow": 3,
          "volume": 0
         },
         {
          "DetectorId": 59997,
          "DetectorId1": 4296,
          "DetectorIdstring": "59997",
          "date": "2019-05-16",
          "dow": 3,
          "volume": 37588
         },
         {
          "DetectorId": 5199,
          "DetectorId1": 4296,
          "DetectorIdstring": "5199",
          "date": "2019-05-17",
          "dow": 4,
          "volume": 143249
         },
         {
          "DetectorId": 5302,
          "DetectorId1": 4296,
          "DetectorIdstring": "5302",
          "date": "2019-05-17",
          "dow": 4,
          "volume": 23564
         },
         {
          "DetectorId": 7901,
          "DetectorId1": 4296,
          "DetectorIdstring": "7901",
          "date": "2019-05-17",
          "dow": 4,
          "volume": 0
         },
         {
          "DetectorId": 59997,
          "DetectorId1": 4296,
          "DetectorIdstring": "59997",
          "date": "2019-05-17",
          "dow": 4,
          "volume": 40896
         },
         {
          "DetectorId": 5199,
          "DetectorId1": 4296,
          "DetectorIdstring": "5199",
          "date": "2019-05-18",
          "dow": 5,
          "volume": 134736
         },
         {
          "DetectorId": 5302,
          "DetectorId1": 4296,
          "DetectorIdstring": "5302",
          "date": "2019-05-18",
          "dow": 5,
          "volume": 19464
         },
         {
          "DetectorId": 7901,
          "DetectorId1": 4296,
          "DetectorIdstring": "7901",
          "date": "2019-05-18",
          "dow": 5,
          "volume": 0
         },
         {
          "DetectorId": 59997,
          "DetectorId1": 4296,
          "DetectorIdstring": "59997",
          "date": "2019-05-18",
          "dow": 5,
          "volume": 33655
         },
         {
          "DetectorId": 5199,
          "DetectorId1": 4296,
          "DetectorIdstring": "5199",
          "date": "2019-05-19",
          "dow": 6,
          "volume": 119026
         },
         {
          "DetectorId": 5302,
          "DetectorId1": 4296,
          "DetectorIdstring": "5302",
          "date": "2019-05-19",
          "dow": 6,
          "volume": 12743
         },
         {
          "DetectorId": 7901,
          "DetectorId1": 4296,
          "DetectorIdstring": "7901",
          "date": "2019-05-19",
          "dow": 6,
          "volume": 0
         },
         {
          "DetectorId": 59997,
          "DetectorId1": 4296,
          "DetectorIdstring": "59997",
          "date": "2019-05-19",
          "dow": 6,
          "volume": 25345
         },
         {
          "DetectorId": 5199,
          "DetectorId1": 4296,
          "DetectorIdstring": "5199",
          "date": "2019-05-20",
          "dow": 0,
          "volume": 134614
         },
         {
          "DetectorId": 5302,
          "DetectorId1": 4296,
          "DetectorIdstring": "5302",
          "date": "2019-05-20",
          "dow": 0,
          "volume": 21614
         },
         {
          "DetectorId": 7901,
          "DetectorId1": 4296,
          "DetectorIdstring": "7901",
          "date": "2019-05-20",
          "dow": 0,
          "volume": 0
         },
         {
          "DetectorId": 59997,
          "DetectorId1": 4296,
          "DetectorIdstring": "59997",
          "date": "2019-05-20",
          "dow": 0,
          "volume": 36486
         },
         {
          "DetectorId": 5199,
          "DetectorId1": 4289,
          "DetectorIdstring": "5199",
          "date": "2019-05-21",
          "dow": 1,
          "volume": 136081
         },
         {
          "DetectorId": 5302,
          "DetectorId1": 4289,
          "DetectorIdstring": "5302",
          "date": "2019-05-21",
          "dow": 1,
          "volume": 21807
         },
         {
          "DetectorId": 7901,
          "DetectorId1": 4289,
          "DetectorIdstring": "7901",
          "date": "2019-05-21",
          "dow": 1,
          "volume": 0
         },
         {
          "DetectorId": 59997,
          "DetectorId1": 4289,
          "DetectorIdstring": "59997",
          "date": "2019-05-21",
          "dow": 1,
          "volume": 36964
         },
         {
          "DetectorId": 5199,
          "DetectorId1": 4294,
          "DetectorIdstring": "5199",
          "date": "2019-05-22",
          "dow": 2,
          "volume": 138579
         },
         {
          "DetectorId": 5302,
          "DetectorId1": 4294,
          "DetectorIdstring": "5302",
          "date": "2019-05-22",
          "dow": 2,
          "volume": 22298
         },
         {
          "DetectorId": 7901,
          "DetectorId1": 4294,
          "DetectorIdstring": "7901",
          "date": "2019-05-22",
          "dow": 2,
          "volume": 0
         },
         {
          "DetectorId": 59997,
          "DetectorId1": 4294,
          "DetectorIdstring": "59997",
          "date": "2019-05-22",
          "dow": 2,
          "volume": 37098
         },
         {
          "DetectorId": 5199,
          "DetectorId1": 4292,
          "DetectorIdstring": "5199",
          "date": "2019-05-23",
          "dow": 3,
          "volume": 143762
         },
         {
          "DetectorId": 5302,
          "DetectorId1": 4292,
          "DetectorIdstring": "5302",
          "date": "2019-05-23",
          "dow": 3,
          "volume": 22512
         },
         {
          "DetectorId": 7901,
          "DetectorId1": 4292,
          "DetectorIdstring": "7901",
          "date": "2019-05-23",
          "dow": 3,
          "volume": 0
         },
         {
          "DetectorId": 59997,
          "DetectorId1": 4292,
          "DetectorIdstring": "59997",
          "date": "2019-05-23",
          "dow": 3,
          "volume": 37331
         },
         {
          "DetectorId": 5199,
          "DetectorId1": 4296,
          "DetectorIdstring": "5199",
          "date": "2019-05-24",
          "dow": 4,
          "volume": 141244
         },
         {
          "DetectorId": 5302,
          "DetectorId1": 4296,
          "DetectorIdstring": "5302",
          "date": "2019-05-24",
          "dow": 4,
          "volume": 22615
         },
         {
          "DetectorId": 7901,
          "DetectorId1": 4296,
          "DetectorIdstring": "7901",
          "date": "2019-05-24",
          "dow": 4,
          "volume": 0
         },
         {
          "DetectorId": 59997,
          "DetectorId1": 4296,
          "DetectorIdstring": "59997",
          "date": "2019-05-24",
          "dow": 4,
          "volume": 36113
         },
         {
          "DetectorId": 5199,
          "DetectorId1": 4296,
          "DetectorIdstring": "5199",
          "date": "2019-05-25",
          "dow": 5,
          "volume": 137910
         },
         {
          "DetectorId": 5302,
          "DetectorId1": 4296,
          "DetectorIdstring": "5302",
          "date": "2019-05-25",
          "dow": 5,
          "volume": 18843
         },
         {
          "DetectorId": 7901,
          "DetectorId1": 4296,
          "DetectorIdstring": "7901",
          "date": "2019-05-25",
          "dow": 5,
          "volume": 0
         },
         {
          "DetectorId": 59997,
          "DetectorId1": 4296,
          "DetectorIdstring": "59997",
          "date": "2019-05-25",
          "dow": 5,
          "volume": 28029
         },
         {
          "DetectorId": 5199,
          "DetectorId1": 4296,
          "DetectorIdstring": "5199",
          "date": "2019-05-26",
          "dow": 6,
          "volume": 123884
         },
         {
          "DetectorId": 5302,
          "DetectorId1": 4296,
          "DetectorIdstring": "5302",
          "date": "2019-05-26",
          "dow": 6,
          "volume": 16781
         },
         {
          "DetectorId": 7901,
          "DetectorId1": 4296,
          "DetectorIdstring": "7901",
          "date": "2019-05-26",
          "dow": 6,
          "volume": 0
         },
         {
          "DetectorId": 59997,
          "DetectorId1": 4296,
          "DetectorIdstring": "59997",
          "date": "2019-05-26",
          "dow": 6,
          "volume": 23916
         },
         {
          "DetectorId": 5199,
          "DetectorId1": 4296,
          "DetectorIdstring": "5199",
          "date": "2019-05-27",
          "dow": 0,
          "volume": 96807
         },
         {
          "DetectorId": 5302,
          "DetectorId1": 4296,
          "DetectorIdstring": "5302",
          "date": "2019-05-27",
          "dow": 0,
          "volume": 13606
         },
         {
          "DetectorId": 7901,
          "DetectorId1": 4296,
          "DetectorIdstring": "7901",
          "date": "2019-05-27",
          "dow": 0,
          "volume": 0
         },
         {
          "DetectorId": 59997,
          "DetectorId1": 4296,
          "DetectorIdstring": "59997",
          "date": "2019-05-27",
          "dow": 0,
          "volume": 25797
         },
         {
          "DetectorId": 5199,
          "DetectorId1": 4295,
          "DetectorIdstring": "5199",
          "date": "2019-05-28",
          "dow": 1,
          "volume": 82472
         },
         {
          "DetectorId": 5302,
          "DetectorId1": 4295,
          "DetectorIdstring": "5302",
          "date": "2019-05-28",
          "dow": 1,
          "volume": 20347
         },
         {
          "DetectorId": 7901,
          "DetectorId1": 4295,
          "DetectorIdstring": "7901",
          "date": "2019-05-28",
          "dow": 1,
          "volume": 0
         },
         {
          "DetectorId": 59997,
          "DetectorId1": 4295,
          "DetectorIdstring": "59997",
          "date": "2019-05-28",
          "dow": 1,
          "volume": 35271
         },
         {
          "DetectorId": 5199,
          "DetectorId1": 4280,
          "DetectorIdstring": "5199",
          "date": "2019-05-29",
          "dow": 2,
          "volume": 138808
         },
         {
          "DetectorId": 5302,
          "DetectorId1": 4280,
          "DetectorIdstring": "5302",
          "date": "2019-05-29",
          "dow": 2,
          "volume": 22108
         },
         {
          "DetectorId": 7901,
          "DetectorId1": 4280,
          "DetectorIdstring": "7901",
          "date": "2019-05-29",
          "dow": 2,
          "volume": 0
         },
         {
          "DetectorId": 59997,
          "DetectorId1": 4280,
          "DetectorIdstring": "59997",
          "date": "2019-05-29",
          "dow": 2,
          "volume": 34648
         },
         {
          "DetectorId": 5199,
          "DetectorId1": 4274,
          "DetectorIdstring": "5199",
          "date": "2019-05-30",
          "dow": 3,
          "volume": 140938
         },
         {
          "DetectorId": 5302,
          "DetectorId1": 4274,
          "DetectorIdstring": "5302",
          "date": "2019-05-30",
          "dow": 3,
          "volume": 24177
         },
         {
          "DetectorId": 7901,
          "DetectorId1": 4274,
          "DetectorIdstring": "7901",
          "date": "2019-05-30",
          "dow": 3,
          "volume": 0
         },
         {
          "DetectorId": 59997,
          "DetectorId1": 4274,
          "DetectorIdstring": "59997",
          "date": "2019-05-30",
          "dow": 3,
          "volume": 35837
         },
         {
          "DetectorId": 5199,
          "DetectorId1": 4284,
          "DetectorIdstring": "5199",
          "date": "2019-05-31",
          "dow": 4,
          "volume": 149921
         },
         {
          "DetectorId": 5302,
          "DetectorId1": 4284,
          "DetectorIdstring": "5302",
          "date": "2019-05-31",
          "dow": 4,
          "volume": 23667
         },
         {
          "DetectorId": 7901,
          "DetectorId1": 4284,
          "DetectorIdstring": "7901",
          "date": "2019-05-31",
          "dow": 4,
          "volume": 0
         },
         {
          "DetectorId": 59997,
          "DetectorId1": 4284,
          "DetectorIdstring": "59997",
          "date": "2019-05-31",
          "dow": 4,
          "volume": 35687
         },
         {
          "DetectorId": 5199,
          "DetectorId1": 4277,
          "DetectorIdstring": "5199",
          "date": "2019-06-01",
          "dow": 5,
          "volume": 135971
         },
         {
          "DetectorId": 5302,
          "DetectorId1": 4277,
          "DetectorIdstring": "5302",
          "date": "2019-06-01",
          "dow": 5,
          "volume": 19504
         },
         {
          "DetectorId": 7901,
          "DetectorId1": 4277,
          "DetectorIdstring": "7901",
          "date": "2019-06-01",
          "dow": 5,
          "volume": 0
         },
         {
          "DetectorId": 59997,
          "DetectorId1": 4277,
          "DetectorIdstring": "59997",
          "date": "2019-06-01",
          "dow": 5,
          "volume": 29859
         },
         {
          "DetectorId": 5199,
          "DetectorId1": 4221,
          "DetectorIdstring": "5199",
          "date": "2019-06-02",
          "dow": 6,
          "volume": 122577
         },
         {
          "DetectorId": 5302,
          "DetectorId1": 4221,
          "DetectorIdstring": "5302",
          "date": "2019-06-02",
          "dow": 6,
          "volume": 15986
         },
         {
          "DetectorId": 7901,
          "DetectorId1": 4221,
          "DetectorIdstring": "7901",
          "date": "2019-06-02",
          "dow": 6,
          "volume": 0
         },
         {
          "DetectorId": 59997,
          "DetectorId1": 4221,
          "DetectorIdstring": "59997",
          "date": "2019-06-02",
          "dow": 6,
          "volume": 27777
         },
         {
          "DetectorId": 5199,
          "DetectorId1": 4198,
          "DetectorIdstring": "5199",
          "date": "2019-06-03",
          "dow": 0,
          "volume": 129257
         },
         {
          "DetectorId": 5302,
          "DetectorId1": 4198,
          "DetectorIdstring": "5302",
          "date": "2019-06-03",
          "dow": 0,
          "volume": 20859
         },
         {
          "DetectorId": 7901,
          "DetectorId1": 4198,
          "DetectorIdstring": "7901",
          "date": "2019-06-03",
          "dow": 0,
          "volume": 0
         },
         {
          "DetectorId": 59997,
          "DetectorId1": 4198,
          "DetectorIdstring": "59997",
          "date": "2019-06-03",
          "dow": 0,
          "volume": 32568
         },
         {
          "DetectorId": 5199,
          "DetectorId1": 4296,
          "DetectorIdstring": "5199",
          "date": "2019-06-04",
          "dow": 1,
          "volume": 138085
         },
         {
          "DetectorId": 5302,
          "DetectorId1": 4296,
          "DetectorIdstring": "5302",
          "date": "2019-06-04",
          "dow": 1,
          "volume": 21927
         },
         {
          "DetectorId": 7901,
          "DetectorId1": 4296,
          "DetectorIdstring": "7901",
          "date": "2019-06-04",
          "dow": 1,
          "volume": 0
         },
         {
          "DetectorId": 59997,
          "DetectorId1": 4296,
          "DetectorIdstring": "59997",
          "date": "2019-06-04",
          "dow": 1,
          "volume": 35918
         },
         {
          "DetectorId": 5199,
          "DetectorId1": 4295,
          "DetectorIdstring": "5199",
          "date": "2019-06-05",
          "dow": 2,
          "volume": 139629
         },
         {
          "DetectorId": 5302,
          "DetectorId1": 4295,
          "DetectorIdstring": "5302",
          "date": "2019-06-05",
          "dow": 2,
          "volume": 22562
         },
         {
          "DetectorId": 7901,
          "DetectorId1": 4295,
          "DetectorIdstring": "7901",
          "date": "2019-06-05",
          "dow": 2,
          "volume": 0
         },
         {
          "DetectorId": 59997,
          "DetectorId1": 4295,
          "DetectorIdstring": "59997",
          "date": "2019-06-05",
          "dow": 2,
          "volume": 36527
         },
         {
          "DetectorId": 5199,
          "DetectorId1": 4296,
          "DetectorIdstring": "5199",
          "date": "2019-06-06",
          "dow": 3,
          "volume": 138267
         },
         {
          "DetectorId": 5302,
          "DetectorId1": 4296,
          "DetectorIdstring": "5302",
          "date": "2019-06-06",
          "dow": 3,
          "volume": 22382
         },
         {
          "DetectorId": 7901,
          "DetectorId1": 4296,
          "DetectorIdstring": "7901",
          "date": "2019-06-06",
          "dow": 3,
          "volume": 0
         },
         {
          "DetectorId": 59997,
          "DetectorId1": 4296,
          "DetectorIdstring": "59997",
          "date": "2019-06-06",
          "dow": 3,
          "volume": 37106
         },
         {
          "DetectorId": 5199,
          "DetectorId1": 4296,
          "DetectorIdstring": "5199",
          "date": "2019-06-07",
          "dow": 4,
          "volume": 141728
         },
         {
          "DetectorId": 5302,
          "DetectorId1": 4296,
          "DetectorIdstring": "5302",
          "date": "2019-06-07",
          "dow": 4,
          "volume": 23455
         },
         {
          "DetectorId": 7901,
          "DetectorId1": 4296,
          "DetectorIdstring": "7901",
          "date": "2019-06-07",
          "dow": 4,
          "volume": 0
         },
         {
          "DetectorId": 59997,
          "DetectorId1": 4296,
          "DetectorIdstring": "59997",
          "date": "2019-06-07",
          "dow": 4,
          "volume": 39870
         },
         {
          "DetectorId": 5199,
          "DetectorId1": 4296,
          "DetectorIdstring": "5199",
          "date": "2019-06-08",
          "dow": 5,
          "volume": 148856
         },
         {
          "DetectorId": 5302,
          "DetectorId1": 4296,
          "DetectorIdstring": "5302",
          "date": "2019-06-08",
          "dow": 5,
          "volume": 20197
         },
         {
          "DetectorId": 7901,
          "DetectorId1": 4296,
          "DetectorIdstring": "7901",
          "date": "2019-06-08",
          "dow": 5,
          "volume": 0
         },
         {
          "DetectorId": 59997,
          "DetectorId1": 4296,
          "DetectorIdstring": "59997",
          "date": "2019-06-08",
          "dow": 5,
          "volume": 32837
         },
         {
          "DetectorId": 5199,
          "DetectorId1": 4296,
          "DetectorIdstring": "5199",
          "date": "2019-06-09",
          "dow": 6,
          "volume": 119810
         },
         {
          "DetectorId": 5302,
          "DetectorId1": 4296,
          "DetectorIdstring": "5302",
          "date": "2019-06-09",
          "dow": 6,
          "volume": 16258
         },
         {
          "DetectorId": 7901,
          "DetectorId1": 4296,
          "DetectorIdstring": "7901",
          "date": "2019-06-09",
          "dow": 6,
          "volume": 0
         },
         {
          "DetectorId": 59997,
          "DetectorId1": 4296,
          "DetectorIdstring": "59997",
          "date": "2019-06-09",
          "dow": 6,
          "volume": 26752
         },
         {
          "DetectorId": 5199,
          "DetectorId1": 4296,
          "DetectorIdstring": "5199",
          "date": "2019-06-10",
          "dow": 0,
          "volume": 134848
         },
         {
          "DetectorId": 5302,
          "DetectorId1": 4296,
          "DetectorIdstring": "5302",
          "date": "2019-06-10",
          "dow": 0,
          "volume": 22156
         },
         {
          "DetectorId": 7901,
          "DetectorId1": 4296,
          "DetectorIdstring": "7901",
          "date": "2019-06-10",
          "dow": 0,
          "volume": 0
         },
         {
          "DetectorId": 59997,
          "DetectorId1": 4296,
          "DetectorIdstring": "59997",
          "date": "2019-06-10",
          "dow": 0,
          "volume": 36653
         },
         {
          "DetectorId": 5199,
          "DetectorId1": 4295,
          "DetectorIdstring": "5199",
          "date": "2019-06-11",
          "dow": 1,
          "volume": 140138
         },
         {
          "DetectorId": 5302,
          "DetectorId1": 4295,
          "DetectorIdstring": "5302",
          "date": "2019-06-11",
          "dow": 1,
          "volume": 22640
         },
         {
          "DetectorId": 7901,
          "DetectorId1": 4295,
          "DetectorIdstring": "7901",
          "date": "2019-06-11",
          "dow": 1,
          "volume": 0
         },
         {
          "DetectorId": 59997,
          "DetectorId1": 4295,
          "DetectorIdstring": "59997",
          "date": "2019-06-11",
          "dow": 1,
          "volume": 33969
         },
         {
          "DetectorId": 5199,
          "DetectorId1": 4296,
          "DetectorIdstring": "5199",
          "date": "2019-06-12",
          "dow": 2,
          "volume": 132507
         },
         {
          "DetectorId": 5302,
          "DetectorId1": 4296,
          "DetectorIdstring": "5302",
          "date": "2019-06-12",
          "dow": 2,
          "volume": 21765
         },
         {
          "DetectorId": 7901,
          "DetectorId1": 4296,
          "DetectorIdstring": "7901",
          "date": "2019-06-12",
          "dow": 2,
          "volume": 0
         },
         {
          "DetectorId": 59997,
          "DetectorId1": 4296,
          "DetectorIdstring": "59997",
          "date": "2019-06-12",
          "dow": 2,
          "volume": 36769
         },
         {
          "DetectorId": 5199,
          "DetectorId1": 3251,
          "DetectorIdstring": "5199",
          "date": "2019-06-13",
          "dow": 3,
          "volume": 126828
         },
         {
          "DetectorId": 5302,
          "DetectorId1": 3251,
          "DetectorIdstring": "5302",
          "date": "2019-06-13",
          "dow": 3,
          "volume": 19566
         },
         {
          "DetectorId": 7901,
          "DetectorId1": 3251,
          "DetectorIdstring": "7901",
          "date": "2019-06-13",
          "dow": 3,
          "volume": 0
         },
         {
          "DetectorId": 59997,
          "DetectorId1": 3251,
          "DetectorIdstring": "59997",
          "date": "2019-06-13",
          "dow": 3,
          "volume": 33569
         },
         {
          "DetectorId": 5199,
          "DetectorId1": 4296,
          "DetectorIdstring": "5199",
          "date": "2019-06-14",
          "dow": 4,
          "volume": 141597
         },
         {
          "DetectorId": 5302,
          "DetectorId1": 4296,
          "DetectorIdstring": "5302",
          "date": "2019-06-14",
          "dow": 4,
          "volume": 22222
         },
         {
          "DetectorId": 7901,
          "DetectorId1": 4296,
          "DetectorIdstring": "7901",
          "date": "2019-06-14",
          "dow": 4,
          "volume": 0
         },
         {
          "DetectorId": 59997,
          "DetectorId1": 4296,
          "DetectorIdstring": "59997",
          "date": "2019-06-14",
          "dow": 4,
          "volume": 72828
         },
         {
          "DetectorId": 5199,
          "DetectorId1": 4296,
          "DetectorIdstring": "5199",
          "date": "2019-06-15",
          "dow": 5,
          "volume": 147437
         },
         {
          "DetectorId": 5302,
          "DetectorId1": 4296,
          "DetectorIdstring": "5302",
          "date": "2019-06-15",
          "dow": 5,
          "volume": 20123
         },
         {
          "DetectorId": 7901,
          "DetectorId1": 4296,
          "DetectorIdstring": "7901",
          "date": "2019-06-15",
          "dow": 5,
          "volume": 0
         },
         {
          "DetectorId": 59997,
          "DetectorId1": 4296,
          "DetectorIdstring": "59997",
          "date": "2019-06-15",
          "dow": 5,
          "volume": 60704
         },
         {
          "DetectorId": 5199,
          "DetectorId1": 4296,
          "DetectorIdstring": "5199",
          "date": "2019-06-16",
          "dow": 6,
          "volume": 130767
         },
         {
          "DetectorId": 5302,
          "DetectorId1": 4296,
          "DetectorIdstring": "5302",
          "date": "2019-06-16",
          "dow": 6,
          "volume": 16404
         },
         {
          "DetectorId": 7901,
          "DetectorId1": 4296,
          "DetectorIdstring": "7901",
          "date": "2019-06-16",
          "dow": 6,
          "volume": 0
         },
         {
          "DetectorId": 59997,
          "DetectorId1": 4296,
          "DetectorIdstring": "59997",
          "date": "2019-06-16",
          "dow": 6,
          "volume": 52492
         },
         {
          "DetectorId": 5199,
          "DetectorId1": 4296,
          "DetectorIdstring": "5199",
          "date": "2019-06-17",
          "dow": 0,
          "volume": 128607
         },
         {
          "DetectorId": 5302,
          "DetectorId1": 4296,
          "DetectorIdstring": "5302",
          "date": "2019-06-17",
          "dow": 0,
          "volume": 20542
         },
         {
          "DetectorId": 7901,
          "DetectorId1": 4296,
          "DetectorIdstring": "7901",
          "date": "2019-06-17",
          "dow": 0,
          "volume": 0
         },
         {
          "DetectorId": 59997,
          "DetectorId1": 4296,
          "DetectorIdstring": "59997",
          "date": "2019-06-17",
          "dow": 0,
          "volume": 63926
         },
         {
          "DetectorId": 5199,
          "DetectorId1": 4296,
          "DetectorIdstring": "5199",
          "date": "2019-06-18",
          "dow": 1,
          "volume": 135731
         },
         {
          "DetectorId": 5302,
          "DetectorId1": 4296,
          "DetectorIdstring": "5302",
          "date": "2019-06-18",
          "dow": 1,
          "volume": 22082
         },
         {
          "DetectorId": 7901,
          "DetectorId1": 4296,
          "DetectorIdstring": "7901",
          "date": "2019-06-18",
          "dow": 1,
          "volume": 0
         },
         {
          "DetectorId": 59997,
          "DetectorId1": 4296,
          "DetectorIdstring": "59997",
          "date": "2019-06-18",
          "dow": 1,
          "volume": 65884
         },
         {
          "DetectorId": 5199,
          "DetectorId1": 4252,
          "DetectorIdstring": "5199",
          "date": "2019-06-19",
          "dow": 2,
          "volume": 130112
         },
         {
          "DetectorId": 5302,
          "DetectorId1": 4252,
          "DetectorIdstring": "5302",
          "date": "2019-06-19",
          "dow": 2,
          "volume": 21782
         },
         {
          "DetectorId": 7901,
          "DetectorId1": 4252,
          "DetectorIdstring": "7901",
          "date": "2019-06-19",
          "dow": 2,
          "volume": 0
         },
         {
          "DetectorId": 59997,
          "DetectorId1": 4252,
          "DetectorIdstring": "59997",
          "date": "2019-06-19",
          "dow": 2,
          "volume": 67122
         },
         {
          "DetectorId": 5199,
          "DetectorId1": 4296,
          "DetectorIdstring": "5199",
          "date": "2019-06-20",
          "dow": 3,
          "volume": 140345
         },
         {
          "DetectorId": 5302,
          "DetectorId1": 4296,
          "DetectorIdstring": "5302",
          "date": "2019-06-20",
          "dow": 3,
          "volume": 22522
         },
         {
          "DetectorId": 7901,
          "DetectorId1": 4296,
          "DetectorIdstring": "7901",
          "date": "2019-06-20",
          "dow": 3,
          "volume": 0
         },
         {
          "DetectorId": 59997,
          "DetectorId1": 4296,
          "DetectorIdstring": "59997",
          "date": "2019-06-20",
          "dow": 3,
          "volume": 70329
         },
         {
          "DetectorId": 5199,
          "DetectorId1": 4090,
          "DetectorIdstring": "5199",
          "date": "2019-06-21",
          "dow": 4,
          "volume": 133996
         },
         {
          "DetectorId": 5302,
          "DetectorId1": 4090,
          "DetectorIdstring": "5302",
          "date": "2019-06-21",
          "dow": 4,
          "volume": 22018
         },
         {
          "DetectorId": 7901,
          "DetectorId1": 4090,
          "DetectorIdstring": "7901",
          "date": "2019-06-21",
          "dow": 4,
          "volume": 0
         },
         {
          "DetectorId": 59997,
          "DetectorId1": 4090,
          "DetectorIdstring": "59997",
          "date": "2019-06-21",
          "dow": 4,
          "volume": 34874
         },
         {
          "DetectorId": 5199,
          "DetectorId1": 4235,
          "DetectorIdstring": "5199",
          "date": "2019-06-22",
          "dow": 5,
          "volume": 144524
         },
         {
          "DetectorId": 5302,
          "DetectorId1": 4235,
          "DetectorIdstring": "5302",
          "date": "2019-06-22",
          "dow": 5,
          "volume": 20004
         },
         {
          "DetectorId": 7901,
          "DetectorId1": 4235,
          "DetectorIdstring": "7901",
          "date": "2019-06-22",
          "dow": 5,
          "volume": 0
         },
         {
          "DetectorId": 59997,
          "DetectorId1": 4235,
          "DetectorIdstring": "59997",
          "date": "2019-06-22",
          "dow": 5,
          "volume": 59444
         },
         {
          "DetectorId": 5199,
          "DetectorId1": 4296,
          "DetectorIdstring": "5199",
          "date": "2019-06-23",
          "dow": 6,
          "volume": 128013
         },
         {
          "DetectorId": 5302,
          "DetectorId1": 4296,
          "DetectorIdstring": "5302",
          "date": "2019-06-23",
          "dow": 6,
          "volume": 16767
         },
         {
          "DetectorId": 7901,
          "DetectorId1": 4296,
          "DetectorIdstring": "7901",
          "date": "2019-06-23",
          "dow": 6,
          "volume": 0
         },
         {
          "DetectorId": 59997,
          "DetectorId1": 4296,
          "DetectorIdstring": "59997",
          "date": "2019-06-23",
          "dow": 6,
          "volume": 49697
         },
         {
          "DetectorId": 5199,
          "DetectorId1": 3949,
          "DetectorIdstring": "5199",
          "date": "2019-06-24",
          "dow": 0,
          "volume": 117035
         },
         {
          "DetectorId": 5302,
          "DetectorId1": 3949,
          "DetectorIdstring": "5302",
          "date": "2019-06-24",
          "dow": 0,
          "volume": 19003
         },
         {
          "DetectorId": 7901,
          "DetectorId1": 3949,
          "DetectorIdstring": "7901",
          "date": "2019-06-24",
          "dow": 0,
          "volume": 0
         },
         {
          "DetectorId": 59997,
          "DetectorId1": 3949,
          "DetectorIdstring": "59997",
          "date": "2019-06-24",
          "dow": 0,
          "volume": 57111
         },
         {
          "DetectorId": 5199,
          "DetectorId1": 4296,
          "DetectorIdstring": "5199",
          "date": "2019-06-25",
          "dow": 1,
          "volume": 139125
         },
         {
          "DetectorId": 5302,
          "DetectorId1": 4296,
          "DetectorIdstring": "5302",
          "date": "2019-06-25",
          "dow": 1,
          "volume": 22547
         },
         {
          "DetectorId": 7901,
          "DetectorId1": 4296,
          "DetectorIdstring": "7901",
          "date": "2019-06-25",
          "dow": 1,
          "volume": 0
         },
         {
          "DetectorId": 59997,
          "DetectorId1": 4296,
          "DetectorIdstring": "59997",
          "date": "2019-06-25",
          "dow": 1,
          "volume": 60701
         },
         {
          "DetectorId": 5199,
          "DetectorId1": 4296,
          "DetectorIdstring": "5199",
          "date": "2019-06-26",
          "dow": 2,
          "volume": 142628
         },
         {
          "DetectorId": 5302,
          "DetectorId1": 4296,
          "DetectorIdstring": "5302",
          "date": "2019-06-26",
          "dow": 2,
          "volume": 22657
         },
         {
          "DetectorId": 7901,
          "DetectorId1": 4296,
          "DetectorIdstring": "7901",
          "date": "2019-06-26",
          "dow": 2,
          "volume": 0
         },
         {
          "DetectorId": 59997,
          "DetectorId1": 4296,
          "DetectorIdstring": "59997",
          "date": "2019-06-26",
          "dow": 2,
          "volume": 67546
         },
         {
          "DetectorId": 5199,
          "DetectorId1": 4296,
          "DetectorIdstring": "5199",
          "date": "2019-06-27",
          "dow": 3,
          "volume": 140116
         },
         {
          "DetectorId": 5302,
          "DetectorId1": 4296,
          "DetectorIdstring": "5302",
          "date": "2019-06-27",
          "dow": 3,
          "volume": 22617
         },
         {
          "DetectorId": 7901,
          "DetectorId1": 4296,
          "DetectorIdstring": "7901",
          "date": "2019-06-27",
          "dow": 3,
          "volume": 0
         },
         {
          "DetectorId": 59997,
          "DetectorId1": 4296,
          "DetectorIdstring": "59997",
          "date": "2019-06-27",
          "dow": 3,
          "volume": 56394
         },
         {
          "DetectorId": 5199,
          "DetectorId1": 4296,
          "DetectorIdstring": "5199",
          "date": "2019-06-28",
          "dow": 4,
          "volume": 144910
         },
         {
          "DetectorId": 5302,
          "DetectorId1": 4296,
          "DetectorIdstring": "5302",
          "date": "2019-06-28",
          "dow": 4,
          "volume": 22986
         },
         {
          "DetectorId": 7901,
          "DetectorId1": 4296,
          "DetectorIdstring": "7901",
          "date": "2019-06-28",
          "dow": 4,
          "volume": 0
         },
         {
          "DetectorId": 59997,
          "DetectorId1": 4296,
          "DetectorIdstring": "59997",
          "date": "2019-06-28",
          "dow": 4,
          "volume": 59365
         },
         {
          "DetectorId": 5199,
          "DetectorId1": 4296,
          "DetectorIdstring": "5199",
          "date": "2019-06-29",
          "dow": 5,
          "volume": 145105
         },
         {
          "DetectorId": 5302,
          "DetectorId1": 4296,
          "DetectorIdstring": "5302",
          "date": "2019-06-29",
          "dow": 5,
          "volume": 16674
         },
         {
          "DetectorId": 7901,
          "DetectorId1": 4296,
          "DetectorIdstring": "7901",
          "date": "2019-06-29",
          "dow": 5,
          "volume": 0
         },
         {
          "DetectorId": 59997,
          "DetectorId1": 4296,
          "DetectorIdstring": "59997",
          "date": "2019-06-29",
          "dow": 5,
          "volume": 49174
         },
         {
          "DetectorId": 5199,
          "DetectorId1": 2535,
          "DetectorIdstring": "5199",
          "date": "2019-06-30",
          "dow": 6,
          "volume": 66447
         },
         {
          "DetectorId": 5302,
          "DetectorId1": 2535,
          "DetectorIdstring": "5302",
          "date": "2019-06-30",
          "dow": 6,
          "volume": 8647
         },
         {
          "DetectorId": 7901,
          "DetectorId1": 2535,
          "DetectorIdstring": "7901",
          "date": "2019-06-30",
          "dow": 6,
          "volume": 0
         },
         {
          "DetectorId": 59997,
          "DetectorId1": 2535,
          "DetectorIdstring": "59997",
          "date": "2019-06-30",
          "dow": 6,
          "volume": 20637
         },
         {
          "DetectorId": 5199,
          "DetectorId1": 3014,
          "DetectorIdstring": "5199",
          "date": "2019-07-01",
          "dow": 0,
          "volume": 106702
         },
         {
          "DetectorId": 5302,
          "DetectorId1": 3014,
          "DetectorIdstring": "5302",
          "date": "2019-07-01",
          "dow": 0,
          "volume": 18666
         },
         {
          "DetectorId": 7901,
          "DetectorId1": 3014,
          "DetectorIdstring": "7901",
          "date": "2019-07-01",
          "dow": 0,
          "volume": 0
         },
         {
          "DetectorId": 59997,
          "DetectorId1": 3014,
          "DetectorIdstring": "59997",
          "date": "2019-07-01",
          "dow": 0,
          "volume": 39698
         },
         {
          "DetectorId": 5199,
          "DetectorId1": 4296,
          "DetectorIdstring": "5199",
          "date": "2019-07-02",
          "dow": 1,
          "volume": 45729
         },
         {
          "DetectorId": 5302,
          "DetectorId1": 4296,
          "DetectorIdstring": "5302",
          "date": "2019-07-02",
          "dow": 1,
          "volume": 22017
         },
         {
          "DetectorId": 7901,
          "DetectorId1": 4296,
          "DetectorIdstring": "7901",
          "date": "2019-07-02",
          "dow": 1,
          "volume": 0
         },
         {
          "DetectorId": 59997,
          "DetectorId1": 4296,
          "DetectorIdstring": "59997",
          "date": "2019-07-02",
          "dow": 1,
          "volume": 50384
         },
         {
          "DetectorId": 5199,
          "DetectorId1": 4293,
          "DetectorIdstring": "5199",
          "date": "2019-07-03",
          "dow": 2,
          "volume": 0
         },
         {
          "DetectorId": 5302,
          "DetectorId1": 4293,
          "DetectorIdstring": "5302",
          "date": "2019-07-03",
          "dow": 2,
          "volume": 20994
         },
         {
          "DetectorId": 7901,
          "DetectorId1": 4293,
          "DetectorIdstring": "7901",
          "date": "2019-07-03",
          "dow": 2,
          "volume": 0
         },
         {
          "DetectorId": 59997,
          "DetectorId1": 4293,
          "DetectorIdstring": "59997",
          "date": "2019-07-03",
          "dow": 2,
          "volume": 55487
         },
         {
          "DetectorId": 5199,
          "DetectorId1": 4242,
          "DetectorIdstring": "5199",
          "date": "2019-07-04",
          "dow": 3,
          "volume": 0
         },
         {
          "DetectorId": 5302,
          "DetectorId1": 4242,
          "DetectorIdstring": "5302",
          "date": "2019-07-04",
          "dow": 3,
          "volume": 16426
         },
         {
          "DetectorId": 7901,
          "DetectorId1": 4242,
          "DetectorIdstring": "7901",
          "date": "2019-07-04",
          "dow": 3,
          "volume": 0
         },
         {
          "DetectorId": 59997,
          "DetectorId1": 4242,
          "DetectorIdstring": "59997",
          "date": "2019-07-04",
          "dow": 3,
          "volume": 35662
         },
         {
          "DetectorId": 5199,
          "DetectorId1": 4245,
          "DetectorIdstring": "5199",
          "date": "2019-07-05",
          "dow": 4,
          "volume": 0
         },
         {
          "DetectorId": 5302,
          "DetectorId1": 4245,
          "DetectorIdstring": "5302",
          "date": "2019-07-05",
          "dow": 4,
          "volume": 20559
         },
         {
          "DetectorId": 7901,
          "DetectorId1": 4245,
          "DetectorIdstring": "7901",
          "date": "2019-07-05",
          "dow": 4,
          "volume": 0
         },
         {
          "DetectorId": 59997,
          "DetectorId1": 4245,
          "DetectorIdstring": "59997",
          "date": "2019-07-05",
          "dow": 4,
          "volume": 47564
         },
         {
          "DetectorId": 5199,
          "DetectorId1": 4215,
          "DetectorIdstring": "5199",
          "date": "2019-07-06",
          "dow": 5,
          "volume": 0
         },
         {
          "DetectorId": 5302,
          "DetectorId1": 4215,
          "DetectorIdstring": "5302",
          "date": "2019-07-06",
          "dow": 5,
          "volume": 17462
         },
         {
          "DetectorId": 7901,
          "DetectorId1": 4215,
          "DetectorIdstring": "7901",
          "date": "2019-07-06",
          "dow": 5,
          "volume": 0
         },
         {
          "DetectorId": 59997,
          "DetectorId1": 4215,
          "DetectorIdstring": "59997",
          "date": "2019-07-06",
          "dow": 5,
          "volume": 44953
         },
         {
          "DetectorId": 5199,
          "DetectorId1": 4235,
          "DetectorIdstring": "5199",
          "date": "2019-07-07",
          "dow": 6,
          "volume": 0
         },
         {
          "DetectorId": 5302,
          "DetectorId1": 4235,
          "DetectorIdstring": "5302",
          "date": "2019-07-07",
          "dow": 6,
          "volume": 16583
         },
         {
          "DetectorId": 7901,
          "DetectorId1": 4235,
          "DetectorIdstring": "7901",
          "date": "2019-07-07",
          "dow": 6,
          "volume": 0
         },
         {
          "DetectorId": 59997,
          "DetectorId1": 4235,
          "DetectorIdstring": "59997",
          "date": "2019-07-07",
          "dow": 6,
          "volume": 43438
         },
         {
          "DetectorId": 5199,
          "DetectorId1": 4216,
          "DetectorIdstring": "5199",
          "date": "2019-07-08",
          "dow": 0,
          "volume": 0
         },
         {
          "DetectorId": 5302,
          "DetectorId1": 4216,
          "DetectorIdstring": "5302",
          "date": "2019-07-08",
          "dow": 0,
          "volume": 21502
         },
         {
          "DetectorId": 7901,
          "DetectorId1": 4216,
          "DetectorIdstring": "7901",
          "date": "2019-07-08",
          "dow": 0,
          "volume": 0
         },
         {
          "DetectorId": 59997,
          "DetectorId1": 4216,
          "DetectorIdstring": "59997",
          "date": "2019-07-08",
          "dow": 0,
          "volume": 48950
         },
         {
          "DetectorId": 5199,
          "DetectorId1": 4296,
          "DetectorIdstring": "5199",
          "date": "2019-07-09",
          "dow": 1,
          "volume": 0
         },
         {
          "DetectorId": 5302,
          "DetectorId1": 4296,
          "DetectorIdstring": "5302",
          "date": "2019-07-09",
          "dow": 1,
          "volume": 22621
         },
         {
          "DetectorId": 7901,
          "DetectorId1": 4296,
          "DetectorIdstring": "7901",
          "date": "2019-07-09",
          "dow": 1,
          "volume": 0
         },
         {
          "DetectorId": 59997,
          "DetectorId1": 4296,
          "DetectorIdstring": "59997",
          "date": "2019-07-09",
          "dow": 1,
          "volume": 55112
         },
         {
          "DetectorId": 5199,
          "DetectorId1": 4296,
          "DetectorIdstring": "5199",
          "date": "2019-07-10",
          "dow": 2,
          "volume": 0
         },
         {
          "DetectorId": 5302,
          "DetectorId1": 4296,
          "DetectorIdstring": "5302",
          "date": "2019-07-10",
          "dow": 2,
          "volume": 22309
         },
         {
          "DetectorId": 7901,
          "DetectorId1": 4296,
          "DetectorIdstring": "7901",
          "date": "2019-07-10",
          "dow": 2,
          "volume": 0
         },
         {
          "DetectorId": 59997,
          "DetectorId1": 4296,
          "DetectorIdstring": "59997",
          "date": "2019-07-10",
          "dow": 2,
          "volume": 54898
         },
         {
          "DetectorId": 5199,
          "DetectorId1": 4296,
          "DetectorIdstring": "5199",
          "date": "2019-07-11",
          "dow": 3,
          "volume": 0
         },
         {
          "DetectorId": 5302,
          "DetectorId1": 4296,
          "DetectorIdstring": "5302",
          "date": "2019-07-11",
          "dow": 3,
          "volume": 22494
         },
         {
          "DetectorId": 7901,
          "DetectorId1": 4296,
          "DetectorIdstring": "7901",
          "date": "2019-07-11",
          "dow": 3,
          "volume": 178910550
         },
         {
          "DetectorId": 59997,
          "DetectorId1": 4296,
          "DetectorIdstring": "59997",
          "date": "2019-07-11",
          "dow": 3,
          "volume": 57272
         },
         {
          "DetectorId": 5199,
          "DetectorId1": 4296,
          "DetectorIdstring": "5199",
          "date": "2019-07-12",
          "dow": 4,
          "volume": 35817
         },
         {
          "DetectorId": 5302,
          "DetectorId1": 4296,
          "DetectorIdstring": "5302",
          "date": "2019-07-12",
          "dow": 4,
          "volume": 23038
         },
         {
          "DetectorId": 7901,
          "DetectorId1": 4296,
          "DetectorIdstring": "7901",
          "date": "2019-07-12",
          "dow": 4,
          "volume": 562945650
         },
         {
          "DetectorId": 59997,
          "DetectorId1": 4296,
          "DetectorIdstring": "59997",
          "date": "2019-07-12",
          "dow": 4,
          "volume": 57663
         },
         {
          "DetectorId": 5199,
          "DetectorId1": 4296,
          "DetectorIdstring": "5199",
          "date": "2019-07-13",
          "dow": 5,
          "volume": 143304
         },
         {
          "DetectorId": 5302,
          "DetectorId1": 4296,
          "DetectorIdstring": "5302",
          "date": "2019-07-13",
          "dow": 5,
          "volume": 19950
         },
         {
          "DetectorId": 7901,
          "DetectorId1": 4296,
          "DetectorIdstring": "7901",
          "date": "2019-07-13",
          "dow": 5,
          "volume": 562945650
         },
         {
          "DetectorId": 59997,
          "DetectorId1": 4296,
          "DetectorIdstring": "59997",
          "date": "2019-07-13",
          "dow": 5,
          "volume": 49245
         },
         {
          "DetectorId": 5199,
          "DetectorId1": 4296,
          "DetectorIdstring": "5199",
          "date": "2019-07-14",
          "dow": 6,
          "volume": 134647
         },
         {
          "DetectorId": 5302,
          "DetectorId1": 4296,
          "DetectorIdstring": "5302",
          "date": "2019-07-14",
          "dow": 6,
          "volume": 16552
         },
         {
          "DetectorId": 7901,
          "DetectorId1": 4296,
          "DetectorIdstring": "7901",
          "date": "2019-07-14",
          "dow": 6,
          "volume": 563076720
         },
         {
          "DetectorId": 59997,
          "DetectorId1": 4296,
          "DetectorIdstring": "59997",
          "date": "2019-07-14",
          "dow": 6,
          "volume": 40756
         },
         {
          "DetectorId": 5199,
          "DetectorId1": 4296,
          "DetectorIdstring": "5199",
          "date": "2019-07-15",
          "dow": 0,
          "volume": 136104
         },
         {
          "DetectorId": 5302,
          "DetectorId1": 4296,
          "DetectorIdstring": "5302",
          "date": "2019-07-15",
          "dow": 0,
          "volume": 21528
         },
         {
          "DetectorId": 7901,
          "DetectorId1": 4296,
          "DetectorIdstring": "7901",
          "date": "2019-07-15",
          "dow": 0,
          "volume": 562945650
         },
         {
          "DetectorId": 59997,
          "DetectorId1": 4296,
          "DetectorIdstring": "59997",
          "date": "2019-07-15",
          "dow": 0,
          "volume": 53826
         },
         {
          "DetectorId": 5199,
          "DetectorId1": 4296,
          "DetectorIdstring": "5199",
          "date": "2019-07-16",
          "dow": 1,
          "volume": 134311
         },
         {
          "DetectorId": 5302,
          "DetectorId1": 4296,
          "DetectorIdstring": "5302",
          "date": "2019-07-16",
          "dow": 1,
          "volume": 21476
         },
         {
          "DetectorId": 7901,
          "DetectorId1": 4296,
          "DetectorIdstring": "7901",
          "date": "2019-07-16",
          "dow": 1,
          "volume": 564387420
         },
         {
          "DetectorId": 59997,
          "DetectorId1": 4296,
          "DetectorIdstring": "59997",
          "date": "2019-07-16",
          "dow": 1,
          "volume": 50963
         },
         {
          "DetectorId": 5199,
          "DetectorId1": 4296,
          "DetectorIdstring": "5199",
          "date": "2019-07-17",
          "dow": 2,
          "volume": 134401
         },
         {
          "DetectorId": 5302,
          "DetectorId1": 4296,
          "DetectorIdstring": "5302",
          "date": "2019-07-17",
          "dow": 2,
          "volume": 22252
         },
         {
          "DetectorId": 7901,
          "DetectorId1": 4296,
          "DetectorIdstring": "7901",
          "date": "2019-07-17",
          "dow": 2,
          "volume": 562814580
         },
         {
          "DetectorId": 59997,
          "DetectorId1": 4296,
          "DetectorIdstring": "59997",
          "date": "2019-07-17",
          "dow": 2,
          "volume": 55141
         },
         {
          "DetectorId": 5199,
          "DetectorId1": 4296,
          "DetectorIdstring": "5199",
          "date": "2019-07-18",
          "dow": 3,
          "volume": 136225
         },
         {
          "DetectorId": 5302,
          "DetectorId1": 4296,
          "DetectorIdstring": "5302",
          "date": "2019-07-18",
          "dow": 3,
          "volume": 21676
         },
         {
          "DetectorId": 7901,
          "DetectorId1": 4296,
          "DetectorIdstring": "7901",
          "date": "2019-07-18",
          "dow": 3,
          "volume": 562683510
         },
         {
          "DetectorId": 59997,
          "DetectorId1": 4296,
          "DetectorIdstring": "59997",
          "date": "2019-07-18",
          "dow": 3,
          "volume": 54888
         },
         {
          "DetectorId": 5199,
          "DetectorId1": 4249,
          "DetectorIdstring": "5199",
          "date": "2019-07-19",
          "dow": 4,
          "volume": 140804
         },
         {
          "DetectorId": 5302,
          "DetectorId1": 4249,
          "DetectorIdstring": "5302",
          "date": "2019-07-19",
          "dow": 4,
          "volume": 22851
         },
         {
          "DetectorId": 7901,
          "DetectorId1": 4249,
          "DetectorIdstring": "7901",
          "date": "2019-07-19",
          "dow": 4,
          "volume": 556785360
         },
         {
          "DetectorId": 59997,
          "DetectorId1": 4249,
          "DetectorIdstring": "59997",
          "date": "2019-07-19",
          "dow": 4,
          "volume": 56760
         },
         {
          "DetectorId": 5199,
          "DetectorId1": 4296,
          "DetectorIdstring": "5199",
          "date": "2019-07-20",
          "dow": 5,
          "volume": 138366
         },
         {
          "DetectorId": 5302,
          "DetectorId1": 4296,
          "DetectorIdstring": "5302",
          "date": "2019-07-20",
          "dow": 5,
          "volume": 19123
         },
         {
          "DetectorId": 7901,
          "DetectorId1": 4296,
          "DetectorIdstring": "7901",
          "date": "2019-07-20",
          "dow": 5,
          "volume": 561897090
         },
         {
          "DetectorId": 59997,
          "DetectorId1": 4296,
          "DetectorIdstring": "59997",
          "date": "2019-07-20",
          "dow": 5,
          "volume": 47832
         },
         {
          "DetectorId": 5199,
          "DetectorId1": 4296,
          "DetectorIdstring": "5199",
          "date": "2019-07-21",
          "dow": 6,
          "volume": 126772
         },
         {
          "DetectorId": 5302,
          "DetectorId1": 4296,
          "DetectorIdstring": "5302",
          "date": "2019-07-21",
          "dow": 6,
          "volume": 17028
         },
         {
          "DetectorId": 7901,
          "DetectorId1": 4296,
          "DetectorIdstring": "7901",
          "date": "2019-07-21",
          "dow": 6,
          "volume": 562945650
         },
         {
          "DetectorId": 59997,
          "DetectorId1": 4296,
          "DetectorIdstring": "59997",
          "date": "2019-07-21",
          "dow": 6,
          "volume": 42087
         },
         {
          "DetectorId": 5199,
          "DetectorId1": 4296,
          "DetectorIdstring": "5199",
          "date": "2019-07-22",
          "dow": 0,
          "volume": 136271
         },
         {
          "DetectorId": 5302,
          "DetectorId1": 4296,
          "DetectorIdstring": "5302",
          "date": "2019-07-22",
          "dow": 0,
          "volume": 21775
         },
         {
          "DetectorId": 7901,
          "DetectorId1": 4296,
          "DetectorIdstring": "7901",
          "date": "2019-07-22",
          "dow": 0,
          "volume": 564911700
         },
         {
          "DetectorId": 59997,
          "DetectorId1": 4296,
          "DetectorIdstring": "59997",
          "date": "2019-07-22",
          "dow": 0,
          "volume": 41927
         },
         {
          "DetectorId": 5199,
          "DetectorId1": 4296,
          "DetectorIdstring": "5199",
          "date": "2019-07-23",
          "dow": 1,
          "volume": 138341
         },
         {
          "DetectorId": 5302,
          "DetectorId1": 4296,
          "DetectorIdstring": "5302",
          "date": "2019-07-23",
          "dow": 1,
          "volume": 22009
         },
         {
          "DetectorId": 7901,
          "DetectorId1": 4296,
          "DetectorIdstring": "7901",
          "date": "2019-07-23",
          "dow": 1,
          "volume": 562814580
         },
         {
          "DetectorId": 59997,
          "DetectorId1": 4296,
          "DetectorIdstring": "59997",
          "date": "2019-07-23",
          "dow": 1,
          "volume": 54049
         },
         {
          "DetectorId": 5199,
          "DetectorId1": 4010,
          "DetectorIdstring": "5199",
          "date": "2019-07-24",
          "dow": 2,
          "volume": 128755
         },
         {
          "DetectorId": 5302,
          "DetectorId1": 4010,
          "DetectorIdstring": "5302",
          "date": "2019-07-24",
          "dow": 2,
          "volume": 20612
         },
         {
          "DetectorId": 7901,
          "DetectorId1": 4010,
          "DetectorIdstring": "7901",
          "date": "2019-07-24",
          "dow": 2,
          "volume": 525459630
         },
         {
          "DetectorId": 59997,
          "DetectorId1": 4010,
          "DetectorIdstring": "59997",
          "date": "2019-07-24",
          "dow": 2,
          "volume": 53017
         },
         {
          "DetectorId": 5199,
          "DetectorId1": 4296,
          "DetectorIdstring": "5199",
          "date": "2019-07-25",
          "dow": 3,
          "volume": 144658
         },
         {
          "DetectorId": 5302,
          "DetectorId1": 4296,
          "DetectorIdstring": "5302",
          "date": "2019-07-25",
          "dow": 3,
          "volume": 22312
         },
         {
          "DetectorId": 7901,
          "DetectorId1": 4296,
          "DetectorIdstring": "7901",
          "date": "2019-07-25",
          "dow": 3,
          "volume": 563076720
         },
         {
          "DetectorId": 59997,
          "DetectorId1": 4296,
          "DetectorIdstring": "59997",
          "date": "2019-07-25",
          "dow": 3,
          "volume": 55850
         },
         {
          "DetectorId": 5199,
          "DetectorId1": 4296,
          "DetectorIdstring": "5199",
          "date": "2019-07-26",
          "dow": 4,
          "volume": 145741
         },
         {
          "DetectorId": 5302,
          "DetectorId1": 4296,
          "DetectorIdstring": "5302",
          "date": "2019-07-26",
          "dow": 4,
          "volume": 22894
         },
         {
          "DetectorId": 7901,
          "DetectorId1": 4296,
          "DetectorIdstring": "7901",
          "date": "2019-07-26",
          "dow": 4,
          "volume": 563076720
         },
         {
          "DetectorId": 59997,
          "DetectorId1": 4296,
          "DetectorIdstring": "59997",
          "date": "2019-07-26",
          "dow": 4,
          "volume": 58528
         },
         {
          "DetectorId": 5199,
          "DetectorId1": 4296,
          "DetectorIdstring": "5199",
          "date": "2019-07-27",
          "dow": 5,
          "volume": 145811
         },
         {
          "DetectorId": 5302,
          "DetectorId1": 4296,
          "DetectorIdstring": "5302",
          "date": "2019-07-27",
          "dow": 5,
          "volume": 19235
         },
         {
          "DetectorId": 7901,
          "DetectorId1": 4296,
          "DetectorIdstring": "7901",
          "date": "2019-07-27",
          "dow": 5,
          "volume": 563076720
         },
         {
          "DetectorId": 59997,
          "DetectorId1": 4296,
          "DetectorIdstring": "59997",
          "date": "2019-07-27",
          "dow": 5,
          "volume": 48806
         },
         {
          "DetectorId": 5199,
          "DetectorId1": 4296,
          "DetectorIdstring": "5199",
          "date": "2019-07-28",
          "dow": 6,
          "volume": 135610
         },
         {
          "DetectorId": 5302,
          "DetectorId1": 4296,
          "DetectorIdstring": "5302",
          "date": "2019-07-28",
          "dow": 6,
          "volume": 17807
         },
         {
          "DetectorId": 7901,
          "DetectorId1": 4296,
          "DetectorIdstring": "7901",
          "date": "2019-07-28",
          "dow": 6,
          "volume": 563076720
         },
         {
          "DetectorId": 59997,
          "DetectorId1": 4296,
          "DetectorIdstring": "59997",
          "date": "2019-07-28",
          "dow": 6,
          "volume": 42721
         },
         {
          "DetectorId": 5199,
          "DetectorId1": 4296,
          "DetectorIdstring": "5199",
          "date": "2019-07-29",
          "dow": 0,
          "volume": 129497
         },
         {
          "DetectorId": 5302,
          "DetectorId1": 4296,
          "DetectorIdstring": "5302",
          "date": "2019-07-29",
          "dow": 0,
          "volume": 21095
         },
         {
          "DetectorId": 7901,
          "DetectorId1": 4296,
          "DetectorIdstring": "7901",
          "date": "2019-07-29",
          "dow": 0,
          "volume": 562945650
         },
         {
          "DetectorId": 59997,
          "DetectorId1": 4296,
          "DetectorIdstring": "59997",
          "date": "2019-07-29",
          "dow": 0,
          "volume": 50981
         },
         {
          "DetectorId": 5199,
          "DetectorId1": 4296,
          "DetectorIdstring": "5199",
          "date": "2019-07-30",
          "dow": 1,
          "volume": 133209
         },
         {
          "DetectorId": 5302,
          "DetectorId1": 4296,
          "DetectorIdstring": "5302",
          "date": "2019-07-30",
          "dow": 1,
          "volume": 21480
         },
         {
          "DetectorId": 7901,
          "DetectorId1": 4296,
          "DetectorIdstring": "7901",
          "date": "2019-07-30",
          "dow": 1,
          "volume": 563076720
         },
         {
          "DetectorId": 59997,
          "DetectorId1": 4296,
          "DetectorIdstring": "59997",
          "date": "2019-07-30",
          "dow": 1,
          "volume": 54844
         },
         {
          "DetectorId": 5199,
          "DetectorId1": 4296,
          "DetectorIdstring": "5199",
          "date": "2019-07-31",
          "dow": 2,
          "volume": 168480
         },
         {
          "DetectorId": 5302,
          "DetectorId1": 4296,
          "DetectorIdstring": "5302",
          "date": "2019-07-31",
          "dow": 2,
          "volume": 26776
         },
         {
          "DetectorId": 7901,
          "DetectorId1": 4296,
          "DetectorIdstring": "7901",
          "date": "2019-07-31",
          "dow": 2,
          "volume": 238285260
         },
         {
          "DetectorId": 59997,
          "DetectorId1": 4296,
          "DetectorIdstring": "59997",
          "date": "2019-07-31",
          "dow": 2,
          "volume": 48915
         },
         {
          "DetectorId": 5199,
          "DetectorId1": 4296,
          "DetectorIdstring": "5199",
          "date": "2019-08-01",
          "dow": 3,
          "volume": 141295
         },
         {
          "DetectorId": 5302,
          "DetectorId1": 4296,
          "DetectorIdstring": "5302",
          "date": "2019-08-01",
          "dow": 3,
          "volume": 21827
         },
         {
          "DetectorId": 7901,
          "DetectorId1": 4296,
          "DetectorIdstring": "7901",
          "date": "2019-08-01",
          "dow": 3,
          "volume": 0
         },
         {
          "DetectorId": 59997,
          "DetectorId1": 4296,
          "DetectorIdstring": "59997",
          "date": "2019-08-01",
          "dow": 3,
          "volume": 57331
         },
         {
          "DetectorId": 5199,
          "DetectorId1": 4266,
          "DetectorIdstring": "5199",
          "date": "2019-08-02",
          "dow": 4,
          "volume": 144295
         },
         {
          "DetectorId": 5302,
          "DetectorId1": 4266,
          "DetectorIdstring": "5302",
          "date": "2019-08-02",
          "dow": 4,
          "volume": 23575
         },
         {
          "DetectorId": 7901,
          "DetectorId1": 4266,
          "DetectorIdstring": "7901",
          "date": "2019-08-02",
          "dow": 4,
          "volume": 0
         },
         {
          "DetectorId": 59997,
          "DetectorId1": 4266,
          "DetectorIdstring": "59997",
          "date": "2019-08-02",
          "dow": 4,
          "volume": 57022
         },
         {
          "DetectorId": 5199,
          "DetectorId1": 4296,
          "DetectorIdstring": "5199",
          "date": "2019-08-03",
          "dow": 5,
          "volume": 139887
         },
         {
          "DetectorId": 5302,
          "DetectorId1": 4296,
          "DetectorIdstring": "5302",
          "date": "2019-08-03",
          "dow": 5,
          "volume": 20461
         },
         {
          "DetectorId": 7901,
          "DetectorId1": 4296,
          "DetectorIdstring": "7901",
          "date": "2019-08-03",
          "dow": 5,
          "volume": 0
         },
         {
          "DetectorId": 59997,
          "DetectorId1": 4296,
          "DetectorIdstring": "59997",
          "date": "2019-08-03",
          "dow": 5,
          "volume": 50629
         },
         {
          "DetectorId": 5199,
          "DetectorId1": 4295,
          "DetectorIdstring": "5199",
          "date": "2019-08-04",
          "dow": 6,
          "volume": 131202
         },
         {
          "DetectorId": 5302,
          "DetectorId1": 4295,
          "DetectorIdstring": "5302",
          "date": "2019-08-04",
          "dow": 6,
          "volume": 17581
         },
         {
          "DetectorId": 7901,
          "DetectorId1": 4295,
          "DetectorIdstring": "7901",
          "date": "2019-08-04",
          "dow": 6,
          "volume": 0
         },
         {
          "DetectorId": 59997,
          "DetectorId1": 4295,
          "DetectorIdstring": "59997",
          "date": "2019-08-04",
          "dow": 6,
          "volume": 44360
         },
         {
          "DetectorId": 5199,
          "DetectorId1": 4296,
          "DetectorIdstring": "5199",
          "date": "2019-08-05",
          "dow": 0,
          "volume": 138335
         },
         {
          "DetectorId": 5302,
          "DetectorId1": 4296,
          "DetectorIdstring": "5302",
          "date": "2019-08-05",
          "dow": 0,
          "volume": 20571
         },
         {
          "DetectorId": 7901,
          "DetectorId1": 4296,
          "DetectorIdstring": "7901",
          "date": "2019-08-05",
          "dow": 0,
          "volume": 0
         },
         {
          "DetectorId": 59997,
          "DetectorId1": 4296,
          "DetectorIdstring": "59997",
          "date": "2019-08-05",
          "dow": 0,
          "volume": 52194
         },
         {
          "DetectorId": 5199,
          "DetectorId1": 4296,
          "DetectorIdstring": "5199",
          "date": "2019-08-06",
          "dow": 1,
          "volume": 138046
         },
         {
          "DetectorId": 5302,
          "DetectorId1": 4296,
          "DetectorIdstring": "5302",
          "date": "2019-08-06",
          "dow": 1,
          "volume": 21685
         },
         {
          "DetectorId": 7901,
          "DetectorId1": 4296,
          "DetectorIdstring": "7901",
          "date": "2019-08-06",
          "dow": 1,
          "volume": 0
         },
         {
          "DetectorId": 59997,
          "DetectorId1": 4296,
          "DetectorIdstring": "59997",
          "date": "2019-08-06",
          "dow": 1,
          "volume": 53774
         },
         {
          "DetectorId": 5199,
          "DetectorId1": 4296,
          "DetectorIdstring": "5199",
          "date": "2019-08-07",
          "dow": 2,
          "volume": 142516
         },
         {
          "DetectorId": 5302,
          "DetectorId1": 4296,
          "DetectorIdstring": "5302",
          "date": "2019-08-07",
          "dow": 2,
          "volume": 22664
         },
         {
          "DetectorId": 7901,
          "DetectorId1": 4296,
          "DetectorIdstring": "7901",
          "date": "2019-08-07",
          "dow": 2,
          "volume": 0
         },
         {
          "DetectorId": 59997,
          "DetectorId1": 4296,
          "DetectorIdstring": "59997",
          "date": "2019-08-07",
          "dow": 2,
          "volume": 57339
         },
         {
          "DetectorId": 5199,
          "DetectorId1": 4153,
          "DetectorIdstring": "5199",
          "date": "2019-08-08",
          "dow": 3,
          "volume": 162258
         },
         {
          "DetectorId": 5302,
          "DetectorId1": 4153,
          "DetectorIdstring": "5302",
          "date": "2019-08-08",
          "dow": 3,
          "volume": 25775
         },
         {
          "DetectorId": 7901,
          "DetectorId1": 4153,
          "DetectorIdstring": "7901",
          "date": "2019-08-08",
          "dow": 3,
          "volume": 0
         },
         {
          "DetectorId": 59997,
          "DetectorId1": 4153,
          "DetectorIdstring": "59997",
          "date": "2019-08-08",
          "dow": 3,
          "volume": 49832
         },
         {
          "DetectorId": 5199,
          "DetectorId1": 4267,
          "DetectorIdstring": "5199",
          "date": "2019-08-09",
          "dow": 4,
          "volume": 132458
         },
         {
          "DetectorId": 5302,
          "DetectorId1": 4267,
          "DetectorIdstring": "5302",
          "date": "2019-08-09",
          "dow": 4,
          "volume": 19732
         },
         {
          "DetectorId": 7901,
          "DetectorId1": 4267,
          "DetectorIdstring": "7901",
          "date": "2019-08-09",
          "dow": 4,
          "volume": 0
         },
         {
          "DetectorId": 59997,
          "DetectorId1": 4267,
          "DetectorIdstring": "59997",
          "date": "2019-08-09",
          "dow": 4,
          "volume": 58813
         },
         {
          "DetectorId": 5199,
          "DetectorId1": 4296,
          "DetectorIdstring": "5199",
          "date": "2019-08-10",
          "dow": 5,
          "volume": 145859
         },
         {
          "DetectorId": 5302,
          "DetectorId1": 4296,
          "DetectorIdstring": "5302",
          "date": "2019-08-10",
          "dow": 5,
          "volume": 20377
         },
         {
          "DetectorId": 7901,
          "DetectorId1": 4296,
          "DetectorIdstring": "7901",
          "date": "2019-08-10",
          "dow": 5,
          "volume": 0
         },
         {
          "DetectorId": 59997,
          "DetectorId1": 4296,
          "DetectorIdstring": "59997",
          "date": "2019-08-10",
          "dow": 5,
          "volume": 49244
         },
         {
          "DetectorId": 5199,
          "DetectorId1": 4296,
          "DetectorIdstring": "5199",
          "date": "2019-08-11",
          "dow": 6,
          "volume": 133430
         },
         {
          "DetectorId": 5302,
          "DetectorId1": 4296,
          "DetectorIdstring": "5302",
          "date": "2019-08-11",
          "dow": 6,
          "volume": 17174
         },
         {
          "DetectorId": 7901,
          "DetectorId1": 4296,
          "DetectorIdstring": "7901",
          "date": "2019-08-11",
          "dow": 6,
          "volume": 0
         },
         {
          "DetectorId": 59997,
          "DetectorId1": 4296,
          "DetectorIdstring": "59997",
          "date": "2019-08-11",
          "dow": 6,
          "volume": 42934
         },
         {
          "DetectorId": 5199,
          "DetectorId1": 4262,
          "DetectorIdstring": "5199",
          "date": "2019-08-12",
          "dow": 0,
          "volume": 126955
         },
         {
          "DetectorId": 5302,
          "DetectorId1": 4262,
          "DetectorIdstring": "5302",
          "date": "2019-08-12",
          "dow": 0,
          "volume": 20166
         },
         {
          "DetectorId": 7901,
          "DetectorId1": 4262,
          "DetectorIdstring": "7901",
          "date": "2019-08-12",
          "dow": 0,
          "volume": 0
         },
         {
          "DetectorId": 59997,
          "DetectorId1": 4262,
          "DetectorIdstring": "59997",
          "date": "2019-08-12",
          "dow": 0,
          "volume": 52543
         },
         {
          "DetectorId": 5199,
          "DetectorId1": 4312,
          "DetectorIdstring": "5199",
          "date": "2019-08-13",
          "dow": 1,
          "volume": 137494
         },
         {
          "DetectorId": 5302,
          "DetectorId1": 4312,
          "DetectorIdstring": "5302",
          "date": "2019-08-13",
          "dow": 1,
          "volume": 21586
         },
         {
          "DetectorId": 7901,
          "DetectorId1": 4312,
          "DetectorIdstring": "7901",
          "date": "2019-08-13",
          "dow": 1,
          "volume": 0
         },
         {
          "DetectorId": 59997,
          "DetectorId1": 4312,
          "DetectorIdstring": "59997",
          "date": "2019-08-13",
          "dow": 1,
          "volume": 54644
         },
         {
          "DetectorId": 5199,
          "DetectorId1": 4296,
          "DetectorIdstring": "5199",
          "date": "2019-08-14",
          "dow": 2,
          "volume": 137044
         },
         {
          "DetectorId": 5302,
          "DetectorId1": 4296,
          "DetectorIdstring": "5302",
          "date": "2019-08-14",
          "dow": 2,
          "volume": 21455
         },
         {
          "DetectorId": 7901,
          "DetectorId1": 4296,
          "DetectorIdstring": "7901",
          "date": "2019-08-14",
          "dow": 2,
          "volume": 0
         },
         {
          "DetectorId": 59997,
          "DetectorId1": 4296,
          "DetectorIdstring": "59997",
          "date": "2019-08-14",
          "dow": 2,
          "volume": 56129
         },
         {
          "DetectorId": 5199,
          "DetectorId1": 4296,
          "DetectorIdstring": "5199",
          "date": "2019-08-15",
          "dow": 3,
          "volume": 144192
         },
         {
          "DetectorId": 5302,
          "DetectorId1": 4296,
          "DetectorIdstring": "5302",
          "date": "2019-08-15",
          "dow": 3,
          "volume": 22243
         },
         {
          "DetectorId": 7901,
          "DetectorId1": 4296,
          "DetectorIdstring": "7901",
          "date": "2019-08-15",
          "dow": 3,
          "volume": 0
         },
         {
          "DetectorId": 59997,
          "DetectorId1": 4296,
          "DetectorIdstring": "59997",
          "date": "2019-08-15",
          "dow": 3,
          "volume": 57051
         },
         {
          "DetectorId": 5199,
          "DetectorId1": 4296,
          "DetectorIdstring": "5199",
          "date": "2019-08-16",
          "dow": 4,
          "volume": 144268
         },
         {
          "DetectorId": 5302,
          "DetectorId1": 4296,
          "DetectorIdstring": "5302",
          "date": "2019-08-16",
          "dow": 4,
          "volume": 22523
         },
         {
          "DetectorId": 7901,
          "DetectorId1": 4296,
          "DetectorIdstring": "7901",
          "date": "2019-08-16",
          "dow": 4,
          "volume": 0
         },
         {
          "DetectorId": 59997,
          "DetectorId1": 4296,
          "DetectorIdstring": "59997",
          "date": "2019-08-16",
          "dow": 4,
          "volume": 58301
         },
         {
          "DetectorId": 5199,
          "DetectorId1": 4296,
          "DetectorIdstring": "5199",
          "date": "2019-08-17",
          "dow": 5,
          "volume": 139836
         },
         {
          "DetectorId": 5302,
          "DetectorId1": 4296,
          "DetectorIdstring": "5302",
          "date": "2019-08-17",
          "dow": 5,
          "volume": 19302
         },
         {
          "DetectorId": 7901,
          "DetectorId1": 4296,
          "DetectorIdstring": "7901",
          "date": "2019-08-17",
          "dow": 5,
          "volume": 0
         },
         {
          "DetectorId": 59997,
          "DetectorId1": 4296,
          "DetectorIdstring": "59997",
          "date": "2019-08-17",
          "dow": 5,
          "volume": 48059
         },
         {
          "DetectorId": 5199,
          "DetectorId1": 4295,
          "DetectorIdstring": "5199",
          "date": "2019-08-18",
          "dow": 6,
          "volume": 123644
         },
         {
          "DetectorId": 5302,
          "DetectorId1": 4295,
          "DetectorIdstring": "5302",
          "date": "2019-08-18",
          "dow": 6,
          "volume": 15987
         },
         {
          "DetectorId": 7901,
          "DetectorId1": 4295,
          "DetectorIdstring": "7901",
          "date": "2019-08-18",
          "dow": 6,
          "volume": 0
         },
         {
          "DetectorId": 59997,
          "DetectorId1": 4295,
          "DetectorIdstring": "59997",
          "date": "2019-08-18",
          "dow": 6,
          "volume": 39512
         },
         {
          "DetectorId": 5199,
          "DetectorId1": 4286,
          "DetectorIdstring": "5199",
          "date": "2019-08-19",
          "dow": 0,
          "volume": 131277
         },
         {
          "DetectorId": 5302,
          "DetectorId1": 4286,
          "DetectorIdstring": "5302",
          "date": "2019-08-19",
          "dow": 0,
          "volume": 20774
         },
         {
          "DetectorId": 7901,
          "DetectorId1": 4286,
          "DetectorIdstring": "7901",
          "date": "2019-08-19",
          "dow": 0,
          "volume": 0
         },
         {
          "DetectorId": 59997,
          "DetectorId1": 4286,
          "DetectorIdstring": "59997",
          "date": "2019-08-19",
          "dow": 0,
          "volume": 54845
         },
         {
          "DetectorId": 5199,
          "DetectorId1": 4093,
          "DetectorIdstring": "5199",
          "date": "2019-08-20",
          "dow": 1,
          "volume": 123854
         },
         {
          "DetectorId": 5302,
          "DetectorId1": 4093,
          "DetectorIdstring": "5302",
          "date": "2019-08-20",
          "dow": 1,
          "volume": 20412
         },
         {
          "DetectorId": 7901,
          "DetectorId1": 4093,
          "DetectorIdstring": "7901",
          "date": "2019-08-20",
          "dow": 1,
          "volume": 0
         },
         {
          "DetectorId": 59997,
          "DetectorId1": 4093,
          "DetectorIdstring": "59997",
          "date": "2019-08-20",
          "dow": 1,
          "volume": 49913
         },
         {
          "DetectorId": 5199,
          "DetectorId1": 4320,
          "DetectorIdstring": "5199",
          "date": "2019-08-21",
          "dow": 2,
          "volume": 137425
         },
         {
          "DetectorId": 5302,
          "DetectorId1": 4320,
          "DetectorIdstring": "5302",
          "date": "2019-08-21",
          "dow": 2,
          "volume": 22130
         },
         {
          "DetectorId": 7901,
          "DetectorId1": 4320,
          "DetectorIdstring": "7901",
          "date": "2019-08-21",
          "dow": 2,
          "volume": 0
         },
         {
          "DetectorId": 59997,
          "DetectorId1": 4320,
          "DetectorIdstring": "59997",
          "date": "2019-08-21",
          "dow": 2,
          "volume": 56835
         },
         {
          "DetectorId": 5199,
          "DetectorId1": 4258,
          "DetectorIdstring": "5199",
          "date": "2019-08-22",
          "dow": 3,
          "volume": 142324
         },
         {
          "DetectorId": 5302,
          "DetectorId1": 4258,
          "DetectorIdstring": "5302",
          "date": "2019-08-22",
          "dow": 3,
          "volume": 21682
         },
         {
          "DetectorId": 7901,
          "DetectorId1": 4258,
          "DetectorIdstring": "7901",
          "date": "2019-08-22",
          "dow": 3,
          "volume": 0
         },
         {
          "DetectorId": 59997,
          "DetectorId1": 4258,
          "DetectorIdstring": "59997",
          "date": "2019-08-22",
          "dow": 3,
          "volume": 58029
         },
         {
          "DetectorId": 5199,
          "DetectorId1": 4320,
          "DetectorIdstring": "5199",
          "date": "2019-08-23",
          "dow": 4,
          "volume": 145913
         },
         {
          "DetectorId": 5302,
          "DetectorId1": 4320,
          "DetectorIdstring": "5302",
          "date": "2019-08-23",
          "dow": 4,
          "volume": 22250
         },
         {
          "DetectorId": 7901,
          "DetectorId1": 4320,
          "DetectorIdstring": "7901",
          "date": "2019-08-23",
          "dow": 4,
          "volume": 0
         },
         {
          "DetectorId": 59997,
          "DetectorId1": 4320,
          "DetectorIdstring": "59997",
          "date": "2019-08-23",
          "dow": 4,
          "volume": 60986
         },
         {
          "DetectorId": 5199,
          "DetectorId1": 4289,
          "DetectorIdstring": "5199",
          "date": "2019-08-24",
          "dow": 5,
          "volume": 144848
         },
         {
          "DetectorId": 5302,
          "DetectorId1": 4289,
          "DetectorIdstring": "5302",
          "date": "2019-08-24",
          "dow": 5,
          "volume": 19666
         },
         {
          "DetectorId": 7901,
          "DetectorId1": 4289,
          "DetectorIdstring": "7901",
          "date": "2019-08-24",
          "dow": 5,
          "volume": 0
         },
         {
          "DetectorId": 59997,
          "DetectorId1": 4289,
          "DetectorIdstring": "59997",
          "date": "2019-08-24",
          "dow": 5,
          "volume": 50111
         },
         {
          "DetectorId": 5199,
          "DetectorId1": 4320,
          "DetectorIdstring": "5199",
          "date": "2019-08-25",
          "dow": 6,
          "volume": 130484
         },
         {
          "DetectorId": 5302,
          "DetectorId1": 4320,
          "DetectorIdstring": "5302",
          "date": "2019-08-25",
          "dow": 6,
          "volume": 17083
         },
         {
          "DetectorId": 7901,
          "DetectorId1": 4320,
          "DetectorIdstring": "7901",
          "date": "2019-08-25",
          "dow": 6,
          "volume": 0
         },
         {
          "DetectorId": 59997,
          "DetectorId1": 4320,
          "DetectorIdstring": "59997",
          "date": "2019-08-25",
          "dow": 6,
          "volume": 43691
         },
         {
          "DetectorId": 5199,
          "DetectorId1": 4320,
          "DetectorIdstring": "5199",
          "date": "2019-08-26",
          "dow": 0,
          "volume": 126143
         },
         {
          "DetectorId": 5302,
          "DetectorId1": 4320,
          "DetectorIdstring": "5302",
          "date": "2019-08-26",
          "dow": 0,
          "volume": 20313
         },
         {
          "DetectorId": 7901,
          "DetectorId1": 4320,
          "DetectorIdstring": "7901",
          "date": "2019-08-26",
          "dow": 0,
          "volume": 0
         },
         {
          "DetectorId": 59997,
          "DetectorId1": 4320,
          "DetectorIdstring": "59997",
          "date": "2019-08-26",
          "dow": 0,
          "volume": 50643
         },
         {
          "DetectorId": 5199,
          "DetectorId1": 4293,
          "DetectorIdstring": "5199",
          "date": "2019-08-27",
          "dow": 1,
          "volume": 135629
         },
         {
          "DetectorId": 5302,
          "DetectorId1": 4293,
          "DetectorIdstring": "5302",
          "date": "2019-08-27",
          "dow": 1,
          "volume": 21910
         },
         {
          "DetectorId": 7901,
          "DetectorId1": 4293,
          "DetectorIdstring": "7901",
          "date": "2019-08-27",
          "dow": 1,
          "volume": 0
         },
         {
          "DetectorId": 59997,
          "DetectorId1": 4293,
          "DetectorIdstring": "59997",
          "date": "2019-08-27",
          "dow": 1,
          "volume": 51956
         },
         {
          "DetectorId": 5199,
          "DetectorId1": 4268,
          "DetectorIdstring": "5199",
          "date": "2019-08-28",
          "dow": 2,
          "volume": 136904
         },
         {
          "DetectorId": 5302,
          "DetectorId1": 4268,
          "DetectorIdstring": "5302",
          "date": "2019-08-28",
          "dow": 2,
          "volume": 21474
         },
         {
          "DetectorId": 7901,
          "DetectorId1": 4268,
          "DetectorIdstring": "7901",
          "date": "2019-08-28",
          "dow": 2,
          "volume": 0
         },
         {
          "DetectorId": 59997,
          "DetectorId1": 4268,
          "DetectorIdstring": "59997",
          "date": "2019-08-28",
          "dow": 2,
          "volume": 53312
         },
         {
          "DetectorId": 5199,
          "DetectorId1": 4320,
          "DetectorIdstring": "5199",
          "date": "2019-08-29",
          "dow": 3,
          "volume": 140892
         },
         {
          "DetectorId": 5302,
          "DetectorId1": 4320,
          "DetectorIdstring": "5302",
          "date": "2019-08-29",
          "dow": 3,
          "volume": 22562
         },
         {
          "DetectorId": 7901,
          "DetectorId1": 4320,
          "DetectorIdstring": "7901",
          "date": "2019-08-29",
          "dow": 3,
          "volume": 0
         },
         {
          "DetectorId": 59997,
          "DetectorId1": 4320,
          "DetectorIdstring": "59997",
          "date": "2019-08-29",
          "dow": 3,
          "volume": 55440
         },
         {
          "DetectorId": 5199,
          "DetectorId1": 4292,
          "DetectorIdstring": "5199",
          "date": "2019-08-30",
          "dow": 4,
          "volume": 144395
         },
         {
          "DetectorId": 5302,
          "DetectorId1": 4292,
          "DetectorIdstring": "5302",
          "date": "2019-08-30",
          "dow": 4,
          "volume": 22884
         },
         {
          "DetectorId": 7901,
          "DetectorId1": 4292,
          "DetectorIdstring": "7901",
          "date": "2019-08-30",
          "dow": 4,
          "volume": 0
         },
         {
          "DetectorId": 59997,
          "DetectorId1": 4292,
          "DetectorIdstring": "59997",
          "date": "2019-08-30",
          "dow": 4,
          "volume": 60961
         },
         {
          "DetectorId": 5199,
          "DetectorId1": 4320,
          "DetectorIdstring": "5199",
          "date": "2019-08-31",
          "dow": 5,
          "volume": 141080
         },
         {
          "DetectorId": 5302,
          "DetectorId1": 4320,
          "DetectorIdstring": "5302",
          "date": "2019-08-31",
          "dow": 5,
          "volume": 19036
         },
         {
          "DetectorId": 7901,
          "DetectorId1": 4320,
          "DetectorIdstring": "7901",
          "date": "2019-08-31",
          "dow": 5,
          "volume": 0
         },
         {
          "DetectorId": 59997,
          "DetectorId1": 4320,
          "DetectorIdstring": "59997",
          "date": "2019-08-31",
          "dow": 5,
          "volume": 48615
         },
         {
          "DetectorId": 5199,
          "DetectorId1": 4320,
          "DetectorIdstring": "5199",
          "date": "2019-09-01",
          "dow": 6,
          "volume": 129987
         },
         {
          "DetectorId": 5302,
          "DetectorId1": 4320,
          "DetectorIdstring": "5302",
          "date": "2019-09-01",
          "dow": 6,
          "volume": 16753
         },
         {
          "DetectorId": 7901,
          "DetectorId1": 4320,
          "DetectorIdstring": "7901",
          "date": "2019-09-01",
          "dow": 6,
          "volume": 0
         },
         {
          "DetectorId": 59997,
          "DetectorId1": 4320,
          "DetectorIdstring": "59997",
          "date": "2019-09-01",
          "dow": 6,
          "volume": 41747
         },
         {
          "DetectorId": 5199,
          "DetectorId1": 4320,
          "DetectorIdstring": "5199",
          "date": "2019-09-02",
          "dow": 0,
          "volume": 66657
         },
         {
          "DetectorId": 5302,
          "DetectorId1": 4320,
          "DetectorIdstring": "5302",
          "date": "2019-09-02",
          "dow": 0,
          "volume": 14994
         },
         {
          "DetectorId": 7901,
          "DetectorId1": 4320,
          "DetectorIdstring": "7901",
          "date": "2019-09-02",
          "dow": 0,
          "volume": 0
         },
         {
          "DetectorId": 59997,
          "DetectorId1": 4320,
          "DetectorIdstring": "59997",
          "date": "2019-09-02",
          "dow": 0,
          "volume": 40542
         },
         {
          "DetectorId": 5199,
          "DetectorId1": 3795,
          "DetectorIdstring": "5199",
          "date": "2019-09-03",
          "dow": 1,
          "volume": 115119
         },
         {
          "DetectorId": 5302,
          "DetectorId1": 3795,
          "DetectorIdstring": "5302",
          "date": "2019-09-03",
          "dow": 1,
          "volume": 18728
         },
         {
          "DetectorId": 7901,
          "DetectorId1": 3795,
          "DetectorIdstring": "7901",
          "date": "2019-09-03",
          "dow": 1,
          "volume": 0
         },
         {
          "DetectorId": 59997,
          "DetectorId1": 3795,
          "DetectorIdstring": "59997",
          "date": "2019-09-03",
          "dow": 1,
          "volume": 49041
         },
         {
          "DetectorId": 5199,
          "DetectorId1": 2400,
          "DetectorIdstring": "5199",
          "date": "2019-10-21",
          "dow": 0,
          "volume": 84437
         },
         {
          "DetectorId": 5302,
          "DetectorId1": 2400,
          "DetectorIdstring": "5302",
          "date": "2019-10-21",
          "dow": 0,
          "volume": 538671
         },
         {
          "DetectorId": 7901,
          "DetectorId1": 2400,
          "DetectorIdstring": "7901",
          "date": "2019-10-21",
          "dow": 0,
          "volume": 0
         },
         {
          "DetectorId": 59997,
          "DetectorId1": 2400,
          "DetectorIdstring": "59997",
          "date": "2019-10-21",
          "dow": 0,
          "volume": 29251
         },
         {
          "DetectorId": 5199,
          "DetectorId1": 4320,
          "DetectorIdstring": "5199",
          "date": "2019-10-22",
          "dow": 1,
          "volume": 12836446
         },
         {
          "DetectorId": 5302,
          "DetectorId1": 4320,
          "DetectorIdstring": "5302",
          "date": "2019-10-22",
          "dow": 1,
          "volume": 218535
         },
         {
          "DetectorId": 7901,
          "DetectorId1": 4320,
          "DetectorIdstring": "7901",
          "date": "2019-10-22",
          "dow": 1,
          "volume": 0
         },
         {
          "DetectorId": 59997,
          "DetectorId1": 4320,
          "DetectorIdstring": "59997",
          "date": "2019-10-22",
          "dow": 1,
          "volume": 59474
         },
         {
          "DetectorId": 5199,
          "DetectorId1": 4320,
          "DetectorIdstring": "5199",
          "date": "2019-10-23",
          "dow": 2,
          "volume": 0
         },
         {
          "DetectorId": 5302,
          "DetectorId1": 4320,
          "DetectorIdstring": "5302",
          "date": "2019-10-23",
          "dow": 2,
          "volume": 21854
         },
         {
          "DetectorId": 7901,
          "DetectorId1": 4320,
          "DetectorIdstring": "7901",
          "date": "2019-10-23",
          "dow": 2,
          "volume": 0
         },
         {
          "DetectorId": 59997,
          "DetectorId1": 4320,
          "DetectorIdstring": "59997",
          "date": "2019-10-23",
          "dow": 2,
          "volume": 67799
         },
         {
          "DetectorId": 5199,
          "DetectorId1": 4320,
          "DetectorIdstring": "5199",
          "date": "2019-10-24",
          "dow": 3,
          "volume": 2306866
         },
         {
          "DetectorId": 5302,
          "DetectorId1": 4320,
          "DetectorIdstring": "5302",
          "date": "2019-10-24",
          "dow": 3,
          "volume": 22324
         },
         {
          "DetectorId": 7901,
          "DetectorId1": 4320,
          "DetectorIdstring": "7901",
          "date": "2019-10-24",
          "dow": 3,
          "volume": 0
         },
         {
          "DetectorId": 59997,
          "DetectorId1": 4320,
          "DetectorIdstring": "59997",
          "date": "2019-10-24",
          "dow": 3,
          "volume": 69099
         },
         {
          "DetectorId": 5199,
          "DetectorId1": 4320,
          "DetectorIdstring": "5199",
          "date": "2019-10-25",
          "dow": 4,
          "volume": 848421
         },
         {
          "DetectorId": 5302,
          "DetectorId1": 4320,
          "DetectorIdstring": "5302",
          "date": "2019-10-25",
          "dow": 4,
          "volume": 22632
         },
         {
          "DetectorId": 7901,
          "DetectorId1": 4320,
          "DetectorIdstring": "7901",
          "date": "2019-10-25",
          "dow": 4,
          "volume": 0
         },
         {
          "DetectorId": 59997,
          "DetectorId1": 4320,
          "DetectorIdstring": "59997",
          "date": "2019-10-25",
          "dow": 4,
          "volume": 74622
         },
         {
          "DetectorId": 5199,
          "DetectorId1": 4320,
          "DetectorIdstring": "5199",
          "date": "2019-10-26",
          "dow": 5,
          "volume": 5970006
         },
         {
          "DetectorId": 5302,
          "DetectorId1": 4320,
          "DetectorIdstring": "5302",
          "date": "2019-10-26",
          "dow": 5,
          "volume": 18315
         },
         {
          "DetectorId": 7901,
          "DetectorId1": 4320,
          "DetectorIdstring": "7901",
          "date": "2019-10-26",
          "dow": 5,
          "volume": 0
         },
         {
          "DetectorId": 59997,
          "DetectorId1": 4320,
          "DetectorIdstring": "59997",
          "date": "2019-10-26",
          "dow": 5,
          "volume": 59404
         },
         {
          "DetectorId": 5199,
          "DetectorId1": 4320,
          "DetectorIdstring": "5199",
          "date": "2019-10-27",
          "dow": 6,
          "volume": 91812
         },
         {
          "DetectorId": 5302,
          "DetectorId1": 4320,
          "DetectorIdstring": "5302",
          "date": "2019-10-27",
          "dow": 6,
          "volume": 15449
         },
         {
          "DetectorId": 7901,
          "DetectorId1": 4320,
          "DetectorIdstring": "7901",
          "date": "2019-10-27",
          "dow": 6,
          "volume": 0
         },
         {
          "DetectorId": 59997,
          "DetectorId1": 4320,
          "DetectorIdstring": "59997",
          "date": "2019-10-27",
          "dow": 6,
          "volume": 50939
         },
         {
          "DetectorId": 5199,
          "DetectorId1": 4320,
          "DetectorIdstring": "5199",
          "date": "2019-10-28",
          "dow": 0,
          "volume": 9638339
         },
         {
          "DetectorId": 5302,
          "DetectorId1": 4320,
          "DetectorIdstring": "5302",
          "date": "2019-10-28",
          "dow": 0,
          "volume": 21221
         },
         {
          "DetectorId": 7901,
          "DetectorId1": 4320,
          "DetectorIdstring": "7901",
          "date": "2019-10-28",
          "dow": 0,
          "volume": 0
         },
         {
          "DetectorId": 59997,
          "DetectorId1": 4320,
          "DetectorIdstring": "59997",
          "date": "2019-10-28",
          "dow": 0,
          "volume": 64297
         },
         {
          "DetectorId": 5199,
          "DetectorId1": 4320,
          "DetectorIdstring": "5199",
          "date": "2019-10-29",
          "dow": 1,
          "volume": 0
         },
         {
          "DetectorId": 5302,
          "DetectorId1": 4320,
          "DetectorIdstring": "5302",
          "date": "2019-10-29",
          "dow": 1,
          "volume": 21415
         },
         {
          "DetectorId": 7901,
          "DetectorId1": 4320,
          "DetectorIdstring": "7901",
          "date": "2019-10-29",
          "dow": 1,
          "volume": 226488960
         },
         {
          "DetectorId": 59997,
          "DetectorId1": 4320,
          "DetectorIdstring": "59997",
          "date": "2019-10-29",
          "dow": 1,
          "volume": 67369
         },
         {
          "DetectorId": 5199,
          "DetectorId1": 4320,
          "DetectorIdstring": "5199",
          "date": "2019-10-30",
          "dow": 2,
          "volume": 0
         },
         {
          "DetectorId": 5302,
          "DetectorId1": 4320,
          "DetectorIdstring": "5302",
          "date": "2019-10-30",
          "dow": 2,
          "volume": 20210
         },
         {
          "DetectorId": 7901,
          "DetectorId1": 4320,
          "DetectorIdstring": "7901",
          "date": "2019-10-30",
          "dow": 2,
          "volume": 566222400
         },
         {
          "DetectorId": 59997,
          "DetectorId1": 4320,
          "DetectorIdstring": "59997",
          "date": "2019-10-30",
          "dow": 2,
          "volume": 62493
         },
         {
          "DetectorId": 5199,
          "DetectorId1": 4320,
          "DetectorIdstring": "5199",
          "date": "2019-10-31",
          "dow": 3,
          "volume": 341552
         },
         {
          "DetectorId": 5302,
          "DetectorId1": 4320,
          "DetectorIdstring": "5302",
          "date": "2019-10-31",
          "dow": 3,
          "volume": 19602
         },
         {
          "DetectorId": 7901,
          "DetectorId1": 4320,
          "DetectorIdstring": "7901",
          "date": "2019-10-31",
          "dow": 3,
          "volume": 566222400
         },
         {
          "DetectorId": 59997,
          "DetectorId1": 4320,
          "DetectorIdstring": "59997",
          "date": "2019-10-31",
          "dow": 3,
          "volume": 61218
         },
         {
          "DetectorId": 5199,
          "DetectorId1": 4320,
          "DetectorIdstring": "5199",
          "date": "2019-11-01",
          "dow": 4,
          "volume": 3079425
         },
         {
          "DetectorId": 5302,
          "DetectorId1": 4320,
          "DetectorIdstring": "5302",
          "date": "2019-11-01",
          "dow": 4,
          "volume": 22647
         },
         {
          "DetectorId": 7901,
          "DetectorId1": 4320,
          "DetectorIdstring": "7901",
          "date": "2019-11-01",
          "dow": 4,
          "volume": 566222400
         },
         {
          "DetectorId": 59997,
          "DetectorId1": 4320,
          "DetectorIdstring": "59997",
          "date": "2019-11-01",
          "dow": 4,
          "volume": 71584
         },
         {
          "DetectorId": 5199,
          "DetectorId1": 4320,
          "DetectorIdstring": "5199",
          "date": "2019-11-02",
          "dow": 5,
          "volume": 0
         },
         {
          "DetectorId": 5302,
          "DetectorId1": 4320,
          "DetectorIdstring": "5302",
          "date": "2019-11-02",
          "dow": 5,
          "volume": 18859
         },
         {
          "DetectorId": 7901,
          "DetectorId1": 4320,
          "DetectorIdstring": "7901",
          "date": "2019-11-02",
          "dow": 5,
          "volume": 566222400
         },
         {
          "DetectorId": 59997,
          "DetectorId1": 4320,
          "DetectorIdstring": "59997",
          "date": "2019-11-02",
          "dow": 5,
          "volume": 52995
         },
         {
          "DetectorId": 5199,
          "DetectorId1": 4320,
          "DetectorIdstring": "5199",
          "date": "2019-11-03",
          "dow": 6,
          "volume": 0
         },
         {
          "DetectorId": 5302,
          "DetectorId1": 4320,
          "DetectorIdstring": "5302",
          "date": "2019-11-03",
          "dow": 6,
          "volume": 15404
         },
         {
          "DetectorId": 7901,
          "DetectorId1": 4320,
          "DetectorIdstring": "7901",
          "date": "2019-11-03",
          "dow": 6,
          "volume": 566222400
         },
         {
          "DetectorId": 59997,
          "DetectorId1": 4320,
          "DetectorIdstring": "59997",
          "date": "2019-11-03",
          "dow": 6,
          "volume": 46520
         },
         {
          "DetectorId": 5199,
          "DetectorId1": 4320,
          "DetectorIdstring": "5199",
          "date": "2019-11-04",
          "dow": 0,
          "volume": 0
         },
         {
          "DetectorId": 5302,
          "DetectorId1": 4320,
          "DetectorIdstring": "5302",
          "date": "2019-11-04",
          "dow": 0,
          "volume": 20628
         },
         {
          "DetectorId": 7901,
          "DetectorId1": 4320,
          "DetectorIdstring": "7901",
          "date": "2019-11-04",
          "dow": 0,
          "volume": 566222400
         },
         {
          "DetectorId": 59997,
          "DetectorId1": 4320,
          "DetectorIdstring": "59997",
          "date": "2019-11-04",
          "dow": 0,
          "volume": 4581413
         },
         {
          "DetectorId": 5199,
          "DetectorId1": 4320,
          "DetectorIdstring": "5199",
          "date": "2019-11-05",
          "dow": 1,
          "volume": 0
         },
         {
          "DetectorId": 5302,
          "DetectorId1": 4320,
          "DetectorIdstring": "5302",
          "date": "2019-11-05",
          "dow": 1,
          "volume": 545504
         },
         {
          "DetectorId": 7901,
          "DetectorId1": 4320,
          "DetectorIdstring": "7901",
          "date": "2019-11-05",
          "dow": 1,
          "volume": 566222400
         },
         {
          "DetectorId": 59997,
          "DetectorId1": 4320,
          "DetectorIdstring": "59997",
          "date": "2019-11-05",
          "dow": 1,
          "volume": 27162227
         },
         {
          "DetectorId": 5199,
          "DetectorId1": 4320,
          "DetectorIdstring": "5199",
          "date": "2019-11-06",
          "dow": 2,
          "volume": 0
         },
         {
          "DetectorId": 5302,
          "DetectorId1": 4320,
          "DetectorIdstring": "5302",
          "date": "2019-11-06",
          "dow": 2,
          "volume": 21608
         },
         {
          "DetectorId": 7901,
          "DetectorId1": 4320,
          "DetectorIdstring": "7901",
          "date": "2019-11-06",
          "dow": 2,
          "volume": 568188450
         },
         {
          "DetectorId": 59997,
          "DetectorId1": 4320,
          "DetectorIdstring": "59997",
          "date": "2019-11-06",
          "dow": 2,
          "volume": 0
         },
         {
          "DetectorId": 5199,
          "DetectorId1": 4320,
          "DetectorIdstring": "5199",
          "date": "2019-11-07",
          "dow": 3,
          "volume": 0
         },
         {
          "DetectorId": 5302,
          "DetectorId1": 4320,
          "DetectorIdstring": "5302",
          "date": "2019-11-07",
          "dow": 3,
          "volume": 546182
         },
         {
          "DetectorId": 7901,
          "DetectorId1": 4320,
          "DetectorIdstring": "7901",
          "date": "2019-11-07",
          "dow": 3,
          "volume": 566222400
         },
         {
          "DetectorId": 59997,
          "DetectorId1": 4320,
          "DetectorIdstring": "59997",
          "date": "2019-11-07",
          "dow": 3,
          "volume": 0
         },
         {
          "DetectorId": 5199,
          "DetectorId1": 4320,
          "DetectorIdstring": "5199",
          "date": "2019-11-08",
          "dow": 4,
          "volume": 0
         },
         {
          "DetectorId": 5302,
          "DetectorId1": 4320,
          "DetectorIdstring": "5302",
          "date": "2019-11-08",
          "dow": 4,
          "volume": 22775
         },
         {
          "DetectorId": 7901,
          "DetectorId1": 4320,
          "DetectorIdstring": "7901",
          "date": "2019-11-08",
          "dow": 4,
          "volume": 566222400
         },
         {
          "DetectorId": 59997,
          "DetectorId1": 4320,
          "DetectorIdstring": "59997",
          "date": "2019-11-08",
          "dow": 4,
          "volume": 0
         },
         {
          "DetectorId": 5199,
          "DetectorId1": 4290,
          "DetectorIdstring": "5199",
          "date": "2019-11-09",
          "dow": 5,
          "volume": 0
         },
         {
          "DetectorId": 5302,
          "DetectorId1": 4290,
          "DetectorIdstring": "5302",
          "date": "2019-11-09",
          "dow": 5,
          "volume": 19534
         },
         {
          "DetectorId": 7901,
          "DetectorId1": 4290,
          "DetectorIdstring": "7901",
          "date": "2019-11-09",
          "dow": 5,
          "volume": 562290300
         },
         {
          "DetectorId": 59997,
          "DetectorId1": 4290,
          "DetectorIdstring": "59997",
          "date": "2019-11-09",
          "dow": 5,
          "volume": 0
         },
         {
          "DetectorId": 5199,
          "DetectorId1": 4320,
          "DetectorIdstring": "5199",
          "date": "2019-11-10",
          "dow": 6,
          "volume": 0
         },
         {
          "DetectorId": 5302,
          "DetectorId1": 4320,
          "DetectorIdstring": "5302",
          "date": "2019-11-10",
          "dow": 6,
          "volume": 16583
         },
         {
          "DetectorId": 7901,
          "DetectorId1": 4320,
          "DetectorIdstring": "7901",
          "date": "2019-11-10",
          "dow": 6,
          "volume": 566222400
         },
         {
          "DetectorId": 59997,
          "DetectorId1": 4320,
          "DetectorIdstring": "59997",
          "date": "2019-11-10",
          "dow": 6,
          "volume": 0
         },
         {
          "DetectorId": 5199,
          "DetectorId1": 4320,
          "DetectorIdstring": "5199",
          "date": "2019-11-11",
          "dow": 0,
          "volume": 0
         },
         {
          "DetectorId": 5302,
          "DetectorId1": 4320,
          "DetectorIdstring": "5302",
          "date": "2019-11-11",
          "dow": 0,
          "volume": 279146
         },
         {
          "DetectorId": 7901,
          "DetectorId1": 4320,
          "DetectorIdstring": "7901",
          "date": "2019-11-11",
          "dow": 0,
          "volume": 566222400
         },
         {
          "DetectorId": 59997,
          "DetectorId1": 4320,
          "DetectorIdstring": "59997",
          "date": "2019-11-11",
          "dow": 0,
          "volume": 0
         },
         {
          "DetectorId": 5199,
          "DetectorId1": 4320,
          "DetectorIdstring": "5199",
          "date": "2019-11-12",
          "dow": 1,
          "volume": 0
         },
         {
          "DetectorId": 5302,
          "DetectorId1": 4320,
          "DetectorIdstring": "5302",
          "date": "2019-11-12",
          "dow": 1,
          "volume": 20649
         },
         {
          "DetectorId": 7901,
          "DetectorId1": 4320,
          "DetectorIdstring": "7901",
          "date": "2019-11-12",
          "dow": 1,
          "volume": 566222400
         },
         {
          "DetectorId": 59997,
          "DetectorId1": 4320,
          "DetectorIdstring": "59997",
          "date": "2019-11-12",
          "dow": 1,
          "volume": 0
         },
         {
          "DetectorId": 5199,
          "DetectorId1": 4320,
          "DetectorIdstring": "5199",
          "date": "2019-11-13",
          "dow": 2,
          "volume": 0
         },
         {
          "DetectorId": 5302,
          "DetectorId1": 4320,
          "DetectorIdstring": "5302",
          "date": "2019-11-13",
          "dow": 2,
          "volume": 21404
         },
         {
          "DetectorId": 7901,
          "DetectorId1": 4320,
          "DetectorIdstring": "7901",
          "date": "2019-11-13",
          "dow": 2,
          "volume": 566222400
         },
         {
          "DetectorId": 59997,
          "DetectorId1": 4320,
          "DetectorIdstring": "59997",
          "date": "2019-11-13",
          "dow": 2,
          "volume": 0
         },
         {
          "DetectorId": 5199,
          "DetectorId1": 4290,
          "DetectorIdstring": "5199",
          "date": "2019-11-14",
          "dow": 3,
          "volume": 0
         },
         {
          "DetectorId": 5302,
          "DetectorId1": 4290,
          "DetectorIdstring": "5302",
          "date": "2019-11-14",
          "dow": 3,
          "volume": 283057
         },
         {
          "DetectorId": 7901,
          "DetectorId1": 4290,
          "DetectorIdstring": "7901",
          "date": "2019-11-14",
          "dow": 3,
          "volume": 562290300
         },
         {
          "DetectorId": 59997,
          "DetectorId1": 4290,
          "DetectorIdstring": "59997",
          "date": "2019-11-14",
          "dow": 3,
          "volume": 0
         },
         {
          "DetectorId": 5199,
          "DetectorId1": 4320,
          "DetectorIdstring": "5199",
          "date": "2019-11-15",
          "dow": 4,
          "volume": 0
         },
         {
          "DetectorId": 5302,
          "DetectorId1": 4320,
          "DetectorIdstring": "5302",
          "date": "2019-11-15",
          "dow": 4,
          "volume": 1071373
         },
         {
          "DetectorId": 7901,
          "DetectorId1": 4320,
          "DetectorIdstring": "7901",
          "date": "2019-11-15",
          "dow": 4,
          "volume": 568188450
         },
         {
          "DetectorId": 59997,
          "DetectorId1": 4320,
          "DetectorIdstring": "59997",
          "date": "2019-11-15",
          "dow": 4,
          "volume": 196605
         },
         {
          "DetectorId": 5199,
          "DetectorId1": 4305,
          "DetectorIdstring": "5199",
          "date": "2019-11-16",
          "dow": 5,
          "volume": 0
         },
         {
          "DetectorId": 5302,
          "DetectorId1": 4305,
          "DetectorIdstring": "5302",
          "date": "2019-11-16",
          "dow": 5,
          "volume": 19191
         },
         {
          "DetectorId": 7901,
          "DetectorId1": 4305,
          "DetectorIdstring": "7901",
          "date": "2019-11-16",
          "dow": 5,
          "volume": 564256350
         },
         {
          "DetectorId": 59997,
          "DetectorId1": 4305,
          "DetectorIdstring": "59997",
          "date": "2019-11-16",
          "dow": 5,
          "volume": 0
         },
         {
          "DetectorId": 5199,
          "DetectorId1": 4320,
          "DetectorIdstring": "5199",
          "date": "2019-11-17",
          "dow": 6,
          "volume": 0
         },
         {
          "DetectorId": 5302,
          "DetectorId1": 4320,
          "DetectorIdstring": "5302",
          "date": "2019-11-17",
          "dow": 6,
          "volume": 16234
         },
         {
          "DetectorId": 7901,
          "DetectorId1": 4320,
          "DetectorIdstring": "7901",
          "date": "2019-11-17",
          "dow": 6,
          "volume": 566222400
         },
         {
          "DetectorId": 59997,
          "DetectorId1": 4320,
          "DetectorIdstring": "59997",
          "date": "2019-11-17",
          "dow": 6,
          "volume": 0
         },
         {
          "DetectorId": 5199,
          "DetectorId1": 4320,
          "DetectorIdstring": "5199",
          "date": "2019-11-18",
          "dow": 0,
          "volume": 0
         },
         {
          "DetectorId": 5302,
          "DetectorId1": 4320,
          "DetectorIdstring": "5302",
          "date": "2019-11-18",
          "dow": 0,
          "volume": 21042
         },
         {
          "DetectorId": 7901,
          "DetectorId1": 4320,
          "DetectorIdstring": "7901",
          "date": "2019-11-18",
          "dow": 0,
          "volume": 566222400
         },
         {
          "DetectorId": 59997,
          "DetectorId1": 4320,
          "DetectorIdstring": "59997",
          "date": "2019-11-18",
          "dow": 0,
          "volume": 0
         },
         {
          "DetectorId": 5199,
          "DetectorId1": 4320,
          "DetectorIdstring": "5199",
          "date": "2019-11-19",
          "dow": 1,
          "volume": 0
         },
         {
          "DetectorId": 5302,
          "DetectorId1": 4320,
          "DetectorIdstring": "5302",
          "date": "2019-11-19",
          "dow": 1,
          "volume": 21021
         },
         {
          "DetectorId": 7901,
          "DetectorId1": 4320,
          "DetectorIdstring": "7901",
          "date": "2019-11-19",
          "dow": 1,
          "volume": 566222400
         },
         {
          "DetectorId": 59997,
          "DetectorId1": 4320,
          "DetectorIdstring": "59997",
          "date": "2019-11-19",
          "dow": 1,
          "volume": 0
         },
         {
          "DetectorId": 5199,
          "DetectorId1": 4290,
          "DetectorIdstring": "5199",
          "date": "2019-11-20",
          "dow": 2,
          "volume": 0
         },
         {
          "DetectorId": 5302,
          "DetectorId1": 4290,
          "DetectorIdstring": "5302",
          "date": "2019-11-20",
          "dow": 2,
          "volume": 22890
         },
         {
          "DetectorId": 7901,
          "DetectorId1": 4290,
          "DetectorIdstring": "7901",
          "date": "2019-11-20",
          "dow": 2,
          "volume": 562290300
         },
         {
          "DetectorId": 59997,
          "DetectorId1": 4290,
          "DetectorIdstring": "59997",
          "date": "2019-11-20",
          "dow": 2,
          "volume": 0
         },
         {
          "DetectorId": 5199,
          "DetectorId1": 4305,
          "DetectorIdstring": "5199",
          "date": "2019-11-21",
          "dow": 3,
          "volume": 0
         },
         {
          "DetectorId": 5302,
          "DetectorId1": 4305,
          "DetectorIdstring": "5302",
          "date": "2019-11-21",
          "dow": 3,
          "volume": 21456
         },
         {
          "DetectorId": 7901,
          "DetectorId1": 4305,
          "DetectorIdstring": "7901",
          "date": "2019-11-21",
          "dow": 3,
          "volume": 564256350
         },
         {
          "DetectorId": 59997,
          "DetectorId1": 4305,
          "DetectorIdstring": "59997",
          "date": "2019-11-21",
          "dow": 3,
          "volume": 0
         },
         {
          "DetectorId": 5199,
          "DetectorId1": 4317,
          "DetectorIdstring": "5199",
          "date": "2019-11-22",
          "dow": 4,
          "volume": 0
         },
         {
          "DetectorId": 5302,
          "DetectorId1": 4317,
          "DetectorIdstring": "5302",
          "date": "2019-11-22",
          "dow": 4,
          "volume": 22849
         },
         {
          "DetectorId": 7901,
          "DetectorId1": 4317,
          "DetectorIdstring": "7901",
          "date": "2019-11-22",
          "dow": 4,
          "volume": 565829190
         },
         {
          "DetectorId": 59997,
          "DetectorId1": 4317,
          "DetectorIdstring": "59997",
          "date": "2019-11-22",
          "dow": 4,
          "volume": 0
         },
         {
          "DetectorId": 5199,
          "DetectorId1": 4320,
          "DetectorIdstring": "5199",
          "date": "2019-11-23",
          "dow": 5,
          "volume": 0
         },
         {
          "DetectorId": 5302,
          "DetectorId1": 4320,
          "DetectorIdstring": "5302",
          "date": "2019-11-23",
          "dow": 5,
          "volume": 19929
         },
         {
          "DetectorId": 7901,
          "DetectorId1": 4320,
          "DetectorIdstring": "7901",
          "date": "2019-11-23",
          "dow": 5,
          "volume": 566222400
         },
         {
          "DetectorId": 59997,
          "DetectorId1": 4320,
          "DetectorIdstring": "59997",
          "date": "2019-11-23",
          "dow": 5,
          "volume": 0
         },
         {
          "DetectorId": 5199,
          "DetectorId1": 4320,
          "DetectorIdstring": "5199",
          "date": "2019-11-24",
          "dow": 6,
          "volume": 0
         },
         {
          "DetectorId": 5302,
          "DetectorId1": 4320,
          "DetectorIdstring": "5302",
          "date": "2019-11-24",
          "dow": 6,
          "volume": 17132
         },
         {
          "DetectorId": 7901,
          "DetectorId1": 4320,
          "DetectorIdstring": "7901",
          "date": "2019-11-24",
          "dow": 6,
          "volume": 566222400
         },
         {
          "DetectorId": 59997,
          "DetectorId1": 4320,
          "DetectorIdstring": "59997",
          "date": "2019-11-24",
          "dow": 6,
          "volume": 0
         },
         {
          "DetectorId": 5199,
          "DetectorId1": 4320,
          "DetectorIdstring": "5199",
          "date": "2019-11-25",
          "dow": 0,
          "volume": 0
         },
         {
          "DetectorId": 5302,
          "DetectorId1": 4320,
          "DetectorIdstring": "5302",
          "date": "2019-11-25",
          "dow": 0,
          "volume": 21704
         },
         {
          "DetectorId": 7901,
          "DetectorId1": 4320,
          "DetectorIdstring": "7901",
          "date": "2019-11-25",
          "dow": 0,
          "volume": 566222400
         },
         {
          "DetectorId": 59997,
          "DetectorId1": 4320,
          "DetectorIdstring": "59997",
          "date": "2019-11-25",
          "dow": 0,
          "volume": 0
         },
         {
          "DetectorId": 5199,
          "DetectorId1": 4320,
          "DetectorIdstring": "5199",
          "date": "2019-11-26",
          "dow": 1,
          "volume": 0
         },
         {
          "DetectorId": 5302,
          "DetectorId1": 4320,
          "DetectorIdstring": "5302",
          "date": "2019-11-26",
          "dow": 1,
          "volume": 21692
         },
         {
          "DetectorId": 7901,
          "DetectorId1": 4320,
          "DetectorIdstring": "7901",
          "date": "2019-11-26",
          "dow": 1,
          "volume": 566222400
         },
         {
          "DetectorId": 59997,
          "DetectorId1": 4320,
          "DetectorIdstring": "59997",
          "date": "2019-11-26",
          "dow": 1,
          "volume": 0
         },
         {
          "DetectorId": 5199,
          "DetectorId1": 4320,
          "DetectorIdstring": "5199",
          "date": "2019-11-27",
          "dow": 2,
          "volume": 0
         },
         {
          "DetectorId": 5302,
          "DetectorId1": 4320,
          "DetectorIdstring": "5302",
          "date": "2019-11-27",
          "dow": 2,
          "volume": 22529
         },
         {
          "DetectorId": 7901,
          "DetectorId1": 4320,
          "DetectorIdstring": "7901",
          "date": "2019-11-27",
          "dow": 2,
          "volume": 566222400
         },
         {
          "DetectorId": 59997,
          "DetectorId1": 4320,
          "DetectorIdstring": "59997",
          "date": "2019-11-27",
          "dow": 2,
          "volume": 0
         },
         {
          "DetectorId": 5199,
          "DetectorId1": 4320,
          "DetectorIdstring": "5199",
          "date": "2019-11-28",
          "dow": 3,
          "volume": 0
         },
         {
          "DetectorId": 5302,
          "DetectorId1": 4320,
          "DetectorIdstring": "5302",
          "date": "2019-11-28",
          "dow": 3,
          "volume": 15056
         },
         {
          "DetectorId": 7901,
          "DetectorId1": 4320,
          "DetectorIdstring": "7901",
          "date": "2019-11-28",
          "dow": 3,
          "volume": 566222400
         },
         {
          "DetectorId": 59997,
          "DetectorId1": 4320,
          "DetectorIdstring": "59997",
          "date": "2019-11-28",
          "dow": 3,
          "volume": 0
         },
         {
          "DetectorId": 5199,
          "DetectorId1": 4320,
          "DetectorIdstring": "5199",
          "date": "2019-11-29",
          "dow": 4,
          "volume": 0
         },
         {
          "DetectorId": 5302,
          "DetectorId1": 4320,
          "DetectorIdstring": "5302",
          "date": "2019-11-29",
          "dow": 4,
          "volume": 17820
         },
         {
          "DetectorId": 7901,
          "DetectorId1": 4320,
          "DetectorIdstring": "7901",
          "date": "2019-11-29",
          "dow": 4,
          "volume": 566222400
         },
         {
          "DetectorId": 59997,
          "DetectorId1": 4320,
          "DetectorIdstring": "59997",
          "date": "2019-11-29",
          "dow": 4,
          "volume": 0
         },
         {
          "DetectorId": 5199,
          "DetectorId1": 4125,
          "DetectorIdstring": "5199",
          "date": "2019-11-30",
          "dow": 5,
          "volume": 0
         },
         {
          "DetectorId": 5302,
          "DetectorId1": 4125,
          "DetectorIdstring": "5302",
          "date": "2019-11-30",
          "dow": 5,
          "volume": 16950
         },
         {
          "DetectorId": 7901,
          "DetectorId1": 4125,
          "DetectorIdstring": "7901",
          "date": "2019-11-30",
          "dow": 5,
          "volume": 540663750
         },
         {
          "DetectorId": 59997,
          "DetectorId1": 4125,
          "DetectorIdstring": "59997",
          "date": "2019-11-30",
          "dow": 5,
          "volume": 0
         }
        ]
       },
       "encoding": {
        "color": {
         "field": "DetectorIdstring",
         "scale": {
          "domain": [
           "5199",
           "5302",
           "7901",
           "59997"
          ],
          "range": [
           "black",
           "blue",
           "green",
           "gold"
          ]
         },
         "type": "nominal"
        },
        "tooltip": [
         {
          "field": "date",
          "type": "nominal"
         },
         {
          "field": "volume",
          "type": "quantitative"
         },
         {
          "field": "DetectorId",
          "type": "quantitative"
         }
        ],
        "x": {
         "field": "date",
         "type": "nominal"
        },
        "y": {
         "field": "volume",
         "type": "quantitative"
        }
       },
       "mark": "line",
       "selection": {
        "selector018": {
         "bind": "scales",
         "encodings": [
          "x",
          "y"
         ],
         "mark": {
          "fill": "#333",
          "fillOpacity": 0.125,
          "stroke": "white"
         },
         "on": "[mousedown, window:mouseup] > window:mousemove!",
         "resolve": "global",
         "translate": "[mousedown, window:mouseup] > window:mousemove!",
         "type": "interval",
         "zoom": "wheel!"
        }
       }
      },
      "image/png": "[encoded data removed]",
      "text/plain": [
       "<VegaLite 2 object>\n",
       "\n",
       "If you see this message, it means the renderer has not been properly enabled\n",
       "for the frontend that you are using. For more information, see\n",
       "https://altair-viz.github.io/user_guide/troubleshooting.html\n"
      ]
     },
     "execution_count": 155,
     "metadata": {},
     "output_type": "execute_result"
    }
   ],
   "source": [
    "# CHART - time series for the four high volume sensors (legend all the way to right)\n",
    "# !note that dates are missing data altogether and the time interval between points is not always one day!\n",
    "\n",
    "source = LCSdow[LCSdow['DetectorIdstring'].isin(['5199','5302','7901','59997'])]\n",
    "\n",
    "base = alt.Chart(source)\n",
    "\n",
    "mean = base.mark_line().encode(\n",
    "    color=alt.Color('DetectorIdstring',scale=alt.Scale(domain=['5199', '5302', '7901', '59997'],\n",
    "                                   range=['black','blue','green','gold'])),\n",
    "    x='date',\n",
    "    y='volume',\n",
    "    tooltip=['date','volume','DetectorId']\n",
    ").interactive()\n",
    "\n",
    "mean"
   ]
  },
  {
   "cell_type": "code",
   "execution_count": 156,
   "metadata": {
    "Collapsed": "false"
   },
   "outputs": [
    {
     "data": {
      "text/html": [
       "<div>\n",
       "<style scoped>\n",
       "    .dataframe tbody tr th:only-of-type {\n",
       "        vertical-align: middle;\n",
       "    }\n",
       "\n",
       "    .dataframe tbody tr th {\n",
       "        vertical-align: top;\n",
       "    }\n",
       "\n",
       "    .dataframe thead th {\n",
       "        text-align: right;\n",
       "    }\n",
       "</style>\n",
       "<table border=\"1\" class=\"dataframe\">\n",
       "  <thead>\n",
       "    <tr style=\"text-align: right;\">\n",
       "      <th></th>\n",
       "      <th>Unnamed: 0</th>\n",
       "      <th>expressway</th>\n",
       "      <th>loc1</th>\n",
       "      <th>type1</th>\n",
       "      <th>id</th>\n",
       "      <th>direction</th>\n",
       "      <th>type2</th>\n",
       "      <th>location1</th>\n",
       "      <th>detectorid2</th>\n",
       "      <th>aadt</th>\n",
       "      <th>aadt18</th>\n",
       "      <th>aadt19</th>\n",
       "    </tr>\n",
       "  </thead>\n",
       "  <tbody>\n",
       "    <tr>\n",
       "      <th>637</th>\n",
       "      <td>1132</td>\n",
       "      <td>BISHOP FORD</td>\n",
       "      <td>MICH</td>\n",
       "      <td>2LCS</td>\n",
       "      <td>01610094W51056</td>\n",
       "      <td>W</td>\n",
       "      <td>2LCS</td>\n",
       "      <td>MICH</td>\n",
       "      <td>7901.0</td>\n",
       "      <td>48400.0</td>\n",
       "      <td>0.0</td>\n",
       "      <td>523586900.0</td>\n",
       "    </tr>\n",
       "  </tbody>\n",
       "</table>\n",
       "</div>"
      ],
      "text/plain": [
       "     Unnamed: 0    expressway  loc1 type1              id direction type2  \\\n",
       "637        1132   BISHOP FORD  MICH  2LCS  01610094W51056         W  2LCS   \n",
       "\n",
       "    location1  detectorid2     aadt  aadt18       aadt19  \n",
       "637      MICH       7901.0  48400.0     0.0  523586900.0  "
      ]
     },
     "execution_count": 156,
     "metadata": {},
     "output_type": "execute_result"
    }
   ],
   "source": [
    "# where?\n",
    "df[df['detectorid2'] == 7901]"
   ]
  },
  {
   "cell_type": "code",
   "execution_count": null,
   "metadata": {
    "Collapsed": "false"
   },
   "outputs": [],
   "source": []
  }
 ],
 "metadata": {
  "kernelspec": {
   "display_name": "Python 3",
   "language": "python",
   "name": "python3"
  },
  "language_info": {
   "codemirror_mode": {
    "name": "ipython",
    "version": 3
   },
   "file_extension": ".py",
   "mimetype": "text/x-python",
   "name": "python",
   "nbconvert_exporter": "python",
   "pygments_lexer": "ipython3",
   "version": "3.6.5"
  }
 },
 "nbformat": 4,
 "nbformat_minor": 4
}
